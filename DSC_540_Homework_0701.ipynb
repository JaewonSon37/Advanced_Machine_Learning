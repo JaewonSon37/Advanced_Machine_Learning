{
  "cells": [
    {
      "cell_type": "markdown",
      "metadata": {
        "id": "Ny6jCBCr4Zc-"
      },
      "source": [
        "# DSC540 Project 4"
      ]
    },
    {
      "cell_type": "code",
      "execution_count": 1,
      "metadata": {
        "colab": {
          "base_uri": "https://localhost:8080/"
        },
        "id": "T_FPbe90uN8O",
        "outputId": "bb14d4e9-17cf-4733-953b-b87ef873d1f7"
      },
      "outputs": [
        {
          "output_type": "stream",
          "name": "stdout",
          "text": [
            "Collecting pgmpy\n",
            "  Downloading pgmpy-0.1.25-py3-none-any.whl (2.0 MB)\n",
            "\u001b[2K     \u001b[90m━━━━━━━━━━━━━━━━━━━━━━━━━━━━━━━━━━━━━━━━\u001b[0m \u001b[32m2.0/2.0 MB\u001b[0m \u001b[31m11.8 MB/s\u001b[0m eta \u001b[36m0:00:00\u001b[0m\n",
            "\u001b[?25hRequirement already satisfied: networkx in /usr/local/lib/python3.10/dist-packages (from pgmpy) (3.3)\n",
            "Requirement already satisfied: numpy in /usr/local/lib/python3.10/dist-packages (from pgmpy) (1.25.2)\n",
            "Requirement already satisfied: scipy in /usr/local/lib/python3.10/dist-packages (from pgmpy) (1.11.4)\n",
            "Requirement already satisfied: scikit-learn in /usr/local/lib/python3.10/dist-packages (from pgmpy) (1.2.2)\n",
            "Requirement already satisfied: pandas in /usr/local/lib/python3.10/dist-packages (from pgmpy) (2.0.3)\n",
            "Requirement already satisfied: pyparsing in /usr/local/lib/python3.10/dist-packages (from pgmpy) (3.1.2)\n",
            "Requirement already satisfied: torch in /usr/local/lib/python3.10/dist-packages (from pgmpy) (2.3.0+cu121)\n",
            "Requirement already satisfied: statsmodels in /usr/local/lib/python3.10/dist-packages (from pgmpy) (0.14.2)\n",
            "Requirement already satisfied: tqdm in /usr/local/lib/python3.10/dist-packages (from pgmpy) (4.66.4)\n",
            "Requirement already satisfied: joblib in /usr/local/lib/python3.10/dist-packages (from pgmpy) (1.4.2)\n",
            "Requirement already satisfied: opt-einsum in /usr/local/lib/python3.10/dist-packages (from pgmpy) (3.3.0)\n",
            "Requirement already satisfied: python-dateutil>=2.8.2 in /usr/local/lib/python3.10/dist-packages (from pandas->pgmpy) (2.8.2)\n",
            "Requirement already satisfied: pytz>=2020.1 in /usr/local/lib/python3.10/dist-packages (from pandas->pgmpy) (2023.4)\n",
            "Requirement already satisfied: tzdata>=2022.1 in /usr/local/lib/python3.10/dist-packages (from pandas->pgmpy) (2024.1)\n",
            "Requirement already satisfied: threadpoolctl>=2.0.0 in /usr/local/lib/python3.10/dist-packages (from scikit-learn->pgmpy) (3.5.0)\n",
            "Requirement already satisfied: patsy>=0.5.6 in /usr/local/lib/python3.10/dist-packages (from statsmodels->pgmpy) (0.5.6)\n",
            "Requirement already satisfied: packaging>=21.3 in /usr/local/lib/python3.10/dist-packages (from statsmodels->pgmpy) (24.0)\n",
            "Requirement already satisfied: filelock in /usr/local/lib/python3.10/dist-packages (from torch->pgmpy) (3.14.0)\n",
            "Requirement already satisfied: typing-extensions>=4.8.0 in /usr/local/lib/python3.10/dist-packages (from torch->pgmpy) (4.11.0)\n",
            "Requirement already satisfied: sympy in /usr/local/lib/python3.10/dist-packages (from torch->pgmpy) (1.12)\n",
            "Requirement already satisfied: jinja2 in /usr/local/lib/python3.10/dist-packages (from torch->pgmpy) (3.1.4)\n",
            "Requirement already satisfied: fsspec in /usr/local/lib/python3.10/dist-packages (from torch->pgmpy) (2023.6.0)\n",
            "Collecting nvidia-cuda-nvrtc-cu12==12.1.105 (from torch->pgmpy)\n",
            "  Using cached nvidia_cuda_nvrtc_cu12-12.1.105-py3-none-manylinux1_x86_64.whl (23.7 MB)\n",
            "Collecting nvidia-cuda-runtime-cu12==12.1.105 (from torch->pgmpy)\n",
            "  Using cached nvidia_cuda_runtime_cu12-12.1.105-py3-none-manylinux1_x86_64.whl (823 kB)\n",
            "Collecting nvidia-cuda-cupti-cu12==12.1.105 (from torch->pgmpy)\n",
            "  Using cached nvidia_cuda_cupti_cu12-12.1.105-py3-none-manylinux1_x86_64.whl (14.1 MB)\n",
            "Collecting nvidia-cudnn-cu12==8.9.2.26 (from torch->pgmpy)\n",
            "  Using cached nvidia_cudnn_cu12-8.9.2.26-py3-none-manylinux1_x86_64.whl (731.7 MB)\n",
            "Collecting nvidia-cublas-cu12==12.1.3.1 (from torch->pgmpy)\n",
            "  Using cached nvidia_cublas_cu12-12.1.3.1-py3-none-manylinux1_x86_64.whl (410.6 MB)\n",
            "Collecting nvidia-cufft-cu12==11.0.2.54 (from torch->pgmpy)\n",
            "  Using cached nvidia_cufft_cu12-11.0.2.54-py3-none-manylinux1_x86_64.whl (121.6 MB)\n",
            "Collecting nvidia-curand-cu12==10.3.2.106 (from torch->pgmpy)\n",
            "  Using cached nvidia_curand_cu12-10.3.2.106-py3-none-manylinux1_x86_64.whl (56.5 MB)\n",
            "Collecting nvidia-cusolver-cu12==11.4.5.107 (from torch->pgmpy)\n",
            "  Using cached nvidia_cusolver_cu12-11.4.5.107-py3-none-manylinux1_x86_64.whl (124.2 MB)\n",
            "Collecting nvidia-cusparse-cu12==12.1.0.106 (from torch->pgmpy)\n",
            "  Using cached nvidia_cusparse_cu12-12.1.0.106-py3-none-manylinux1_x86_64.whl (196.0 MB)\n",
            "Collecting nvidia-nccl-cu12==2.20.5 (from torch->pgmpy)\n",
            "  Using cached nvidia_nccl_cu12-2.20.5-py3-none-manylinux2014_x86_64.whl (176.2 MB)\n",
            "Collecting nvidia-nvtx-cu12==12.1.105 (from torch->pgmpy)\n",
            "  Using cached nvidia_nvtx_cu12-12.1.105-py3-none-manylinux1_x86_64.whl (99 kB)\n",
            "Requirement already satisfied: triton==2.3.0 in /usr/local/lib/python3.10/dist-packages (from torch->pgmpy) (2.3.0)\n",
            "Collecting nvidia-nvjitlink-cu12 (from nvidia-cusolver-cu12==11.4.5.107->torch->pgmpy)\n",
            "  Downloading nvidia_nvjitlink_cu12-12.5.40-py3-none-manylinux2014_x86_64.whl (21.3 MB)\n",
            "\u001b[2K     \u001b[90m━━━━━━━━━━━━━━━━━━━━━━━━━━━━━━━━━━━━━━━━\u001b[0m \u001b[32m21.3/21.3 MB\u001b[0m \u001b[31m63.2 MB/s\u001b[0m eta \u001b[36m0:00:00\u001b[0m\n",
            "\u001b[?25hRequirement already satisfied: six in /usr/local/lib/python3.10/dist-packages (from patsy>=0.5.6->statsmodels->pgmpy) (1.16.0)\n",
            "Requirement already satisfied: MarkupSafe>=2.0 in /usr/local/lib/python3.10/dist-packages (from jinja2->torch->pgmpy) (2.1.5)\n",
            "Requirement already satisfied: mpmath>=0.19 in /usr/local/lib/python3.10/dist-packages (from sympy->torch->pgmpy) (1.3.0)\n",
            "Installing collected packages: nvidia-nvtx-cu12, nvidia-nvjitlink-cu12, nvidia-nccl-cu12, nvidia-curand-cu12, nvidia-cufft-cu12, nvidia-cuda-runtime-cu12, nvidia-cuda-nvrtc-cu12, nvidia-cuda-cupti-cu12, nvidia-cublas-cu12, nvidia-cusparse-cu12, nvidia-cudnn-cu12, nvidia-cusolver-cu12, pgmpy\n",
            "Successfully installed nvidia-cublas-cu12-12.1.3.1 nvidia-cuda-cupti-cu12-12.1.105 nvidia-cuda-nvrtc-cu12-12.1.105 nvidia-cuda-runtime-cu12-12.1.105 nvidia-cudnn-cu12-8.9.2.26 nvidia-cufft-cu12-11.0.2.54 nvidia-curand-cu12-10.3.2.106 nvidia-cusolver-cu12-11.4.5.107 nvidia-cusparse-cu12-12.1.0.106 nvidia-nccl-cu12-2.20.5 nvidia-nvjitlink-cu12-12.5.40 nvidia-nvtx-cu12-12.1.105 pgmpy-0.1.25\n"
          ]
        }
      ],
      "source": [
        "!pip install pgmpy\n",
        "\n",
        "import warnings\n",
        "warnings.simplefilter(action = \"ignore\", category = FutureWarning)\n",
        "\n",
        "import numpy as np\n",
        "import pandas as pd\n",
        "import seaborn as sns\n",
        "import matplotlib.pyplot as plt\n",
        "import pymc as pm\n",
        "import arviz as az\n",
        "\n",
        "from scipy import stats\n",
        "from scipy.stats import binom, gamma, beta, poisson\n",
        "from sklearn import metrics\n",
        "from pgmpy.models import BayesianModel\n",
        "from pgmpy.factors.discrete import TabularCPD\n",
        "\n",
        "%config InlineBackend.figure_format = 'retina'\n",
        "az.style.use(\"arviz-darkgrid\")"
      ]
    },
    {
      "cell_type": "markdown",
      "metadata": {
        "id": "wERSs-y44ZdC"
      },
      "source": [
        "## Q1 [10]"
      ]
    },
    {
      "cell_type": "markdown",
      "metadata": {
        "id": "7i4YipQ64ZdC"
      },
      "source": [
        "A drug company would like to introduce a drug to help patients with Alzheimer's. It is desirable to estimate $θ$, the proportion of the market share that this drug will capture.\n",
        "- The company interviews 100 people and 15 of them say that they will buy the drug. (This the observed data: n=100, observed=15) $->$ likelihood\n",
        "- If in the past new drugs tend to capture a proportion between say .10 and .40 of the market, and if all values in between are assumed equally likely, then $θ ∼ Unif(0.10, 0.40)$ $->$ prior"
      ]
    },
    {
      "cell_type": "markdown",
      "metadata": {
        "id": "4zEIxwLb4ZdD"
      },
      "source": [
        "**What is the traceplot of $\\theta$ using Bayesian analysis to estimate the market share for the new drug?**\n",
        "- Sample 10000 draws\n",
        "- Plot the traceplot\n",
        "- Plot the posterior distribution plot of $ \\theta $\n",
        "- What is the mean posterior value?"
      ]
    },
    {
      "cell_type": "code",
      "execution_count": 2,
      "metadata": {
        "colab": {
          "base_uri": "https://localhost:8080/",
          "height": 152
        },
        "id": "wufusf_X4ZdE",
        "outputId": "8f97730a-01eb-4cc6-8a89-d5ee6fa56dab"
      },
      "outputs": [
        {
          "output_type": "display_data",
          "data": {
            "text/plain": [
              "<IPython.core.display.HTML object>"
            ],
            "text/html": [
              "\n",
              "<style>\n",
              "    /* Turns off some styling */\n",
              "    progress {\n",
              "        /* gets rid of default border in Firefox and Opera. */\n",
              "        border: none;\n",
              "        /* Needs to be in here for Safari polyfill so background images work as expected. */\n",
              "        background-size: auto;\n",
              "    }\n",
              "    progress:not([value]), progress:not([value])::-webkit-progress-bar {\n",
              "        background: repeating-linear-gradient(45deg, #7e7e7e, #7e7e7e 10px, #5c5c5c 10px, #5c5c5c 20px);\n",
              "    }\n",
              "    .progress-bar-interrupted, .progress-bar-interrupted::-webkit-progress-bar {\n",
              "        background: #F44336;\n",
              "    }\n",
              "</style>\n"
            ]
          },
          "metadata": {}
        },
        {
          "output_type": "display_data",
          "data": {
            "text/plain": [
              "<IPython.core.display.HTML object>"
            ],
            "text/html": [
              "\n",
              "    <div>\n",
              "      <progress value='11000' class='' max='11000' style='width:300px; height:20px; vertical-align: middle;'></progress>\n",
              "      100.00% [11000/11000 00:05&lt;00:00 Sampling chain 0, 0 divergences]\n",
              "    </div>\n",
              "    "
            ]
          },
          "metadata": {}
        },
        {
          "output_type": "display_data",
          "data": {
            "text/plain": [
              "<IPython.core.display.HTML object>"
            ],
            "text/html": [
              "\n",
              "<style>\n",
              "    /* Turns off some styling */\n",
              "    progress {\n",
              "        /* gets rid of default border in Firefox and Opera. */\n",
              "        border: none;\n",
              "        /* Needs to be in here for Safari polyfill so background images work as expected. */\n",
              "        background-size: auto;\n",
              "    }\n",
              "    progress:not([value]), progress:not([value])::-webkit-progress-bar {\n",
              "        background: repeating-linear-gradient(45deg, #7e7e7e, #7e7e7e 10px, #5c5c5c 10px, #5c5c5c 20px);\n",
              "    }\n",
              "    .progress-bar-interrupted, .progress-bar-interrupted::-webkit-progress-bar {\n",
              "        background: #F44336;\n",
              "    }\n",
              "</style>\n"
            ]
          },
          "metadata": {}
        },
        {
          "output_type": "display_data",
          "data": {
            "text/plain": [
              "<IPython.core.display.HTML object>"
            ],
            "text/html": [
              "\n",
              "    <div>\n",
              "      <progress value='11000' class='' max='11000' style='width:300px; height:20px; vertical-align: middle;'></progress>\n",
              "      100.00% [11000/11000 00:06&lt;00:00 Sampling chain 1, 0 divergences]\n",
              "    </div>\n",
              "    "
            ]
          },
          "metadata": {}
        },
        {
          "output_type": "display_data",
          "data": {
            "text/plain": [
              "<IPython.core.display.HTML object>"
            ],
            "text/html": [
              "\n",
              "<style>\n",
              "    /* Turns off some styling */\n",
              "    progress {\n",
              "        /* gets rid of default border in Firefox and Opera. */\n",
              "        border: none;\n",
              "        /* Needs to be in here for Safari polyfill so background images work as expected. */\n",
              "        background-size: auto;\n",
              "    }\n",
              "    progress:not([value]), progress:not([value])::-webkit-progress-bar {\n",
              "        background: repeating-linear-gradient(45deg, #7e7e7e, #7e7e7e 10px, #5c5c5c 10px, #5c5c5c 20px);\n",
              "    }\n",
              "    .progress-bar-interrupted, .progress-bar-interrupted::-webkit-progress-bar {\n",
              "        background: #F44336;\n",
              "    }\n",
              "</style>\n"
            ]
          },
          "metadata": {}
        },
        {
          "output_type": "display_data",
          "data": {
            "text/plain": [
              "<IPython.core.display.HTML object>"
            ],
            "text/html": [
              "\n",
              "    <div>\n",
              "      <progress value='11000' class='' max='11000' style='width:300px; height:20px; vertical-align: middle;'></progress>\n",
              "      100.00% [11000/11000 00:05&lt;00:00 Sampling chain 2, 0 divergences]\n",
              "    </div>\n",
              "    "
            ]
          },
          "metadata": {}
        },
        {
          "output_type": "display_data",
          "data": {
            "text/plain": [
              "<IPython.core.display.HTML object>"
            ],
            "text/html": [
              "\n",
              "<style>\n",
              "    /* Turns off some styling */\n",
              "    progress {\n",
              "        /* gets rid of default border in Firefox and Opera. */\n",
              "        border: none;\n",
              "        /* Needs to be in here for Safari polyfill so background images work as expected. */\n",
              "        background-size: auto;\n",
              "    }\n",
              "    progress:not([value]), progress:not([value])::-webkit-progress-bar {\n",
              "        background: repeating-linear-gradient(45deg, #7e7e7e, #7e7e7e 10px, #5c5c5c 10px, #5c5c5c 20px);\n",
              "    }\n",
              "    .progress-bar-interrupted, .progress-bar-interrupted::-webkit-progress-bar {\n",
              "        background: #F44336;\n",
              "    }\n",
              "</style>\n"
            ]
          },
          "metadata": {}
        },
        {
          "output_type": "display_data",
          "data": {
            "text/plain": [
              "<IPython.core.display.HTML object>"
            ],
            "text/html": [
              "\n",
              "    <div>\n",
              "      <progress value='11000' class='' max='11000' style='width:300px; height:20px; vertical-align: middle;'></progress>\n",
              "      100.00% [11000/11000 00:07&lt;00:00 Sampling chain 3, 0 divergences]\n",
              "    </div>\n",
              "    "
            ]
          },
          "metadata": {}
        },
        {
          "output_type": "stream",
          "name": "stderr",
          "text": [
            "/usr/local/lib/python3.10/dist-packages/arviz/utils.py:184: NumbaDeprecationWarning: The 'nopython' keyword argument was not supplied to the 'numba.jit' decorator. The implicit default value for this argument is currently False, but it will be changed to True in Numba 0.59.0. See https://numba.readthedocs.io/en/stable/reference/deprecation.html#deprecation-of-object-mode-fall-back-behaviour-when-using-jit for details.\n",
            "  numba_fn = numba.jit(**self.kwargs)(self.function)\n"
          ]
        }
      ],
      "source": [
        "with pm.Model() as model:\n",
        "    theta = pm.Uniform(\"theta\", lower = 0.10, upper = 0.40)\n",
        "    x = pm.Binomial(name = \"observations\", n = 100, p = theta, observed = 15)\n",
        "    trace = pm.sample(draws = 10000, tune = 1000, chains = 4)"
      ]
    },
    {
      "cell_type": "code",
      "execution_count": 3,
      "metadata": {
        "colab": {
          "base_uri": "https://localhost:8080/",
          "height": 283
        },
        "id": "FE9glClOuN8T",
        "outputId": "19f73adc-13d9-43a1-9d3b-1fc8dfd2cff7"
      },
      "outputs": [
        {
          "output_type": "stream",
          "name": "stderr",
          "text": [
            "/usr/local/lib/python3.10/dist-packages/arviz/utils.py:184: NumbaDeprecationWarning: The 'nopython' keyword argument was not supplied to the 'numba.jit' decorator. The implicit default value for this argument is currently False, but it will be changed to True in Numba 0.59.0. See https://numba.readthedocs.io/en/stable/reference/deprecation.html#deprecation-of-object-mode-fall-back-behaviour-when-using-jit for details.\n",
            "  numba_fn = numba.jit(**self.kwargs)(self.function)\n"
          ]
        },
        {
          "output_type": "display_data",
          "data": {
            "text/plain": [
              "<Figure size 1200x200 with 2 Axes>"
            ],
            "image/png": "[encoded data removed]"
          },
          "metadata": {
            "image/png": {
              "width": 1211,
              "height": 211
            }
          }
        }
      ],
      "source": [
        "with model:\n",
        "      az.plot_trace(trace)"
      ]
    },
    {
      "cell_type": "code",
      "execution_count": 4,
      "metadata": {
        "colab": {
          "base_uri": "https://localhost:8080/",
          "height": 508
        },
        "id": "4FkYrw8p4ZdG",
        "outputId": "fbb57254-4618-4fd5-b015-f1ae1024d9c4"
      },
      "outputs": [
        {
          "output_type": "display_data",
          "data": {
            "text/plain": [
              "<Figure size 720x480 with 1 Axes>"
            ],
            "image/png": "[encoded data removed]"
          },
          "metadata": {
            "image/png": {
              "width": 731,
              "height": 491
            }
          }
        }
      ],
      "source": [
        "with model:\n",
        "  az.plot_posterior(trace)"
      ]
    },
    {
      "cell_type": "markdown",
      "metadata": {
        "id": "hjyznce67lh9"
      },
      "source": [
        "A. The mean posterior value is 0.16"
      ]
    },
    {
      "cell_type": "markdown",
      "metadata": {
        "id": "SMYWranw4ZdI"
      },
      "source": [
        "## Q2 [10]\n",
        "\n",
        "**Define the model structure.**"
      ]
    },
    {
      "cell_type": "code",
      "execution_count": 5,
      "metadata": {
        "colab": {
          "base_uri": "https://localhost:8080/"
        },
        "id": "DuZKyiNE4ZdI",
        "outputId": "84f4d31a-ba69-4b4d-ae75-7071a28581f9"
      },
      "outputs": [
        {
          "output_type": "stream",
          "name": "stderr",
          "text": [
            "WARNING:pgmpy:BayesianModel has been renamed to BayesianNetwork. Please use BayesianNetwork class, BayesianModel will be removed in future.\n"
          ]
        }
      ],
      "source": [
        "model = BayesianModel([('Smokes', 'LungDisease'), ('LungDisease', 'ShortnessOfBreath'), ('LungDisease', 'ChestPain'), ('LungDisease', 'Cough'), ('Cold', 'Cough'), ('Cold', 'Fever')])"
      ]
    },
    {
      "cell_type": "markdown",
      "metadata": {
        "id": "Pwm6O-Hh4ZdI"
      },
      "source": [
        "## Q3 [15]\n",
        "\n",
        "**Define individual CPDs**\n",
        "- Define the CPDs using the state names of the variables."
      ]
    },
    {
      "cell_type": "code",
      "execution_count": 6,
      "metadata": {
        "colab": {
          "base_uri": "https://localhost:8080/"
        },
        "id": "UJUNgseY4ZdI",
        "outputId": "d1918d5c-e47c-452a-adca-3def7ba0d6dc",
        "scrolled": true
      },
      "outputs": [
        {
          "output_type": "stream",
          "name": "stdout",
          "text": [
            "+-----------+-----+\n",
            "| Smokes(T) | 0.2 |\n",
            "+-----------+-----+\n",
            "| Smokes(F) | 0.8 |\n",
            "+-----------+-----+\n",
            "+----------------+-----------+-----------+\n",
            "| Smokes         | Smokes(T) | Smokes(F) |\n",
            "+----------------+-----------+-----------+\n",
            "| LungDisease(T) | 0.1009    | 0.001     |\n",
            "+----------------+-----------+-----------+\n",
            "| LungDisease(F) | 0.8991    | 0.999     |\n",
            "+----------------+-----------+-----------+\n"
          ]
        }
      ],
      "source": [
        "cpd_smokes = TabularCPD(variable = 'Smokes',\n",
        "                        variable_card = 2,\n",
        "                        values = [[0.2], [0.8]],\n",
        "                        state_names = {'Smokes': ['T', 'F']})\n",
        "print(cpd_smokes)\n",
        "\n",
        "cpd_lungdisease = TabularCPD(variable = 'LungDisease',\n",
        "                             variable_card = 2,\n",
        "                             values = [[0.1009, 0.001],\n",
        "                                       [0.8991, 0.999]],\n",
        "                             evidence = ['Smokes'],\n",
        "                             evidence_card = [2],\n",
        "                             state_names = {'Smokes': ['T', 'F'], 'LungDisease': ['T', 'F']})\n",
        "print(cpd_lungdisease)"
      ]
    },
    {
      "cell_type": "code",
      "execution_count": 7,
      "metadata": {
        "id": "LyXKlqQd4ZdJ"
      },
      "outputs": [],
      "source": [
        "cpd_cold = TabularCPD(variable = 'Cold',\n",
        "                      variable_card = 2,\n",
        "                      values = [[0.02], [0.98]],\n",
        "                      state_names = {'Cold': ['T', 'F']})\n",
        "\n",
        "cpd_fever = TabularCPD(variable = 'Fever',\n",
        "                       variable_card = 2,\n",
        "                       values = [[0.307, 0.01],\n",
        "                                 [0.693, 0.99]],\n",
        "                       evidence = ['Cold'],\n",
        "                       evidence_card = [2],\n",
        "                       state_names = {'Cold': ['T', 'F'], 'Fever': ['T', 'F']})\n",
        "\n",
        "cpd_chestpain = TabularCPD(variable = 'ChestPain',\n",
        "                             variable_card = 2,\n",
        "                             values = [[0.208, 0.01],\n",
        "                                       [0.792, 0.99]],\n",
        "                             evidence = ['LungDisease'],\n",
        "                             evidence_card = [2],\n",
        "                             state_names = {'LungDisease': ['T', 'F'], 'ChestPain': ['T', 'F']})\n",
        "\n",
        "cpd_shortnessofbreath = TabularCPD(variable = 'ShortnessOfBreath',\n",
        "                                     variable_card = 2,\n",
        "                                     values = [[0.208, 0.01],\n",
        "                                               [0.792, 0.99]],\n",
        "                                     evidence = ['LungDisease'],\n",
        "                                     evidence_card = [2],\n",
        "                                     state_names = {'LungDisease': ['T', 'F'], 'ShortnessOfBreath': ['T', 'F']})\n",
        "\n",
        "cpd_cough = TabularCPD(variable = 'Cough',\n",
        "                       variable_card = 2,\n",
        "                       values=[[0.7525, 0.505, 0.505, 0.01],\n",
        "                               [0.2475, 0.495, 0.495, 0.99]],\n",
        "                       evidence = ['LungDisease', 'Cold'],\n",
        "                       evidence_card = [2, 2],\n",
        "                       state_names = {'LungDisease': ['T', 'F'], 'Cold': ['T', 'F'], 'Cough': ['T', 'F']})"
      ]
    },
    {
      "cell_type": "markdown",
      "metadata": {
        "id": "50aDWreS4ZdJ"
      },
      "source": [
        "## Q4 [5]\n",
        "**Check that each of the CPDs are correct**"
      ]
    },
    {
      "cell_type": "code",
      "execution_count": 8,
      "metadata": {
        "colab": {
          "base_uri": "https://localhost:8080/"
        },
        "id": "nPDKbpSA4ZdJ",
        "outputId": "d533f000-015c-4f3a-b8d5-b00bcecda2c5"
      },
      "outputs": [
        {
          "output_type": "execute_result",
          "data": {
            "text/plain": [
              "<TabularCPD representing P(Smokes:2) at 0x7b88e6fbe8f0>"
            ]
          },
          "metadata": {},
          "execution_count": 8
        }
      ],
      "source": [
        "cpd_smokes"
      ]
    },
    {
      "cell_type": "code",
      "execution_count": 9,
      "metadata": {
        "colab": {
          "base_uri": "https://localhost:8080/"
        },
        "id": "WftTD8Rj4ZdJ",
        "outputId": "eaefce34-d6d5-4fc3-a383-2b8c1842fae9"
      },
      "outputs": [
        {
          "output_type": "stream",
          "name": "stdout",
          "text": [
            "+-----------+-----+\n",
            "| Smokes(T) | 0.2 |\n",
            "+-----------+-----+\n",
            "| Smokes(F) | 0.8 |\n",
            "+-----------+-----+\n"
          ]
        }
      ],
      "source": [
        "print(cpd_smokes)"
      ]
    },
    {
      "cell_type": "code",
      "execution_count": 10,
      "metadata": {
        "colab": {
          "base_uri": "https://localhost:8080/"
        },
        "id": "m0gYPs5m4ZdK",
        "outputId": "cde5d0f1-685e-4b72-ce7f-bc7c3d7d83ed"
      },
      "outputs": [
        {
          "output_type": "stream",
          "name": "stdout",
          "text": [
            "+-----------+-----+\n",
            "| Smokes(T) | 0.2 |\n",
            "+-----------+-----+\n",
            "| Smokes(F) | 0.8 |\n",
            "+-----------+-----+\n",
            "+----------------+-----------+-----------+\n",
            "| Smokes         | Smokes(T) | Smokes(F) |\n",
            "+----------------+-----------+-----------+\n",
            "| LungDisease(T) | 0.1009    | 0.001     |\n",
            "+----------------+-----------+-----------+\n",
            "| LungDisease(F) | 0.8991    | 0.999     |\n",
            "+----------------+-----------+-----------+\n",
            "+---------+------+\n",
            "| Cold(T) | 0.02 |\n",
            "+---------+------+\n",
            "| Cold(F) | 0.98 |\n",
            "+---------+------+\n",
            "+----------+---------+---------+\n",
            "| Cold     | Cold(T) | Cold(F) |\n",
            "+----------+---------+---------+\n",
            "| Fever(T) | 0.307   | 0.01    |\n",
            "+----------+---------+---------+\n",
            "| Fever(F) | 0.693   | 0.99    |\n",
            "+----------+---------+---------+\n",
            "+--------------+----------------+----------------+\n",
            "| LungDisease  | LungDisease(T) | LungDisease(F) |\n",
            "+--------------+----------------+----------------+\n",
            "| ChestPain(T) | 0.208          | 0.01           |\n",
            "+--------------+----------------+----------------+\n",
            "| ChestPain(F) | 0.792          | 0.99           |\n",
            "+--------------+----------------+----------------+\n",
            "+----------------------+----------------+----------------+\n",
            "| LungDisease          | LungDisease(T) | LungDisease(F) |\n",
            "+----------------------+----------------+----------------+\n",
            "| ShortnessOfBreath(T) | 0.208          | 0.01           |\n",
            "+----------------------+----------------+----------------+\n",
            "| ShortnessOfBreath(F) | 0.792          | 0.99           |\n",
            "+----------------------+----------------+----------------+\n",
            "+-------------+----------------+----------------+----------------+----------------+\n",
            "| LungDisease | LungDisease(T) | LungDisease(T) | LungDisease(F) | LungDisease(F) |\n",
            "+-------------+----------------+----------------+----------------+----------------+\n",
            "| Cold        | Cold(T)        | Cold(F)        | Cold(T)        | Cold(F)        |\n",
            "+-------------+----------------+----------------+----------------+----------------+\n",
            "| Cough(T)    | 0.7525         | 0.505          | 0.505          | 0.01           |\n",
            "+-------------+----------------+----------------+----------------+----------------+\n",
            "| Cough(F)    | 0.2475         | 0.495          | 0.495          | 0.99           |\n",
            "+-------------+----------------+----------------+----------------+----------------+\n"
          ]
        }
      ],
      "source": [
        "print(cpd_smokes)\n",
        "print(cpd_lungdisease)\n",
        "print(cpd_cold)\n",
        "print(cpd_fever)\n",
        "print(cpd_chestpain)\n",
        "print(cpd_shortnessofbreath)\n",
        "print(cpd_cough)"
      ]
    },
    {
      "cell_type": "markdown",
      "metadata": {
        "id": "_ZcpGvWf4ZdK"
      },
      "source": [
        "## Q5 [5]\n",
        "**Add the defined CPDs to the model (Associate the CPDs with the network)**"
      ]
    },
    {
      "cell_type": "code",
      "execution_count": 11,
      "metadata": {
        "colab": {
          "base_uri": "https://localhost:8080/"
        },
        "id": "HqoM70LlBOm3",
        "outputId": "2b892063-e22b-4469-a307-18ef8d5ff81b"
      },
      "outputs": [
        {
          "output_type": "execute_result",
          "data": {
            "text/plain": [
              "True"
            ]
          },
          "metadata": {},
          "execution_count": 11
        }
      ],
      "source": [
        "model.add_cpds(cpd_cold, cpd_fever, cpd_lungdisease, cpd_chestpain, cpd_shortnessofbreath, cpd_cough, cpd_smokes)\n",
        "model.check_model()"
      ]
    },
    {
      "cell_type": "markdown",
      "metadata": {
        "id": "-u2byYEF4ZdL"
      },
      "source": [
        "## Q6 [5]\n",
        "**The cardinality of each of the nodes is 2 - True or False?**"
      ]
    },
    {
      "cell_type": "code",
      "execution_count": 12,
      "metadata": {
        "colab": {
          "base_uri": "https://localhost:8080/"
        },
        "id": "-d--TkB44ZdL",
        "outputId": "877c4898-c75c-4ce6-bb2b-8ebe9e73bed4"
      },
      "outputs": [
        {
          "output_type": "execute_result",
          "data": {
            "text/plain": [
              "defaultdict(int,\n",
              "            {'Cold': 2,\n",
              "             'Fever': 2,\n",
              "             'LungDisease': 2,\n",
              "             'ChestPain': 2,\n",
              "             'ShortnessOfBreath': 2,\n",
              "             'Cough': 2,\n",
              "             'Smokes': 2})"
            ]
          },
          "metadata": {},
          "execution_count": 12
        }
      ],
      "source": [
        "model.get_cardinality()"
      ]
    },
    {
      "cell_type": "markdown",
      "metadata": {
        "id": "nCErvoDIDmQK"
      },
      "source": [
        "The statement 'The cardinality of each of the nodes is 2' is true."
      ]
    },
    {
      "cell_type": "markdown",
      "metadata": {
        "id": "MgrNYYsq4ZdM"
      },
      "source": [
        "### Q7 [10]\n",
        "**Find the probability of each event hapenning using the variable elimination method.**\n",
        "- $ P(Smokes) $\n",
        "- $ P(Cold) $\n",
        "- $ P(LungDisease) $\n",
        "- $ P(ShortnessBreath) $\n",
        "- $ P(ChestPain) $\n",
        "- $ P(Fever) $\n",
        "- $ P(Cough) $\n",
        "- $ P(LungDisease|Smokes=True) $\n",
        "- $ P(LungDisease|Cough=True) $\n",
        "- $ P(ShortnessBreath|Smokes=True) $\n",
        "- $ P(ChestPain|Fever=True) $"
      ]
    },
    {
      "cell_type": "code",
      "execution_count": 13,
      "metadata": {
        "id": "D8bG-aew4ZdM"
      },
      "outputs": [],
      "source": [
        "from pgmpy.inference import VariableElimination\n",
        "infer = VariableElimination(model)"
      ]
    },
    {
      "cell_type": "code",
      "execution_count": 14,
      "metadata": {
        "colab": {
          "base_uri": "https://localhost:8080/"
        },
        "id": "SdKw7cT74ZdN",
        "outputId": "b3f96a04-f804-4bcc-bee7-093df996ea82"
      },
      "outputs": [
        {
          "output_type": "stream",
          "name": "stderr",
          "text": [
            "WARNING:pgmpy:BayesianModel has been renamed to BayesianNetwork. Please use BayesianNetwork class, BayesianModel will be removed in future.\n",
            "WARNING:pgmpy:BayesianModel has been renamed to BayesianNetwork. Please use BayesianNetwork class, BayesianModel will be removed in future.\n",
            "WARNING:pgmpy:BayesianModel has been renamed to BayesianNetwork. Please use BayesianNetwork class, BayesianModel will be removed in future.\n",
            "WARNING:pgmpy:BayesianModel has been renamed to BayesianNetwork. Please use BayesianNetwork class, BayesianModel will be removed in future.\n",
            "WARNING:pgmpy:BayesianModel has been renamed to BayesianNetwork. Please use BayesianNetwork class, BayesianModel will be removed in future.\n",
            "WARNING:pgmpy:BayesianModel has been renamed to BayesianNetwork. Please use BayesianNetwork class, BayesianModel will be removed in future.\n",
            "WARNING:pgmpy:BayesianModel has been renamed to BayesianNetwork. Please use BayesianNetwork class, BayesianModel will be removed in future.\n",
            "WARNING:pgmpy:BayesianModel has been renamed to BayesianNetwork. Please use BayesianNetwork class, BayesianModel will be removed in future.\n",
            "WARNING:pgmpy:BayesianModel has been renamed to BayesianNetwork. Please use BayesianNetwork class, BayesianModel will be removed in future.\n",
            "WARNING:pgmpy:BayesianModel has been renamed to BayesianNetwork. Please use BayesianNetwork class, BayesianModel will be removed in future.\n",
            "WARNING:pgmpy:BayesianModel has been renamed to BayesianNetwork. Please use BayesianNetwork class, BayesianModel will be removed in future.\n",
            "WARNING:pgmpy:BayesianModel has been renamed to BayesianNetwork. Please use BayesianNetwork class, BayesianModel will be removed in future.\n",
            "WARNING:pgmpy:BayesianModel has been renamed to BayesianNetwork. Please use BayesianNetwork class, BayesianModel will be removed in future.\n",
            "WARNING:pgmpy:BayesianModel has been renamed to BayesianNetwork. Please use BayesianNetwork class, BayesianModel will be removed in future.\n",
            "WARNING:pgmpy:BayesianModel has been renamed to BayesianNetwork. Please use BayesianNetwork class, BayesianModel will be removed in future.\n",
            "WARNING:pgmpy:BayesianModel has been renamed to BayesianNetwork. Please use BayesianNetwork class, BayesianModel will be removed in future.\n",
            "WARNING:pgmpy:BayesianModel has been renamed to BayesianNetwork. Please use BayesianNetwork class, BayesianModel will be removed in future.\n",
            "WARNING:pgmpy:BayesianModel has been renamed to BayesianNetwork. Please use BayesianNetwork class, BayesianModel will be removed in future.\n",
            "WARNING:pgmpy:BayesianModel has been renamed to BayesianNetwork. Please use BayesianNetwork class, BayesianModel will be removed in future.\n",
            "WARNING:pgmpy:BayesianModel has been renamed to BayesianNetwork. Please use BayesianNetwork class, BayesianModel will be removed in future.\n",
            "WARNING:pgmpy:BayesianModel has been renamed to BayesianNetwork. Please use BayesianNetwork class, BayesianModel will be removed in future.\n",
            "WARNING:pgmpy:BayesianModel has been renamed to BayesianNetwork. Please use BayesianNetwork class, BayesianModel will be removed in future.\n"
          ]
        },
        {
          "output_type": "stream",
          "name": "stdout",
          "text": [
            "P(Smokes):\n",
            " +-----------+---------------+\n",
            "| Smokes    |   phi(Smokes) |\n",
            "+===========+===============+\n",
            "| Smokes(T) |        0.2000 |\n",
            "+-----------+---------------+\n",
            "| Smokes(F) |        0.8000 |\n",
            "+-----------+---------------+\n",
            "P(Cold):\n",
            " +---------+-------------+\n",
            "| Cold    |   phi(Cold) |\n",
            "+=========+=============+\n",
            "| Cold(T) |      0.0200 |\n",
            "+---------+-------------+\n",
            "| Cold(F) |      0.9800 |\n",
            "+---------+-------------+\n",
            "P(LungDisease):\n",
            " +----------------+--------------------+\n",
            "| LungDisease    |   phi(LungDisease) |\n",
            "+================+====================+\n",
            "| LungDisease(T) |             0.0210 |\n",
            "+----------------+--------------------+\n",
            "| LungDisease(F) |             0.9790 |\n",
            "+----------------+--------------------+\n",
            "P(ShortnessOfBreath):\n",
            " +----------------------+--------------------------+\n",
            "| ShortnessOfBreath    |   phi(ShortnessOfBreath) |\n",
            "+======================+==========================+\n",
            "| ShortnessOfBreath(T) |                   0.0142 |\n",
            "+----------------------+--------------------------+\n",
            "| ShortnessOfBreath(F) |                   0.9858 |\n",
            "+----------------------+--------------------------+\n",
            "P(ChestPain):\n",
            " +--------------+------------------+\n",
            "| ChestPain    |   phi(ChestPain) |\n",
            "+==============+==================+\n",
            "| ChestPain(T) |           0.0142 |\n",
            "+--------------+------------------+\n",
            "| ChestPain(F) |           0.9858 |\n",
            "+--------------+------------------+\n",
            "P(Fever):\n",
            " +----------+--------------+\n",
            "| Fever    |   phi(Fever) |\n",
            "+==========+==============+\n",
            "| Fever(T) |       0.0159 |\n",
            "+----------+--------------+\n",
            "| Fever(F) |       0.9841 |\n",
            "+----------+--------------+\n",
            "P(Cough):\n",
            " +----------+--------------+\n",
            "| Cough    |   phi(Cough) |\n",
            "+==========+==============+\n",
            "| Cough(T) |       0.0302 |\n",
            "+----------+--------------+\n",
            "| Cough(F) |       0.9698 |\n",
            "+----------+--------------+\n",
            "P(LungDisease | Smokes = True):\n",
            " +----------------+--------------------+\n",
            "| LungDisease    |   phi(LungDisease) |\n",
            "+================+====================+\n",
            "| LungDisease(T) |             0.1009 |\n",
            "+----------------+--------------------+\n",
            "| LungDisease(F) |             0.8991 |\n",
            "+----------------+--------------------+\n",
            "P(LungDisease | Cough = True):\n",
            " +----------------+--------------------+\n",
            "| LungDisease    |   phi(LungDisease) |\n",
            "+================+====================+\n",
            "| LungDisease(T) |             0.3545 |\n",
            "+----------------+--------------------+\n",
            "| LungDisease(F) |             0.6455 |\n",
            "+----------------+--------------------+\n",
            "P(ShortnessOfBreath | Smokes = True):\n",
            " +----------------------+--------------------------+\n",
            "| ShortnessOfBreath    |   phi(ShortnessOfBreath) |\n",
            "+======================+==========================+\n",
            "| ShortnessOfBreath(T) |                   0.0300 |\n",
            "+----------------------+--------------------------+\n",
            "| ShortnessOfBreath(F) |                   0.9700 |\n",
            "+----------------------+--------------------------+\n",
            "P(ChestPain | Fever = True):\n",
            " +--------------+------------------+\n",
            "| ChestPain    |   phi(ChestPain) |\n",
            "+==============+==================+\n",
            "| ChestPain(T) |           0.0142 |\n",
            "+--------------+------------------+\n",
            "| ChestPain(F) |           0.9858 |\n",
            "+--------------+------------------+\n"
          ]
        }
      ],
      "source": [
        "print(\"P(Smokes):\\n\", infer.query(['Smokes']))\n",
        "print(\"P(Cold):\\n\", infer.query(['Cold']))\n",
        "print(\"P(LungDisease):\\n\", infer.query(['LungDisease']))\n",
        "print(\"P(ShortnessOfBreath):\\n\", infer.query(['ShortnessOfBreath']))\n",
        "print(\"P(ChestPain):\\n\", infer.query(['ChestPain']))\n",
        "print(\"P(Fever):\\n\", infer.query(['Fever']))\n",
        "print(\"P(Cough):\\n\", infer.query(['Cough']))\n",
        "print(\"P(LungDisease | Smokes = True):\\n\", infer.query(['LungDisease'], evidence = {'Smokes': 'T'}))\n",
        "print(\"P(LungDisease | Cough = True):\\n\", infer.query(['LungDisease'], evidence = {'Cough': 'T'}))\n",
        "print(\"P(ShortnessOfBreath | Smokes = True):\\n\", infer.query(['ShortnessOfBreath'], evidence = {'Smokes': 'T'}))\n",
        "print(\"P(ChestPain | Fever = True):\\n\", infer.query(['ChestPain'], evidence = {'Fever': 'T'}))"
      ]
    },
    {
      "cell_type": "markdown",
      "metadata": {
        "id": "FkryI8sf4ZdN"
      },
      "source": [
        "## Q8 [15]\n",
        "**Are the following  true? If not, can you make them independent by including info on the parent?**\n",
        "1. Cough is independent from Fever. (Having knowledge about Fever does not change the probability of Cough)\n",
        "2. Fever is independent from Smokes.\n",
        "3. ChestPain is independent from Smokes.\n",
        "4. ChestPain is independent from Smokes given LungDisease.\n"
      ]
    },
    {
      "cell_type": "markdown",
      "metadata": {
        "id": "KV3sBXqQ4ZdO"
      },
      "source": [
        "##### 1. Cough is independent from Fever"
      ]
    },
    {
      "cell_type": "code",
      "execution_count": 15,
      "metadata": {
        "colab": {
          "base_uri": "https://localhost:8080/"
        },
        "id": "ecnHwv_r4ZdO",
        "outputId": "3e0e11f9-7bd4-48c7-9b54-06f32302f69f"
      },
      "outputs": [
        {
          "output_type": "stream",
          "name": "stderr",
          "text": [
            "WARNING:pgmpy:BayesianModel has been renamed to BayesianNetwork. Please use BayesianNetwork class, BayesianModel will be removed in future.\n",
            "WARNING:pgmpy:BayesianModel has been renamed to BayesianNetwork. Please use BayesianNetwork class, BayesianModel will be removed in future.\n",
            "WARNING:pgmpy:BayesianModel has been renamed to BayesianNetwork. Please use BayesianNetwork class, BayesianModel will be removed in future.\n",
            "WARNING:pgmpy:BayesianModel has been renamed to BayesianNetwork. Please use BayesianNetwork class, BayesianModel will be removed in future.\n",
            "WARNING:pgmpy:BayesianModel has been renamed to BayesianNetwork. Please use BayesianNetwork class, BayesianModel will be removed in future.\n",
            "WARNING:pgmpy:BayesianModel has been renamed to BayesianNetwork. Please use BayesianNetwork class, BayesianModel will be removed in future.\n",
            "WARNING:pgmpy:BayesianModel has been renamed to BayesianNetwork. Please use BayesianNetwork class, BayesianModel will be removed in future.\n",
            "WARNING:pgmpy:BayesianModel has been renamed to BayesianNetwork. Please use BayesianNetwork class, BayesianModel will be removed in future.\n",
            "WARNING:pgmpy:BayesianModel has been renamed to BayesianNetwork. Please use BayesianNetwork class, BayesianModel will be removed in future.\n",
            "WARNING:pgmpy:BayesianModel has been renamed to BayesianNetwork. Please use BayesianNetwork class, BayesianModel will be removed in future.\n",
            "WARNING:pgmpy:BayesianModel has been renamed to BayesianNetwork. Please use BayesianNetwork class, BayesianModel will be removed in future.\n",
            "WARNING:pgmpy:BayesianModel has been renamed to BayesianNetwork. Please use BayesianNetwork class, BayesianModel will be removed in future.\n",
            "WARNING:pgmpy:BayesianModel has been renamed to BayesianNetwork. Please use BayesianNetwork class, BayesianModel will be removed in future.\n",
            "WARNING:pgmpy:BayesianModel has been renamed to BayesianNetwork. Please use BayesianNetwork class, BayesianModel will be removed in future.\n"
          ]
        },
        {
          "output_type": "stream",
          "name": "stdout",
          "text": [
            "+----------+--------------+\n",
            "| Cough    |   phi(Cough) |\n",
            "+==========+==============+\n",
            "| Cough(T) |       0.0302 |\n",
            "+----------+--------------+\n",
            "| Cough(F) |       0.9698 |\n",
            "+----------+--------------+\n",
            "+----------+--------------+\n",
            "| Cough    |   phi(Cough) |\n",
            "+==========+==============+\n",
            "| Cough(T) |       0.2091 |\n",
            "+----------+--------------+\n",
            "| Cough(F) |       0.7909 |\n",
            "+----------+--------------+\n",
            "+----------+--------------+\n",
            "| Cough    |   phi(Cough) |\n",
            "+==========+==============+\n",
            "| Cough(T) |       0.0273 |\n",
            "+----------+--------------+\n",
            "| Cough(F) |       0.9727 |\n",
            "+----------+--------------+\n",
            "+----------+--------------+\n",
            "| Cough    |   phi(Cough) |\n",
            "+==========+==============+\n",
            "| Cough(T) |       0.0204 |\n",
            "+----------+--------------+\n",
            "| Cough(F) |       0.9796 |\n",
            "+----------+--------------+\n",
            "+----------+--------------+\n",
            "| Cough    |   phi(Cough) |\n",
            "+==========+==============+\n",
            "| Cough(T) |       0.0204 |\n",
            "+----------+--------------+\n",
            "| Cough(F) |       0.9796 |\n",
            "+----------+--------------+\n",
            "+----------+--------------+\n",
            "| Cough    |   phi(Cough) |\n",
            "+==========+==============+\n",
            "| Cough(T) |       0.5102 |\n",
            "+----------+--------------+\n",
            "| Cough(F) |       0.4898 |\n",
            "+----------+--------------+\n",
            "+----------+--------------+\n",
            "| Cough    |   phi(Cough) |\n",
            "+==========+==============+\n",
            "| Cough(T) |       0.5102 |\n",
            "+----------+--------------+\n",
            "| Cough(F) |       0.4898 |\n",
            "+----------+--------------+\n"
          ]
        }
      ],
      "source": [
        "dist = infer.query(['Cough'])\n",
        "print(dist)\n",
        "\n",
        "dist = infer.query(['Cough'], evidence = {'Fever': 'T'})\n",
        "print(dist)\n",
        "\n",
        "dist = infer.query(['Cough'], evidence = {'Fever': 'F'})\n",
        "print(dist)\n",
        "\n",
        "dist = infer.query(['Cough'], evidence = {'Cold': 'F', 'Fever': 'T'})\n",
        "print(dist)\n",
        "\n",
        "dist = infer.query(['Cough'], evidence = {'Cold': 'F', 'Fever': 'F'})\n",
        "print(dist)\n",
        "\n",
        "dist = infer.query(['Cough'], evidence = {'Cold': 'T', 'Fever': 'T'})\n",
        "print(dist)\n",
        "\n",
        "dist = infer.query(['Cough'], evidence = {'Cold': 'T', 'Fever': 'F'})\n",
        "print(dist)"
      ]
    },
    {
      "cell_type": "markdown",
      "metadata": {
        "id": "BSborwGT4ZdO"
      },
      "source": [
        "- Fever does affect Cough -> Not independent\n",
        "- However, given the parent of both Fever and Cough (Cold), they should be independent."
      ]
    },
    {
      "cell_type": "markdown",
      "metadata": {
        "id": "8OvAYlig4ZdO"
      },
      "source": [
        "##### 2. Fever is independent from Smokes."
      ]
    },
    {
      "cell_type": "code",
      "execution_count": 16,
      "metadata": {
        "colab": {
          "base_uri": "https://localhost:8080/"
        },
        "id": "iUlGrfFS4ZdP",
        "outputId": "2ae7f7ea-54bd-4cbc-81ec-0c7d46892501"
      },
      "outputs": [
        {
          "output_type": "stream",
          "name": "stderr",
          "text": [
            "WARNING:pgmpy:BayesianModel has been renamed to BayesianNetwork. Please use BayesianNetwork class, BayesianModel will be removed in future.\n",
            "WARNING:pgmpy:BayesianModel has been renamed to BayesianNetwork. Please use BayesianNetwork class, BayesianModel will be removed in future.\n",
            "WARNING:pgmpy:BayesianModel has been renamed to BayesianNetwork. Please use BayesianNetwork class, BayesianModel will be removed in future.\n",
            "WARNING:pgmpy:BayesianModel has been renamed to BayesianNetwork. Please use BayesianNetwork class, BayesianModel will be removed in future.\n",
            "WARNING:pgmpy:BayesianModel has been renamed to BayesianNetwork. Please use BayesianNetwork class, BayesianModel will be removed in future.\n",
            "WARNING:pgmpy:BayesianModel has been renamed to BayesianNetwork. Please use BayesianNetwork class, BayesianModel will be removed in future.\n"
          ]
        },
        {
          "output_type": "stream",
          "name": "stdout",
          "text": [
            "+----------+--------------+\n",
            "| Fever    |   phi(Fever) |\n",
            "+==========+==============+\n",
            "| Fever(T) |       0.0159 |\n",
            "+----------+--------------+\n",
            "| Fever(F) |       0.9841 |\n",
            "+----------+--------------+\n",
            "+----------+--------------+\n",
            "| Fever    |   phi(Fever) |\n",
            "+==========+==============+\n",
            "| Fever(T) |       0.0159 |\n",
            "+----------+--------------+\n",
            "| Fever(F) |       0.9841 |\n",
            "+----------+--------------+\n",
            "+----------+--------------+\n",
            "| Fever    |   phi(Fever) |\n",
            "+==========+==============+\n",
            "| Fever(T) |       0.0159 |\n",
            "+----------+--------------+\n",
            "| Fever(F) |       0.9841 |\n",
            "+----------+--------------+\n"
          ]
        }
      ],
      "source": [
        "dist = infer.query(['Fever'])\n",
        "print(dist)\n",
        "\n",
        "dist = infer.query(['Fever'], evidence = {'Smokes': 'T'})\n",
        "print(dist)\n",
        "\n",
        "dist = infer.query(['Fever'], evidence = {'Smokes': 'F'})\n",
        "print(dist)"
      ]
    },
    {
      "cell_type": "markdown",
      "metadata": {
        "id": "a4FCFLEVGPe0"
      },
      "source": [
        "- Smokes does not affect Fever -> Independent"
      ]
    },
    {
      "cell_type": "markdown",
      "metadata": {
        "id": "oEjpmpE04ZdP"
      },
      "source": [
        "##### 3. ChestPain is independent from Smokes."
      ]
    },
    {
      "cell_type": "code",
      "execution_count": 17,
      "metadata": {
        "colab": {
          "base_uri": "https://localhost:8080/"
        },
        "id": "0LbS2_iM4ZdP",
        "outputId": "f92a84db-ccc7-42e3-c2a4-763316f277ef"
      },
      "outputs": [
        {
          "output_type": "stream",
          "name": "stderr",
          "text": [
            "WARNING:pgmpy:BayesianModel has been renamed to BayesianNetwork. Please use BayesianNetwork class, BayesianModel will be removed in future.\n",
            "WARNING:pgmpy:BayesianModel has been renamed to BayesianNetwork. Please use BayesianNetwork class, BayesianModel will be removed in future.\n",
            "WARNING:pgmpy:BayesianModel has been renamed to BayesianNetwork. Please use BayesianNetwork class, BayesianModel will be removed in future.\n",
            "WARNING:pgmpy:BayesianModel has been renamed to BayesianNetwork. Please use BayesianNetwork class, BayesianModel will be removed in future.\n",
            "WARNING:pgmpy:BayesianModel has been renamed to BayesianNetwork. Please use BayesianNetwork class, BayesianModel will be removed in future.\n",
            "WARNING:pgmpy:BayesianModel has been renamed to BayesianNetwork. Please use BayesianNetwork class, BayesianModel will be removed in future.\n",
            "WARNING:pgmpy:BayesianModel has been renamed to BayesianNetwork. Please use BayesianNetwork class, BayesianModel will be removed in future.\n",
            "WARNING:pgmpy:BayesianModel has been renamed to BayesianNetwork. Please use BayesianNetwork class, BayesianModel will be removed in future.\n",
            "WARNING:pgmpy:BayesianModel has been renamed to BayesianNetwork. Please use BayesianNetwork class, BayesianModel will be removed in future.\n",
            "WARNING:pgmpy:BayesianModel has been renamed to BayesianNetwork. Please use BayesianNetwork class, BayesianModel will be removed in future.\n",
            "WARNING:pgmpy:BayesianModel has been renamed to BayesianNetwork. Please use BayesianNetwork class, BayesianModel will be removed in future.\n",
            "WARNING:pgmpy:BayesianModel has been renamed to BayesianNetwork. Please use BayesianNetwork class, BayesianModel will be removed in future.\n",
            "WARNING:pgmpy:BayesianModel has been renamed to BayesianNetwork. Please use BayesianNetwork class, BayesianModel will be removed in future.\n",
            "WARNING:pgmpy:BayesianModel has been renamed to BayesianNetwork. Please use BayesianNetwork class, BayesianModel will be removed in future.\n"
          ]
        },
        {
          "output_type": "stream",
          "name": "stdout",
          "text": [
            "+--------------+------------------+\n",
            "| ChestPain    |   phi(ChestPain) |\n",
            "+==============+==================+\n",
            "| ChestPain(T) |           0.0142 |\n",
            "+--------------+------------------+\n",
            "| ChestPain(F) |           0.9858 |\n",
            "+--------------+------------------+\n",
            "+--------------+------------------+\n",
            "| ChestPain    |   phi(ChestPain) |\n",
            "+==============+==================+\n",
            "| ChestPain(T) |           0.0300 |\n",
            "+--------------+------------------+\n",
            "| ChestPain(F) |           0.9700 |\n",
            "+--------------+------------------+\n",
            "+--------------+------------------+\n",
            "| ChestPain    |   phi(ChestPain) |\n",
            "+==============+==================+\n",
            "| ChestPain(T) |           0.0102 |\n",
            "+--------------+------------------+\n",
            "| ChestPain(F) |           0.9898 |\n",
            "+--------------+------------------+\n",
            "+--------------+------------------+\n",
            "| ChestPain    |   phi(ChestPain) |\n",
            "+==============+==================+\n",
            "| ChestPain(T) |           0.2080 |\n",
            "+--------------+------------------+\n",
            "| ChestPain(F) |           0.7920 |\n",
            "+--------------+------------------+\n",
            "+--------------+------------------+\n",
            "| ChestPain    |   phi(ChestPain) |\n",
            "+==============+==================+\n",
            "| ChestPain(T) |           0.0100 |\n",
            "+--------------+------------------+\n",
            "| ChestPain(F) |           0.9900 |\n",
            "+--------------+------------------+\n",
            "+--------------+------------------+\n",
            "| ChestPain    |   phi(ChestPain) |\n",
            "+==============+==================+\n",
            "| ChestPain(T) |           0.2080 |\n",
            "+--------------+------------------+\n",
            "| ChestPain(F) |           0.7920 |\n",
            "+--------------+------------------+\n",
            "+--------------+------------------+\n",
            "| ChestPain    |   phi(ChestPain) |\n",
            "+==============+==================+\n",
            "| ChestPain(T) |           0.0100 |\n",
            "+--------------+------------------+\n",
            "| ChestPain(F) |           0.9900 |\n",
            "+--------------+------------------+\n"
          ]
        }
      ],
      "source": [
        "dist = infer.query(['ChestPain'])\n",
        "print(dist)\n",
        "\n",
        "dist = infer.query(['ChestPain'], evidence = {'Smokes': 'T'})\n",
        "print(dist)\n",
        "\n",
        "dist = infer.query(['ChestPain'], evidence = {'Smokes': 'F'})\n",
        "print(dist)\n",
        "\n",
        "dist = infer.query(['ChestPain'], evidence = {'Smokes': 'F', 'LungDisease': 'T'})\n",
        "print(dist)\n",
        "\n",
        "dist = infer.query(['ChestPain'], evidence = {'Smokes': 'F', 'LungDisease': 'F'})\n",
        "print(dist)\n",
        "\n",
        "dist = infer.query(['ChestPain'], evidence = {'Smokes': 'T', 'LungDisease': 'T'})\n",
        "print(dist)\n",
        "\n",
        "dist = infer.query(['ChestPain'], evidence = {'Smokes': 'T', 'LungDisease': 'F'})\n",
        "print(dist)"
      ]
    },
    {
      "cell_type": "markdown",
      "metadata": {
        "id": "p0ow20LAHQ_f"
      },
      "source": [
        "- Smokes does affect Chast Pain -> Not independent\n",
        "- However, when Lung Disease is given, they are independent."
      ]
    },
    {
      "cell_type": "markdown",
      "metadata": {
        "id": "agC_lezd4ZdP"
      },
      "source": [
        "## Q9 [20]\n",
        "1. Does having the knowledge that the person is coughing increase the probability of lung disease?\n",
        "2. Does having the knowledge that the person is coughing increase the probability that the person has Cold?\n",
        "3. Does having the knowledge that the person is coughing increase the probability that there is Fever?\n",
        "4. Does having the knowledge that the person is coughing increase the probability that there is Fever, given the person has Cold?\n",
        "5. Does having the knowledge that the person has Fever increase the probability that there is Lung Disease?\n"
      ]
    },
    {
      "cell_type": "markdown",
      "metadata": {
        "id": "rbhwlgtY4ZdP"
      },
      "source": [
        "##### 1. Does having the knowledge that the person is coughing increase the probability of lung disease? [5]"
      ]
    },
    {
      "cell_type": "code",
      "execution_count": 18,
      "metadata": {
        "colab": {
          "base_uri": "https://localhost:8080/"
        },
        "id": "B90r9CZ54ZdP",
        "outputId": "a77c543b-5030-4cd1-e85f-f4bd8d15c6d7"
      },
      "outputs": [
        {
          "output_type": "stream",
          "name": "stderr",
          "text": [
            "WARNING:pgmpy:BayesianModel has been renamed to BayesianNetwork. Please use BayesianNetwork class, BayesianModel will be removed in future.\n",
            "WARNING:pgmpy:BayesianModel has been renamed to BayesianNetwork. Please use BayesianNetwork class, BayesianModel will be removed in future.\n",
            "WARNING:pgmpy:BayesianModel has been renamed to BayesianNetwork. Please use BayesianNetwork class, BayesianModel will be removed in future.\n",
            "WARNING:pgmpy:BayesianModel has been renamed to BayesianNetwork. Please use BayesianNetwork class, BayesianModel will be removed in future.\n"
          ]
        },
        {
          "output_type": "stream",
          "name": "stdout",
          "text": [
            "+----------------+--------------------+\n",
            "| LungDisease    |   phi(LungDisease) |\n",
            "+================+====================+\n",
            "| LungDisease(T) |             0.0210 |\n",
            "+----------------+--------------------+\n",
            "| LungDisease(F) |             0.9790 |\n",
            "+----------------+--------------------+\n",
            "+----------------+--------------------+\n",
            "| LungDisease    |   phi(LungDisease) |\n",
            "+================+====================+\n",
            "| LungDisease(T) |             0.3545 |\n",
            "+----------------+--------------------+\n",
            "| LungDisease(F) |             0.6455 |\n",
            "+----------------+--------------------+\n"
          ]
        }
      ],
      "source": [
        "dist = infer.query(['LungDisease'])\n",
        "print(dist)\n",
        "\n",
        "dist = infer.query(['LungDisease'], evidence = {'Cough': 'T'})\n",
        "print(dist)"
      ]
    },
    {
      "cell_type": "markdown",
      "metadata": {
        "id": "BcbHQpjB4ZdQ"
      },
      "source": [
        "Having the knowledge that the person is coughing increases the probability of lung disease."
      ]
    },
    {
      "cell_type": "markdown",
      "metadata": {
        "id": "wqU_Qcqg4ZdQ"
      },
      "source": [
        "##### 2. Does having the knowledge that the person is coughing increase the probability that the person has Cold? [5]"
      ]
    },
    {
      "cell_type": "code",
      "execution_count": 19,
      "metadata": {
        "colab": {
          "base_uri": "https://localhost:8080/"
        },
        "id": "LiEgyfZw4ZdQ",
        "outputId": "ee94b81d-d296-496a-a503-8badb21d6401"
      },
      "outputs": [
        {
          "output_type": "stream",
          "name": "stderr",
          "text": [
            "WARNING:pgmpy:BayesianModel has been renamed to BayesianNetwork. Please use BayesianNetwork class, BayesianModel will be removed in future.\n",
            "WARNING:pgmpy:BayesianModel has been renamed to BayesianNetwork. Please use BayesianNetwork class, BayesianModel will be removed in future.\n",
            "WARNING:pgmpy:BayesianModel has been renamed to BayesianNetwork. Please use BayesianNetwork class, BayesianModel will be removed in future.\n",
            "WARNING:pgmpy:BayesianModel has been renamed to BayesianNetwork. Please use BayesianNetwork class, BayesianModel will be removed in future.\n"
          ]
        },
        {
          "output_type": "stream",
          "name": "stdout",
          "text": [
            "+---------+-------------+\n",
            "| Cold    |   phi(Cold) |\n",
            "+=========+=============+\n",
            "| Cold(T) |      0.0200 |\n",
            "+---------+-------------+\n",
            "| Cold(F) |      0.9800 |\n",
            "+---------+-------------+\n",
            "+---------+-------------+\n",
            "| Cold    |   phi(Cold) |\n",
            "+=========+=============+\n",
            "| Cold(T) |      0.3381 |\n",
            "+---------+-------------+\n",
            "| Cold(F) |      0.6619 |\n",
            "+---------+-------------+\n"
          ]
        }
      ],
      "source": [
        "dist = infer.query(['Cold'])\n",
        "print(dist)\n",
        "\n",
        "dist = infer.query(['Cold'], evidence = {'Cough': 'T'})\n",
        "print(dist)"
      ]
    },
    {
      "cell_type": "markdown",
      "metadata": {
        "id": "M3GX04QUnzBx"
      },
      "source": [
        "Having the knowledge that the person is coughing increases the probability of cold."
      ]
    },
    {
      "cell_type": "markdown",
      "metadata": {
        "id": "RSpRq0lF4ZdR"
      },
      "source": [
        "##### 3. Does having the knowledge that the person is coughing increase the probability that there is Fever? [5]"
      ]
    },
    {
      "cell_type": "code",
      "execution_count": 20,
      "metadata": {
        "colab": {
          "base_uri": "https://localhost:8080/"
        },
        "id": "gNUOHyiC4ZdR",
        "outputId": "54ecd05f-91e4-474f-a93b-4f97a9a3c873",
        "scrolled": true
      },
      "outputs": [
        {
          "output_type": "stream",
          "name": "stderr",
          "text": [
            "WARNING:pgmpy:BayesianModel has been renamed to BayesianNetwork. Please use BayesianNetwork class, BayesianModel will be removed in future.\n",
            "WARNING:pgmpy:BayesianModel has been renamed to BayesianNetwork. Please use BayesianNetwork class, BayesianModel will be removed in future.\n",
            "WARNING:pgmpy:BayesianModel has been renamed to BayesianNetwork. Please use BayesianNetwork class, BayesianModel will be removed in future.\n",
            "WARNING:pgmpy:BayesianModel has been renamed to BayesianNetwork. Please use BayesianNetwork class, BayesianModel will be removed in future.\n"
          ]
        },
        {
          "output_type": "stream",
          "name": "stdout",
          "text": [
            "+----------+--------------+\n",
            "| Fever    |   phi(Fever) |\n",
            "+==========+==============+\n",
            "| Fever(T) |       0.0159 |\n",
            "+----------+--------------+\n",
            "| Fever(F) |       0.9841 |\n",
            "+----------+--------------+\n",
            "+----------+--------------+\n",
            "| Fever    |   phi(Fever) |\n",
            "+==========+==============+\n",
            "| Fever(T) |       0.1104 |\n",
            "+----------+--------------+\n",
            "| Fever(F) |       0.8896 |\n",
            "+----------+--------------+\n"
          ]
        }
      ],
      "source": [
        "dist = infer.query(['Fever'])\n",
        "print(dist)\n",
        "\n",
        "dist = infer.query(['Fever'], evidence = {'Cough': 'T'})\n",
        "print(dist)"
      ]
    },
    {
      "cell_type": "markdown",
      "metadata": {
        "id": "h0xPRyYOn_YV"
      },
      "source": [
        "Having the knowledge that the person is coughing increases the probability of fever."
      ]
    },
    {
      "cell_type": "markdown",
      "metadata": {
        "id": "4s7Les1-4ZdR"
      },
      "source": [
        "##### 4. Does having the knowledge that the person is coughing increase the probability that there is Fever, given the person has Cold?"
      ]
    },
    {
      "cell_type": "code",
      "execution_count": 21,
      "metadata": {
        "colab": {
          "base_uri": "https://localhost:8080/"
        },
        "id": "lmuxcgfM4ZdR",
        "outputId": "638bc702-8c85-45be-8480-8109e70e4194"
      },
      "outputs": [
        {
          "output_type": "stream",
          "name": "stderr",
          "text": [
            "WARNING:pgmpy:BayesianModel has been renamed to BayesianNetwork. Please use BayesianNetwork class, BayesianModel will be removed in future.\n",
            "WARNING:pgmpy:BayesianModel has been renamed to BayesianNetwork. Please use BayesianNetwork class, BayesianModel will be removed in future.\n",
            "WARNING:pgmpy:BayesianModel has been renamed to BayesianNetwork. Please use BayesianNetwork class, BayesianModel will be removed in future.\n",
            "WARNING:pgmpy:BayesianModel has been renamed to BayesianNetwork. Please use BayesianNetwork class, BayesianModel will be removed in future.\n"
          ]
        },
        {
          "output_type": "stream",
          "name": "stdout",
          "text": [
            "+----------+--------------+\n",
            "| Fever    |   phi(Fever) |\n",
            "+==========+==============+\n",
            "| Fever(T) |       0.0159 |\n",
            "+----------+--------------+\n",
            "| Fever(F) |       0.9841 |\n",
            "+----------+--------------+\n",
            "+----------+--------------+\n",
            "| Fever    |   phi(Fever) |\n",
            "+==========+==============+\n",
            "| Fever(T) |       0.3070 |\n",
            "+----------+--------------+\n",
            "| Fever(F) |       0.6930 |\n",
            "+----------+--------------+\n"
          ]
        }
      ],
      "source": [
        "dist = infer.query(['Fever'])\n",
        "print(dist)\n",
        "\n",
        "dist = infer.query(['Fever'], evidence = {'Cough': 'T', 'Cold': 'T'})\n",
        "print(dist)"
      ]
    },
    {
      "cell_type": "markdown",
      "metadata": {
        "id": "jNodNm9_oQ9a"
      },
      "source": [
        "Having the knowledge that the person is coughing increases the probability of fever given the person has Cold."
      ]
    },
    {
      "cell_type": "markdown",
      "metadata": {
        "id": "flMoXFnQ4ZdS"
      },
      "source": [
        "##### 5. Does having the knowledge that the person has Fever increase the probability that there is Lung Disease?"
      ]
    },
    {
      "cell_type": "code",
      "execution_count": 22,
      "metadata": {
        "colab": {
          "base_uri": "https://localhost:8080/"
        },
        "id": "5OFpbufF4ZdS",
        "outputId": "102cb055-4841-47d6-a5d5-b85b37f6ccb4"
      },
      "outputs": [
        {
          "output_type": "stream",
          "name": "stderr",
          "text": [
            "WARNING:pgmpy:BayesianModel has been renamed to BayesianNetwork. Please use BayesianNetwork class, BayesianModel will be removed in future.\n",
            "WARNING:pgmpy:BayesianModel has been renamed to BayesianNetwork. Please use BayesianNetwork class, BayesianModel will be removed in future.\n",
            "WARNING:pgmpy:BayesianModel has been renamed to BayesianNetwork. Please use BayesianNetwork class, BayesianModel will be removed in future.\n"
          ]
        },
        {
          "output_type": "stream",
          "name": "stdout",
          "text": [
            "+----------------+--------------------+\n",
            "| LungDisease    |   phi(LungDisease) |\n",
            "+================+====================+\n",
            "| LungDisease(T) |             0.0210 |\n",
            "+----------------+--------------------+\n",
            "| LungDisease(F) |             0.9790 |\n",
            "+----------------+--------------------+\n"
          ]
        },
        {
          "output_type": "stream",
          "name": "stderr",
          "text": [
            "WARNING:pgmpy:BayesianModel has been renamed to BayesianNetwork. Please use BayesianNetwork class, BayesianModel will be removed in future.\n"
          ]
        },
        {
          "output_type": "stream",
          "name": "stdout",
          "text": [
            "+----------------+--------------------+\n",
            "| LungDisease    |   phi(LungDisease) |\n",
            "+================+====================+\n",
            "| LungDisease(T) |             0.0210 |\n",
            "+----------------+--------------------+\n",
            "| LungDisease(F) |             0.9790 |\n",
            "+----------------+--------------------+\n"
          ]
        }
      ],
      "source": [
        "dist = infer.query(['LungDisease'])\n",
        "print(dist)\n",
        "\n",
        "dist = infer.query(['LungDisease'], evidence = {'Fever': 'T'})\n",
        "print(dist)"
      ]
    },
    {
      "cell_type": "markdown",
      "metadata": {
        "id": "VKT12G-Roc7u"
      },
      "source": [
        "Having the knowledge that the person has fever does not increase the probability of lung disease."
      ]
    },
    {
      "cell_type": "markdown",
      "metadata": {
        "id": "d30u2qCM4ZdS"
      },
      "source": [
        "## Q10 [5]\n",
        "1. What's the most probable state of Cough?\n",
        "2. What's the most probable state of Cough given Cold is True?\n",
        "3. What's the most probable state of Cough given Cold is True and Lung Disease is True?"
      ]
    },
    {
      "cell_type": "markdown",
      "metadata": {
        "id": "qxoFoKCm4ZdS"
      },
      "source": [
        "##### 1. What's the most probable state of Cough?"
      ]
    },
    {
      "cell_type": "code",
      "execution_count": 23,
      "metadata": {
        "colab": {
          "base_uri": "https://localhost:8080/",
          "height": 133,
          "referenced_widgets": [
            "38926a9a742c41018b00c3a2db49083e",
            "8b6bea927c4f4ee1bce8d7d44ca18b9d",
            "6fe3cdb3303848bfb9617db5714f430f",
            "6f1b3d4a10f24da29ad80c5db360bcbd",
            "f115b9acab8d441f9fee61e09cc91f4c",
            "55230179df6349d3ada1fe6dc3c5e920",
            "594d131591ef49be8c05e0f56b241c20",
            "80ae1568d5524b93b11407e9daa2b9d3",
            "b435d8a1ae4a42ba8e1be5020603ccdb",
            "37684c4bed694ea28373937c8655cf7a",
            "d701922908444a798cfb198e04b3dafd",
            "2545db9aea2e4e9986f6cf64e4b044ea",
            "61de072ae38246638d3bf6b94ebb0a60",
            "77595932a62648069fca45618ba3cc88",
            "a53e9cb3d28e49a69388d0a06a9b5c00",
            "b5e511fe16884590aa9b5d1c0cda71a6",
            "7d150b53876542b9a323a701787cb879",
            "3a583431b3fb4ba9825be0a790027a64",
            "6ec986d3b3bf4b63b1411bf2831e128a",
            "337224f303984954b49926cdd9567a6e",
            "10882815a9c7459dad18ef117386e9db",
            "6ac1a91d31374425bcc0a3018af914b9"
          ]
        },
        "id": "QlSJWPEm4ZdS",
        "outputId": "cfeb5bf1-1a55-4777-fd18-959aa72d0eb5"
      },
      "outputs": [
        {
          "output_type": "stream",
          "name": "stderr",
          "text": [
            "WARNING:pgmpy:BayesianModel has been renamed to BayesianNetwork. Please use BayesianNetwork class, BayesianModel will be removed in future.\n",
            "WARNING:pgmpy:BayesianModel has been renamed to BayesianNetwork. Please use BayesianNetwork class, BayesianModel will be removed in future.\n"
          ]
        },
        {
          "output_type": "display_data",
          "data": {
            "text/plain": [
              "  0%|          | 0/3 [00:00<?, ?it/s]"
            ],
            "application/vnd.jupyter.widget-view+json": {
              "version_major": 2,
              "version_minor": 0,
              "model_id": "38926a9a742c41018b00c3a2db49083e"
            }
          },
          "metadata": {}
        },
        {
          "output_type": "display_data",
          "data": {
            "text/plain": [
              "  0%|          | 0/3 [00:00<?, ?it/s]"
            ],
            "application/vnd.jupyter.widget-view+json": {
              "version_major": 2,
              "version_minor": 0,
              "model_id": "2545db9aea2e4e9986f6cf64e4b044ea"
            }
          },
          "metadata": {}
        },
        {
          "output_type": "execute_result",
          "data": {
            "text/plain": [
              "{'Cough': 'F'}"
            ]
          },
          "metadata": {},
          "execution_count": 23
        }
      ],
      "source": [
        "infer.map_query(['Cough'])"
      ]
    },
    {
      "cell_type": "markdown",
      "metadata": {
        "id": "OMigf_Yg4ZdT"
      },
      "source": [
        "The most probable state of Cough is False."
      ]
    },
    {
      "cell_type": "markdown",
      "metadata": {
        "id": "znSGl7_d4ZdT"
      },
      "source": [
        "##### 2. What's the most probable state of Cough given Cold is True?"
      ]
    },
    {
      "cell_type": "code",
      "execution_count": 24,
      "metadata": {
        "colab": {
          "base_uri": "https://localhost:8080/",
          "height": 133,
          "referenced_widgets": [
            "952b0e3a8f8340d2942974fefabf5c79",
            "d050169126304c63b762ee221b311188",
            "06640ed7039d415abcd34c52432ac9e6",
            "ff73fc4e10ec431eb4fc41833fd16569",
            "9baf2aef7b1e45cab07fe3a84e3a8224",
            "5077a0acc4bb46e68ee874507d6f17bb",
            "ede9a6b0eab94fed8b61cf81065816bb",
            "01bf603fe626421ba1214481f516dc99",
            "92427984806c46108f0104b7380099ad",
            "cd9e169203a84ecca37b3cfd3f4b36dd",
            "33bc229ee4e54bb9a56bc3d0f3e41ef2",
            "ed3bd4dd97ef4e82aff0957fa19b6416",
            "5938212a3a004ea3bf0386c7ec7d838d",
            "1a0d0867475c4acbb0533e8568586a8b",
            "75805f66e4ba48f581af600654661e10",
            "bb5339284ec44c7fbd437ab448edb488",
            "25c8c736b672451186258b6bbb11ea01",
            "d28c8b9fdd2d4b92926f0b77e62bb74c",
            "aceaa7a4af4f493391fd04714bd90c00",
            "d3f7506c920e4587adea7fb812f505f8",
            "38e05b2a295c4977bc3aa53443f6f4d6",
            "b10d40d9e8854175a62790724d978f66"
          ]
        },
        "id": "ESEt0YFH4ZdT",
        "outputId": "852b7b46-0ad6-4ec6-a3ce-8207f0e23a75"
      },
      "outputs": [
        {
          "output_type": "stream",
          "name": "stderr",
          "text": [
            "WARNING:pgmpy:BayesianModel has been renamed to BayesianNetwork. Please use BayesianNetwork class, BayesianModel will be removed in future.\n",
            "WARNING:pgmpy:BayesianModel has been renamed to BayesianNetwork. Please use BayesianNetwork class, BayesianModel will be removed in future.\n"
          ]
        },
        {
          "output_type": "display_data",
          "data": {
            "text/plain": [
              "  0%|          | 0/2 [00:00<?, ?it/s]"
            ],
            "application/vnd.jupyter.widget-view+json": {
              "version_major": 2,
              "version_minor": 0,
              "model_id": "952b0e3a8f8340d2942974fefabf5c79"
            }
          },
          "metadata": {}
        },
        {
          "output_type": "display_data",
          "data": {
            "text/plain": [
              "  0%|          | 0/2 [00:00<?, ?it/s]"
            ],
            "application/vnd.jupyter.widget-view+json": {
              "version_major": 2,
              "version_minor": 0,
              "model_id": "ed3bd4dd97ef4e82aff0957fa19b6416"
            }
          },
          "metadata": {}
        },
        {
          "output_type": "execute_result",
          "data": {
            "text/plain": [
              "{'Cough': 'T'}"
            ]
          },
          "metadata": {},
          "execution_count": 24
        }
      ],
      "source": [
        "infer.map_query(['Cough'], evidence = {'Cold': 'T'})"
      ]
    },
    {
      "cell_type": "markdown",
      "metadata": {
        "id": "wJeO73Dc4ZdT"
      },
      "source": [
        "The most probable state of Cough given Cold is true is True."
      ]
    },
    {
      "cell_type": "markdown",
      "metadata": {
        "id": "NOBJPdd2pfEs"
      },
      "source": [
        "##### 3. What's the most probable state of Cough given Cold is True and Lung Disease is True?"
      ]
    },
    {
      "cell_type": "code",
      "execution_count": 25,
      "metadata": {
        "colab": {
          "base_uri": "https://localhost:8080/",
          "height": 133,
          "referenced_widgets": [
            "cd338c1529ed418080dc6227dedc897f",
            "3103f84c4e81410dab2cd9055074a9ff",
            "aedc7558431640689f9219b4ffc5aefa",
            "ceb14d42af504c97a0dfbffde7a3ffde",
            "d512bc15ce8144f68f2d99c3795ff84e",
            "52ebb0afabac426cb9a646fc41c1d723",
            "475762ce9b71487495cde4ec660a095c",
            "be8045dc62b249cbbba4bbbf6518b8eb",
            "a6fb92582f0148bdaae5c473ba8a9978",
            "1351fddc637f4dcf92281c4d6e981cae",
            "6823cab31b974742b056afabb882afce",
            "90abc1d5f57848f89164e5287d251055",
            "12fe6eecc5d44f40aad4cc912eb7954f",
            "ec3f938a226c40b48452084c1a37d64d",
            "21bad8df4d6248888da4efe68b336f48",
            "2acc4387e0b8417cadc37416565135ec",
            "da8e37cf7b814c3a9840940ef684ce4a",
            "02cd36ba44334003bf5f37b45e105bc8",
            "e64e15a6af114142901e1348f95f7a05",
            "e44d6f704a4a4cccbc9992375834b2db",
            "27fa55ee233040789a23953c0de51ffa",
            "ab5da1c450bb482d823be6ab8d774eec"
          ]
        },
        "id": "kXAUGH9D4ZdT",
        "outputId": "01954f95-c5ef-4af5-ae2d-d5521baca439"
      },
      "outputs": [
        {
          "output_type": "stream",
          "name": "stderr",
          "text": [
            "WARNING:pgmpy:BayesianModel has been renamed to BayesianNetwork. Please use BayesianNetwork class, BayesianModel will be removed in future.\n",
            "WARNING:pgmpy:BayesianModel has been renamed to BayesianNetwork. Please use BayesianNetwork class, BayesianModel will be removed in future.\n"
          ]
        },
        {
          "output_type": "display_data",
          "data": {
            "text/plain": [
              "0it [00:00, ?it/s]"
            ],
            "application/vnd.jupyter.widget-view+json": {
              "version_major": 2,
              "version_minor": 0,
              "model_id": "cd338c1529ed418080dc6227dedc897f"
            }
          },
          "metadata": {}
        },
        {
          "output_type": "display_data",
          "data": {
            "text/plain": [
              "0it [00:00, ?it/s]"
            ],
            "application/vnd.jupyter.widget-view+json": {
              "version_major": 2,
              "version_minor": 0,
              "model_id": "90abc1d5f57848f89164e5287d251055"
            }
          },
          "metadata": {}
        },
        {
          "output_type": "execute_result",
          "data": {
            "text/plain": [
              "{'Cough': 'T'}"
            ]
          },
          "metadata": {},
          "execution_count": 25
        }
      ],
      "source": [
        "infer.map_query(['Cough'], evidence = {'Cold': 'T', 'LungDisease': 'T'})"
      ]
    },
    {
      "cell_type": "markdown",
      "metadata": {
        "id": "4QXfNd2ypn4Y"
      },
      "source": [
        "The most probable state of Cough given Cold is true and given Lung Disease is true is True."
      ]
    }
  ],
  "metadata": {
    "colab": {
      "provenance": []
    },
    "kernelspec": {
      "display_name": "Python 3 (ipykernel)",
      "language": "python",
      "name": "python3"
    },
    "language_info": {
      "codemirror_mode": {
        "name": "ipython",
        "version": 3
      },
      "file_extension": ".py",
      "mimetype": "text/x-python",
      "name": "python",
      "nbconvert_exporter": "python",
      "pygments_lexer": "ipython3",
      "version": "3.9.11"
    },
    "toc": {
      "base_numbering": 1,
      "nav_menu": {},
      "number_sections": false,
      "sideBar": false,
      "skip_h1_title": false,
      "title_cell": "Table of Contents",
      "title_sidebar": "Contents",
      "toc_cell": false,
      "toc_position": {},
      "toc_section_display": false,
      "toc_window_display": false
    },
    "widgets": {
      "application/vnd.jupyter.widget-state+json": {
        "38926a9a742c41018b00c3a2db49083e": {
          "model_module": "@jupyter-widgets/controls",
          "model_name": "HBoxModel",
          "model_module_version": "1.5.0",
          "state": {
            "_dom_classes": [],
            "_model_module": "@jupyter-widgets/controls",
            "_model_module_version": "1.5.0",
            "_model_name": "HBoxModel",
            "_view_count": null,
            "_view_module": "@jupyter-widgets/controls",
            "_view_module_version": "1.5.0",
            "_view_name": "HBoxView",
            "box_style": "",
            "children": [
              "IPY_MODEL_8b6bea927c4f4ee1bce8d7d44ca18b9d",
              "IPY_MODEL_6fe3cdb3303848bfb9617db5714f430f",
              "IPY_MODEL_6f1b3d4a10f24da29ad80c5db360bcbd"
            ],
            "layout": "IPY_MODEL_f115b9acab8d441f9fee61e09cc91f4c"
          }
        },
        "8b6bea927c4f4ee1bce8d7d44ca18b9d": {
          "model_module": "@jupyter-widgets/controls",
          "model_name": "HTMLModel",
          "model_module_version": "1.5.0",
          "state": {
            "_dom_classes": [],
            "_model_module": "@jupyter-widgets/controls",
            "_model_module_version": "1.5.0",
            "_model_name": "HTMLModel",
            "_view_count": null,
            "_view_module": "@jupyter-widgets/controls",
            "_view_module_version": "1.5.0",
            "_view_name": "HTMLView",
            "description": "",
            "description_tooltip": null,
            "layout": "IPY_MODEL_55230179df6349d3ada1fe6dc3c5e920",
            "placeholder": "​",
            "style": "IPY_MODEL_594d131591ef49be8c05e0f56b241c20",
            "value": "Finding Elimination Order: :   0%"
          }
        },
        "6fe3cdb3303848bfb9617db5714f430f": {
          "model_module": "@jupyter-widgets/controls",
          "model_name": "FloatProgressModel",
          "model_module_version": "1.5.0",
          "state": {
            "_dom_classes": [],
            "_model_module": "@jupyter-widgets/controls",
            "_model_module_version": "1.5.0",
            "_model_name": "FloatProgressModel",
            "_view_count": null,
            "_view_module": "@jupyter-widgets/controls",
            "_view_module_version": "1.5.0",
            "_view_name": "ProgressView",
            "bar_style": "",
            "description": "",
            "description_tooltip": null,
            "layout": "IPY_MODEL_80ae1568d5524b93b11407e9daa2b9d3",
            "max": 3,
            "min": 0,
            "orientation": "horizontal",
            "style": "IPY_MODEL_b435d8a1ae4a42ba8e1be5020603ccdb",
            "value": 0
          }
        },
        "6f1b3d4a10f24da29ad80c5db360bcbd": {
          "model_module": "@jupyter-widgets/controls",
          "model_name": "HTMLModel",
          "model_module_version": "1.5.0",
          "state": {
            "_dom_classes": [],
            "_model_module": "@jupyter-widgets/controls",
            "_model_module_version": "1.5.0",
            "_model_name": "HTMLModel",
            "_view_count": null,
            "_view_module": "@jupyter-widgets/controls",
            "_view_module_version": "1.5.0",
            "_view_name": "HTMLView",
            "description": "",
            "description_tooltip": null,
            "layout": "IPY_MODEL_37684c4bed694ea28373937c8655cf7a",
            "placeholder": "​",
            "style": "IPY_MODEL_d701922908444a798cfb198e04b3dafd",
            "value": " 0/3 [00:00&lt;?, ?it/s]"
          }
        },
        "f115b9acab8d441f9fee61e09cc91f4c": {
          "model_module": "@jupyter-widgets/base",
          "model_name": "LayoutModel",
          "model_module_version": "1.2.0",
          "state": {
            "_model_module": "@jupyter-widgets/base",
            "_model_module_version": "1.2.0",
            "_model_name": "LayoutModel",
            "_view_count": null,
            "_view_module": "@jupyter-widgets/base",
            "_view_module_version": "1.2.0",
            "_view_name": "LayoutView",
            "align_content": null,
            "align_items": null,
            "align_self": null,
            "border": null,
            "bottom": null,
            "display": null,
            "flex": null,
            "flex_flow": null,
            "grid_area": null,
            "grid_auto_columns": null,
            "grid_auto_flow": null,
            "grid_auto_rows": null,
            "grid_column": null,
            "grid_gap": null,
            "grid_row": null,
            "grid_template_areas": null,
            "grid_template_columns": null,
            "grid_template_rows": null,
            "height": null,
            "justify_content": null,
            "justify_items": null,
            "left": null,
            "margin": null,
            "max_height": null,
            "max_width": null,
            "min_height": null,
            "min_width": null,
            "object_fit": null,
            "object_position": null,
            "order": null,
            "overflow": null,
            "overflow_x": null,
            "overflow_y": null,
            "padding": null,
            "right": null,
            "top": null,
            "visibility": null,
            "width": null
          }
        },
        "55230179df6349d3ada1fe6dc3c5e920": {
          "model_module": "@jupyter-widgets/base",
          "model_name": "LayoutModel",
          "model_module_version": "1.2.0",
          "state": {
            "_model_module": "@jupyter-widgets/base",
            "_model_module_version": "1.2.0",
            "_model_name": "LayoutModel",
            "_view_count": null,
            "_view_module": "@jupyter-widgets/base",
            "_view_module_version": "1.2.0",
            "_view_name": "LayoutView",
            "align_content": null,
            "align_items": null,
            "align_self": null,
            "border": null,
            "bottom": null,
            "display": null,
            "flex": null,
            "flex_flow": null,
            "grid_area": null,
            "grid_auto_columns": null,
            "grid_auto_flow": null,
            "grid_auto_rows": null,
            "grid_column": null,
            "grid_gap": null,
            "grid_row": null,
            "grid_template_areas": null,
            "grid_template_columns": null,
            "grid_template_rows": null,
            "height": null,
            "justify_content": null,
            "justify_items": null,
            "left": null,
            "margin": null,
            "max_height": null,
            "max_width": null,
            "min_height": null,
            "min_width": null,
            "object_fit": null,
            "object_position": null,
            "order": null,
            "overflow": null,
            "overflow_x": null,
            "overflow_y": null,
            "padding": null,
            "right": null,
            "top": null,
            "visibility": null,
            "width": null
          }
        },
        "594d131591ef49be8c05e0f56b241c20": {
          "model_module": "@jupyter-widgets/controls",
          "model_name": "DescriptionStyleModel",
          "model_module_version": "1.5.0",
          "state": {
            "_model_module": "@jupyter-widgets/controls",
            "_model_module_version": "1.5.0",
            "_model_name": "DescriptionStyleModel",
            "_view_count": null,
            "_view_module": "@jupyter-widgets/base",
            "_view_module_version": "1.2.0",
            "_view_name": "StyleView",
            "description_width": ""
          }
        },
        "80ae1568d5524b93b11407e9daa2b9d3": {
          "model_module": "@jupyter-widgets/base",
          "model_name": "LayoutModel",
          "model_module_version": "1.2.0",
          "state": {
            "_model_module": "@jupyter-widgets/base",
            "_model_module_version": "1.2.0",
            "_model_name": "LayoutModel",
            "_view_count": null,
            "_view_module": "@jupyter-widgets/base",
            "_view_module_version": "1.2.0",
            "_view_name": "LayoutView",
            "align_content": null,
            "align_items": null,
            "align_self": null,
            "border": null,
            "bottom": null,
            "display": null,
            "flex": null,
            "flex_flow": null,
            "grid_area": null,
            "grid_auto_columns": null,
            "grid_auto_flow": null,
            "grid_auto_rows": null,
            "grid_column": null,
            "grid_gap": null,
            "grid_row": null,
            "grid_template_areas": null,
            "grid_template_columns": null,
            "grid_template_rows": null,
            "height": null,
            "justify_content": null,
            "justify_items": null,
            "left": null,
            "margin": null,
            "max_height": null,
            "max_width": null,
            "min_height": null,
            "min_width": null,
            "object_fit": null,
            "object_position": null,
            "order": null,
            "overflow": null,
            "overflow_x": null,
            "overflow_y": null,
            "padding": null,
            "right": null,
            "top": null,
            "visibility": null,
            "width": null
          }
        },
        "b435d8a1ae4a42ba8e1be5020603ccdb": {
          "model_module": "@jupyter-widgets/controls",
          "model_name": "ProgressStyleModel",
          "model_module_version": "1.5.0",
          "state": {
            "_model_module": "@jupyter-widgets/controls",
            "_model_module_version": "1.5.0",
            "_model_name": "ProgressStyleModel",
            "_view_count": null,
            "_view_module": "@jupyter-widgets/base",
            "_view_module_version": "1.2.0",
            "_view_name": "StyleView",
            "bar_color": null,
            "description_width": ""
          }
        },
        "37684c4bed694ea28373937c8655cf7a": {
          "model_module": "@jupyter-widgets/base",
          "model_name": "LayoutModel",
          "model_module_version": "1.2.0",
          "state": {
            "_model_module": "@jupyter-widgets/base",
            "_model_module_version": "1.2.0",
            "_model_name": "LayoutModel",
            "_view_count": null,
            "_view_module": "@jupyter-widgets/base",
            "_view_module_version": "1.2.0",
            "_view_name": "LayoutView",
            "align_content": null,
            "align_items": null,
            "align_self": null,
            "border": null,
            "bottom": null,
            "display": null,
            "flex": null,
            "flex_flow": null,
            "grid_area": null,
            "grid_auto_columns": null,
            "grid_auto_flow": null,
            "grid_auto_rows": null,
            "grid_column": null,
            "grid_gap": null,
            "grid_row": null,
            "grid_template_areas": null,
            "grid_template_columns": null,
            "grid_template_rows": null,
            "height": null,
            "justify_content": null,
            "justify_items": null,
            "left": null,
            "margin": null,
            "max_height": null,
            "max_width": null,
            "min_height": null,
            "min_width": null,
            "object_fit": null,
            "object_position": null,
            "order": null,
            "overflow": null,
            "overflow_x": null,
            "overflow_y": null,
            "padding": null,
            "right": null,
            "top": null,
            "visibility": null,
            "width": null
          }
        },
        "d701922908444a798cfb198e04b3dafd": {
          "model_module": "@jupyter-widgets/controls",
          "model_name": "DescriptionStyleModel",
          "model_module_version": "1.5.0",
          "state": {
            "_model_module": "@jupyter-widgets/controls",
            "_model_module_version": "1.5.0",
            "_model_name": "DescriptionStyleModel",
            "_view_count": null,
            "_view_module": "@jupyter-widgets/base",
            "_view_module_version": "1.2.0",
            "_view_name": "StyleView",
            "description_width": ""
          }
        },
        "2545db9aea2e4e9986f6cf64e4b044ea": {
          "model_module": "@jupyter-widgets/controls",
          "model_name": "HBoxModel",
          "model_module_version": "1.5.0",
          "state": {
            "_dom_classes": [],
            "_model_module": "@jupyter-widgets/controls",
            "_model_module_version": "1.5.0",
            "_model_name": "HBoxModel",
            "_view_count": null,
            "_view_module": "@jupyter-widgets/controls",
            "_view_module_version": "1.5.0",
            "_view_name": "HBoxView",
            "box_style": "",
            "children": [
              "IPY_MODEL_61de072ae38246638d3bf6b94ebb0a60",
              "IPY_MODEL_77595932a62648069fca45618ba3cc88",
              "IPY_MODEL_a53e9cb3d28e49a69388d0a06a9b5c00"
            ],
            "layout": "IPY_MODEL_b5e511fe16884590aa9b5d1c0cda71a6"
          }
        },
        "61de072ae38246638d3bf6b94ebb0a60": {
          "model_module": "@jupyter-widgets/controls",
          "model_name": "HTMLModel",
          "model_module_version": "1.5.0",
          "state": {
            "_dom_classes": [],
            "_model_module": "@jupyter-widgets/controls",
            "_model_module_version": "1.5.0",
            "_model_name": "HTMLModel",
            "_view_count": null,
            "_view_module": "@jupyter-widgets/controls",
            "_view_module_version": "1.5.0",
            "_view_name": "HTMLView",
            "description": "",
            "description_tooltip": null,
            "layout": "IPY_MODEL_7d150b53876542b9a323a701787cb879",
            "placeholder": "​",
            "style": "IPY_MODEL_3a583431b3fb4ba9825be0a790027a64",
            "value": "Eliminating: LungDisease: 100%"
          }
        },
        "77595932a62648069fca45618ba3cc88": {
          "model_module": "@jupyter-widgets/controls",
          "model_name": "FloatProgressModel",
          "model_module_version": "1.5.0",
          "state": {
            "_dom_classes": [],
            "_model_module": "@jupyter-widgets/controls",
            "_model_module_version": "1.5.0",
            "_model_name": "FloatProgressModel",
            "_view_count": null,
            "_view_module": "@jupyter-widgets/controls",
            "_view_module_version": "1.5.0",
            "_view_name": "ProgressView",
            "bar_style": "success",
            "description": "",
            "description_tooltip": null,
            "layout": "IPY_MODEL_6ec986d3b3bf4b63b1411bf2831e128a",
            "max": 3,
            "min": 0,
            "orientation": "horizontal",
            "style": "IPY_MODEL_337224f303984954b49926cdd9567a6e",
            "value": 3
          }
        },
        "a53e9cb3d28e49a69388d0a06a9b5c00": {
          "model_module": "@jupyter-widgets/controls",
          "model_name": "HTMLModel",
          "model_module_version": "1.5.0",
          "state": {
            "_dom_classes": [],
            "_model_module": "@jupyter-widgets/controls",
            "_model_module_version": "1.5.0",
            "_model_name": "HTMLModel",
            "_view_count": null,
            "_view_module": "@jupyter-widgets/controls",
            "_view_module_version": "1.5.0",
            "_view_name": "HTMLView",
            "description": "",
            "description_tooltip": null,
            "layout": "IPY_MODEL_10882815a9c7459dad18ef117386e9db",
            "placeholder": "​",
            "style": "IPY_MODEL_6ac1a91d31374425bcc0a3018af914b9",
            "value": " 3/3 [00:00&lt;00:00, 88.95it/s]"
          }
        },
        "b5e511fe16884590aa9b5d1c0cda71a6": {
          "model_module": "@jupyter-widgets/base",
          "model_name": "LayoutModel",
          "model_module_version": "1.2.0",
          "state": {
            "_model_module": "@jupyter-widgets/base",
            "_model_module_version": "1.2.0",
            "_model_name": "LayoutModel",
            "_view_count": null,
            "_view_module": "@jupyter-widgets/base",
            "_view_module_version": "1.2.0",
            "_view_name": "LayoutView",
            "align_content": null,
            "align_items": null,
            "align_self": null,
            "border": null,
            "bottom": null,
            "display": null,
            "flex": null,
            "flex_flow": null,
            "grid_area": null,
            "grid_auto_columns": null,
            "grid_auto_flow": null,
            "grid_auto_rows": null,
            "grid_column": null,
            "grid_gap": null,
            "grid_row": null,
            "grid_template_areas": null,
            "grid_template_columns": null,
            "grid_template_rows": null,
            "height": null,
            "justify_content": null,
            "justify_items": null,
            "left": null,
            "margin": null,
            "max_height": null,
            "max_width": null,
            "min_height": null,
            "min_width": null,
            "object_fit": null,
            "object_position": null,
            "order": null,
            "overflow": null,
            "overflow_x": null,
            "overflow_y": null,
            "padding": null,
            "right": null,
            "top": null,
            "visibility": null,
            "width": null
          }
        },
        "7d150b53876542b9a323a701787cb879": {
          "model_module": "@jupyter-widgets/base",
          "model_name": "LayoutModel",
          "model_module_version": "1.2.0",
          "state": {
            "_model_module": "@jupyter-widgets/base",
            "_model_module_version": "1.2.0",
            "_model_name": "LayoutModel",
            "_view_count": null,
            "_view_module": "@jupyter-widgets/base",
            "_view_module_version": "1.2.0",
            "_view_name": "LayoutView",
            "align_content": null,
            "align_items": null,
            "align_self": null,
            "border": null,
            "bottom": null,
            "display": null,
            "flex": null,
            "flex_flow": null,
            "grid_area": null,
            "grid_auto_columns": null,
            "grid_auto_flow": null,
            "grid_auto_rows": null,
            "grid_column": null,
            "grid_gap": null,
            "grid_row": null,
            "grid_template_areas": null,
            "grid_template_columns": null,
            "grid_template_rows": null,
            "height": null,
            "justify_content": null,
            "justify_items": null,
            "left": null,
            "margin": null,
            "max_height": null,
            "max_width": null,
            "min_height": null,
            "min_width": null,
            "object_fit": null,
            "object_position": null,
            "order": null,
            "overflow": null,
            "overflow_x": null,
            "overflow_y": null,
            "padding": null,
            "right": null,
            "top": null,
            "visibility": null,
            "width": null
          }
        },
        "3a583431b3fb4ba9825be0a790027a64": {
          "model_module": "@jupyter-widgets/controls",
          "model_name": "DescriptionStyleModel",
          "model_module_version": "1.5.0",
          "state": {
            "_model_module": "@jupyter-widgets/controls",
            "_model_module_version": "1.5.0",
            "_model_name": "DescriptionStyleModel",
            "_view_count": null,
            "_view_module": "@jupyter-widgets/base",
            "_view_module_version": "1.2.0",
            "_view_name": "StyleView",
            "description_width": ""
          }
        },
        "6ec986d3b3bf4b63b1411bf2831e128a": {
          "model_module": "@jupyter-widgets/base",
          "model_name": "LayoutModel",
          "model_module_version": "1.2.0",
          "state": {
            "_model_module": "@jupyter-widgets/base",
            "_model_module_version": "1.2.0",
            "_model_name": "LayoutModel",
            "_view_count": null,
            "_view_module": "@jupyter-widgets/base",
            "_view_module_version": "1.2.0",
            "_view_name": "LayoutView",
            "align_content": null,
            "align_items": null,
            "align_self": null,
            "border": null,
            "bottom": null,
            "display": null,
            "flex": null,
            "flex_flow": null,
            "grid_area": null,
            "grid_auto_columns": null,
            "grid_auto_flow": null,
            "grid_auto_rows": null,
            "grid_column": null,
            "grid_gap": null,
            "grid_row": null,
            "grid_template_areas": null,
            "grid_template_columns": null,
            "grid_template_rows": null,
            "height": null,
            "justify_content": null,
            "justify_items": null,
            "left": null,
            "margin": null,
            "max_height": null,
            "max_width": null,
            "min_height": null,
            "min_width": null,
            "object_fit": null,
            "object_position": null,
            "order": null,
            "overflow": null,
            "overflow_x": null,
            "overflow_y": null,
            "padding": null,
            "right": null,
            "top": null,
            "visibility": null,
            "width": null
          }
        },
        "337224f303984954b49926cdd9567a6e": {
          "model_module": "@jupyter-widgets/controls",
          "model_name": "ProgressStyleModel",
          "model_module_version": "1.5.0",
          "state": {
            "_model_module": "@jupyter-widgets/controls",
            "_model_module_version": "1.5.0",
            "_model_name": "ProgressStyleModel",
            "_view_count": null,
            "_view_module": "@jupyter-widgets/base",
            "_view_module_version": "1.2.0",
            "_view_name": "StyleView",
            "bar_color": null,
            "description_width": ""
          }
        },
        "10882815a9c7459dad18ef117386e9db": {
          "model_module": "@jupyter-widgets/base",
          "model_name": "LayoutModel",
          "model_module_version": "1.2.0",
          "state": {
            "_model_module": "@jupyter-widgets/base",
            "_model_module_version": "1.2.0",
            "_model_name": "LayoutModel",
            "_view_count": null,
            "_view_module": "@jupyter-widgets/base",
            "_view_module_version": "1.2.0",
            "_view_name": "LayoutView",
            "align_content": null,
            "align_items": null,
            "align_self": null,
            "border": null,
            "bottom": null,
            "display": null,
            "flex": null,
            "flex_flow": null,
            "grid_area": null,
            "grid_auto_columns": null,
            "grid_auto_flow": null,
            "grid_auto_rows": null,
            "grid_column": null,
            "grid_gap": null,
            "grid_row": null,
            "grid_template_areas": null,
            "grid_template_columns": null,
            "grid_template_rows": null,
            "height": null,
            "justify_content": null,
            "justify_items": null,
            "left": null,
            "margin": null,
            "max_height": null,
            "max_width": null,
            "min_height": null,
            "min_width": null,
            "object_fit": null,
            "object_position": null,
            "order": null,
            "overflow": null,
            "overflow_x": null,
            "overflow_y": null,
            "padding": null,
            "right": null,
            "top": null,
            "visibility": null,
            "width": null
          }
        },
        "6ac1a91d31374425bcc0a3018af914b9": {
          "model_module": "@jupyter-widgets/controls",
          "model_name": "DescriptionStyleModel",
          "model_module_version": "1.5.0",
          "state": {
            "_model_module": "@jupyter-widgets/controls",
            "_model_module_version": "1.5.0",
            "_model_name": "DescriptionStyleModel",
            "_view_count": null,
            "_view_module": "@jupyter-widgets/base",
            "_view_module_version": "1.2.0",
            "_view_name": "StyleView",
            "description_width": ""
          }
        },
        "952b0e3a8f8340d2942974fefabf5c79": {
          "model_module": "@jupyter-widgets/controls",
          "model_name": "HBoxModel",
          "model_module_version": "1.5.0",
          "state": {
            "_dom_classes": [],
            "_model_module": "@jupyter-widgets/controls",
            "_model_module_version": "1.5.0",
            "_model_name": "HBoxModel",
            "_view_count": null,
            "_view_module": "@jupyter-widgets/controls",
            "_view_module_version": "1.5.0",
            "_view_name": "HBoxView",
            "box_style": "",
            "children": [
              "IPY_MODEL_d050169126304c63b762ee221b311188",
              "IPY_MODEL_06640ed7039d415abcd34c52432ac9e6",
              "IPY_MODEL_ff73fc4e10ec431eb4fc41833fd16569"
            ],
            "layout": "IPY_MODEL_9baf2aef7b1e45cab07fe3a84e3a8224"
          }
        },
        "d050169126304c63b762ee221b311188": {
          "model_module": "@jupyter-widgets/controls",
          "model_name": "HTMLModel",
          "model_module_version": "1.5.0",
          "state": {
            "_dom_classes": [],
            "_model_module": "@jupyter-widgets/controls",
            "_model_module_version": "1.5.0",
            "_model_name": "HTMLModel",
            "_view_count": null,
            "_view_module": "@jupyter-widgets/controls",
            "_view_module_version": "1.5.0",
            "_view_name": "HTMLView",
            "description": "",
            "description_tooltip": null,
            "layout": "IPY_MODEL_5077a0acc4bb46e68ee874507d6f17bb",
            "placeholder": "​",
            "style": "IPY_MODEL_ede9a6b0eab94fed8b61cf81065816bb",
            "value": "Finding Elimination Order: : 100%"
          }
        },
        "06640ed7039d415abcd34c52432ac9e6": {
          "model_module": "@jupyter-widgets/controls",
          "model_name": "FloatProgressModel",
          "model_module_version": "1.5.0",
          "state": {
            "_dom_classes": [],
            "_model_module": "@jupyter-widgets/controls",
            "_model_module_version": "1.5.0",
            "_model_name": "FloatProgressModel",
            "_view_count": null,
            "_view_module": "@jupyter-widgets/controls",
            "_view_module_version": "1.5.0",
            "_view_name": "ProgressView",
            "bar_style": "success",
            "description": "",
            "description_tooltip": null,
            "layout": "IPY_MODEL_01bf603fe626421ba1214481f516dc99",
            "max": 2,
            "min": 0,
            "orientation": "horizontal",
            "style": "IPY_MODEL_92427984806c46108f0104b7380099ad",
            "value": 2
          }
        },
        "ff73fc4e10ec431eb4fc41833fd16569": {
          "model_module": "@jupyter-widgets/controls",
          "model_name": "HTMLModel",
          "model_module_version": "1.5.0",
          "state": {
            "_dom_classes": [],
            "_model_module": "@jupyter-widgets/controls",
            "_model_module_version": "1.5.0",
            "_model_name": "HTMLModel",
            "_view_count": null,
            "_view_module": "@jupyter-widgets/controls",
            "_view_module_version": "1.5.0",
            "_view_name": "HTMLView",
            "description": "",
            "description_tooltip": null,
            "layout": "IPY_MODEL_cd9e169203a84ecca37b3cfd3f4b36dd",
            "placeholder": "​",
            "style": "IPY_MODEL_33bc229ee4e54bb9a56bc3d0f3e41ef2",
            "value": " 2/2 [00:00&lt;00:00, 12.49it/s]"
          }
        },
        "9baf2aef7b1e45cab07fe3a84e3a8224": {
          "model_module": "@jupyter-widgets/base",
          "model_name": "LayoutModel",
          "model_module_version": "1.2.0",
          "state": {
            "_model_module": "@jupyter-widgets/base",
            "_model_module_version": "1.2.0",
            "_model_name": "LayoutModel",
            "_view_count": null,
            "_view_module": "@jupyter-widgets/base",
            "_view_module_version": "1.2.0",
            "_view_name": "LayoutView",
            "align_content": null,
            "align_items": null,
            "align_self": null,
            "border": null,
            "bottom": null,
            "display": null,
            "flex": null,
            "flex_flow": null,
            "grid_area": null,
            "grid_auto_columns": null,
            "grid_auto_flow": null,
            "grid_auto_rows": null,
            "grid_column": null,
            "grid_gap": null,
            "grid_row": null,
            "grid_template_areas": null,
            "grid_template_columns": null,
            "grid_template_rows": null,
            "height": null,
            "justify_content": null,
            "justify_items": null,
            "left": null,
            "margin": null,
            "max_height": null,
            "max_width": null,
            "min_height": null,
            "min_width": null,
            "object_fit": null,
            "object_position": null,
            "order": null,
            "overflow": null,
            "overflow_x": null,
            "overflow_y": null,
            "padding": null,
            "right": null,
            "top": null,
            "visibility": null,
            "width": null
          }
        },
        "5077a0acc4bb46e68ee874507d6f17bb": {
          "model_module": "@jupyter-widgets/base",
          "model_name": "LayoutModel",
          "model_module_version": "1.2.0",
          "state": {
            "_model_module": "@jupyter-widgets/base",
            "_model_module_version": "1.2.0",
            "_model_name": "LayoutModel",
            "_view_count": null,
            "_view_module": "@jupyter-widgets/base",
            "_view_module_version": "1.2.0",
            "_view_name": "LayoutView",
            "align_content": null,
            "align_items": null,
            "align_self": null,
            "border": null,
            "bottom": null,
            "display": null,
            "flex": null,
            "flex_flow": null,
            "grid_area": null,
            "grid_auto_columns": null,
            "grid_auto_flow": null,
            "grid_auto_rows": null,
            "grid_column": null,
            "grid_gap": null,
            "grid_row": null,
            "grid_template_areas": null,
            "grid_template_columns": null,
            "grid_template_rows": null,
            "height": null,
            "justify_content": null,
            "justify_items": null,
            "left": null,
            "margin": null,
            "max_height": null,
            "max_width": null,
            "min_height": null,
            "min_width": null,
            "object_fit": null,
            "object_position": null,
            "order": null,
            "overflow": null,
            "overflow_x": null,
            "overflow_y": null,
            "padding": null,
            "right": null,
            "top": null,
            "visibility": null,
            "width": null
          }
        },
        "ede9a6b0eab94fed8b61cf81065816bb": {
          "model_module": "@jupyter-widgets/controls",
          "model_name": "DescriptionStyleModel",
          "model_module_version": "1.5.0",
          "state": {
            "_model_module": "@jupyter-widgets/controls",
            "_model_module_version": "1.5.0",
            "_model_name": "DescriptionStyleModel",
            "_view_count": null,
            "_view_module": "@jupyter-widgets/base",
            "_view_module_version": "1.2.0",
            "_view_name": "StyleView",
            "description_width": ""
          }
        },
        "01bf603fe626421ba1214481f516dc99": {
          "model_module": "@jupyter-widgets/base",
          "model_name": "LayoutModel",
          "model_module_version": "1.2.0",
          "state": {
            "_model_module": "@jupyter-widgets/base",
            "_model_module_version": "1.2.0",
            "_model_name": "LayoutModel",
            "_view_count": null,
            "_view_module": "@jupyter-widgets/base",
            "_view_module_version": "1.2.0",
            "_view_name": "LayoutView",
            "align_content": null,
            "align_items": null,
            "align_self": null,
            "border": null,
            "bottom": null,
            "display": null,
            "flex": null,
            "flex_flow": null,
            "grid_area": null,
            "grid_auto_columns": null,
            "grid_auto_flow": null,
            "grid_auto_rows": null,
            "grid_column": null,
            "grid_gap": null,
            "grid_row": null,
            "grid_template_areas": null,
            "grid_template_columns": null,
            "grid_template_rows": null,
            "height": null,
            "justify_content": null,
            "justify_items": null,
            "left": null,
            "margin": null,
            "max_height": null,
            "max_width": null,
            "min_height": null,
            "min_width": null,
            "object_fit": null,
            "object_position": null,
            "order": null,
            "overflow": null,
            "overflow_x": null,
            "overflow_y": null,
            "padding": null,
            "right": null,
            "top": null,
            "visibility": null,
            "width": null
          }
        },
        "92427984806c46108f0104b7380099ad": {
          "model_module": "@jupyter-widgets/controls",
          "model_name": "ProgressStyleModel",
          "model_module_version": "1.5.0",
          "state": {
            "_model_module": "@jupyter-widgets/controls",
            "_model_module_version": "1.5.0",
            "_model_name": "ProgressStyleModel",
            "_view_count": null,
            "_view_module": "@jupyter-widgets/base",
            "_view_module_version": "1.2.0",
            "_view_name": "StyleView",
            "bar_color": null,
            "description_width": ""
          }
        },
        "cd9e169203a84ecca37b3cfd3f4b36dd": {
          "model_module": "@jupyter-widgets/base",
          "model_name": "LayoutModel",
          "model_module_version": "1.2.0",
          "state": {
            "_model_module": "@jupyter-widgets/base",
            "_model_module_version": "1.2.0",
            "_model_name": "LayoutModel",
            "_view_count": null,
            "_view_module": "@jupyter-widgets/base",
            "_view_module_version": "1.2.0",
            "_view_name": "LayoutView",
            "align_content": null,
            "align_items": null,
            "align_self": null,
            "border": null,
            "bottom": null,
            "display": null,
            "flex": null,
            "flex_flow": null,
            "grid_area": null,
            "grid_auto_columns": null,
            "grid_auto_flow": null,
            "grid_auto_rows": null,
            "grid_column": null,
            "grid_gap": null,
            "grid_row": null,
            "grid_template_areas": null,
            "grid_template_columns": null,
            "grid_template_rows": null,
            "height": null,
            "justify_content": null,
            "justify_items": null,
            "left": null,
            "margin": null,
            "max_height": null,
            "max_width": null,
            "min_height": null,
            "min_width": null,
            "object_fit": null,
            "object_position": null,
            "order": null,
            "overflow": null,
            "overflow_x": null,
            "overflow_y": null,
            "padding": null,
            "right": null,
            "top": null,
            "visibility": null,
            "width": null
          }
        },
        "33bc229ee4e54bb9a56bc3d0f3e41ef2": {
          "model_module": "@jupyter-widgets/controls",
          "model_name": "DescriptionStyleModel",
          "model_module_version": "1.5.0",
          "state": {
            "_model_module": "@jupyter-widgets/controls",
            "_model_module_version": "1.5.0",
            "_model_name": "DescriptionStyleModel",
            "_view_count": null,
            "_view_module": "@jupyter-widgets/base",
            "_view_module_version": "1.2.0",
            "_view_name": "StyleView",
            "description_width": ""
          }
        },
        "ed3bd4dd97ef4e82aff0957fa19b6416": {
          "model_module": "@jupyter-widgets/controls",
          "model_name": "HBoxModel",
          "model_module_version": "1.5.0",
          "state": {
            "_dom_classes": [],
            "_model_module": "@jupyter-widgets/controls",
            "_model_module_version": "1.5.0",
            "_model_name": "HBoxModel",
            "_view_count": null,
            "_view_module": "@jupyter-widgets/controls",
            "_view_module_version": "1.5.0",
            "_view_name": "HBoxView",
            "box_style": "",
            "children": [
              "IPY_MODEL_5938212a3a004ea3bf0386c7ec7d838d",
              "IPY_MODEL_1a0d0867475c4acbb0533e8568586a8b",
              "IPY_MODEL_75805f66e4ba48f581af600654661e10"
            ],
            "layout": "IPY_MODEL_bb5339284ec44c7fbd437ab448edb488"
          }
        },
        "5938212a3a004ea3bf0386c7ec7d838d": {
          "model_module": "@jupyter-widgets/controls",
          "model_name": "HTMLModel",
          "model_module_version": "1.5.0",
          "state": {
            "_dom_classes": [],
            "_model_module": "@jupyter-widgets/controls",
            "_model_module_version": "1.5.0",
            "_model_name": "HTMLModel",
            "_view_count": null,
            "_view_module": "@jupyter-widgets/controls",
            "_view_module_version": "1.5.0",
            "_view_name": "HTMLView",
            "description": "",
            "description_tooltip": null,
            "layout": "IPY_MODEL_25c8c736b672451186258b6bbb11ea01",
            "placeholder": "​",
            "style": "IPY_MODEL_d28c8b9fdd2d4b92926f0b77e62bb74c",
            "value": "Eliminating: LungDisease: 100%"
          }
        },
        "1a0d0867475c4acbb0533e8568586a8b": {
          "model_module": "@jupyter-widgets/controls",
          "model_name": "FloatProgressModel",
          "model_module_version": "1.5.0",
          "state": {
            "_dom_classes": [],
            "_model_module": "@jupyter-widgets/controls",
            "_model_module_version": "1.5.0",
            "_model_name": "FloatProgressModel",
            "_view_count": null,
            "_view_module": "@jupyter-widgets/controls",
            "_view_module_version": "1.5.0",
            "_view_name": "ProgressView",
            "bar_style": "success",
            "description": "",
            "description_tooltip": null,
            "layout": "IPY_MODEL_aceaa7a4af4f493391fd04714bd90c00",
            "max": 2,
            "min": 0,
            "orientation": "horizontal",
            "style": "IPY_MODEL_d3f7506c920e4587adea7fb812f505f8",
            "value": 2
          }
        },
        "75805f66e4ba48f581af600654661e10": {
          "model_module": "@jupyter-widgets/controls",
          "model_name": "HTMLModel",
          "model_module_version": "1.5.0",
          "state": {
            "_dom_classes": [],
            "_model_module": "@jupyter-widgets/controls",
            "_model_module_version": "1.5.0",
            "_model_name": "HTMLModel",
            "_view_count": null,
            "_view_module": "@jupyter-widgets/controls",
            "_view_module_version": "1.5.0",
            "_view_name": "HTMLView",
            "description": "",
            "description_tooltip": null,
            "layout": "IPY_MODEL_38e05b2a295c4977bc3aa53443f6f4d6",
            "placeholder": "​",
            "style": "IPY_MODEL_b10d40d9e8854175a62790724d978f66",
            "value": " 2/2 [00:00&lt;00:00, 41.95it/s]"
          }
        },
        "bb5339284ec44c7fbd437ab448edb488": {
          "model_module": "@jupyter-widgets/base",
          "model_name": "LayoutModel",
          "model_module_version": "1.2.0",
          "state": {
            "_model_module": "@jupyter-widgets/base",
            "_model_module_version": "1.2.0",
            "_model_name": "LayoutModel",
            "_view_count": null,
            "_view_module": "@jupyter-widgets/base",
            "_view_module_version": "1.2.0",
            "_view_name": "LayoutView",
            "align_content": null,
            "align_items": null,
            "align_self": null,
            "border": null,
            "bottom": null,
            "display": null,
            "flex": null,
            "flex_flow": null,
            "grid_area": null,
            "grid_auto_columns": null,
            "grid_auto_flow": null,
            "grid_auto_rows": null,
            "grid_column": null,
            "grid_gap": null,
            "grid_row": null,
            "grid_template_areas": null,
            "grid_template_columns": null,
            "grid_template_rows": null,
            "height": null,
            "justify_content": null,
            "justify_items": null,
            "left": null,
            "margin": null,
            "max_height": null,
            "max_width": null,
            "min_height": null,
            "min_width": null,
            "object_fit": null,
            "object_position": null,
            "order": null,
            "overflow": null,
            "overflow_x": null,
            "overflow_y": null,
            "padding": null,
            "right": null,
            "top": null,
            "visibility": null,
            "width": null
          }
        },
        "25c8c736b672451186258b6bbb11ea01": {
          "model_module": "@jupyter-widgets/base",
          "model_name": "LayoutModel",
          "model_module_version": "1.2.0",
          "state": {
            "_model_module": "@jupyter-widgets/base",
            "_model_module_version": "1.2.0",
            "_model_name": "LayoutModel",
            "_view_count": null,
            "_view_module": "@jupyter-widgets/base",
            "_view_module_version": "1.2.0",
            "_view_name": "LayoutView",
            "align_content": null,
            "align_items": null,
            "align_self": null,
            "border": null,
            "bottom": null,
            "display": null,
            "flex": null,
            "flex_flow": null,
            "grid_area": null,
            "grid_auto_columns": null,
            "grid_auto_flow": null,
            "grid_auto_rows": null,
            "grid_column": null,
            "grid_gap": null,
            "grid_row": null,
            "grid_template_areas": null,
            "grid_template_columns": null,
            "grid_template_rows": null,
            "height": null,
            "justify_content": null,
            "justify_items": null,
            "left": null,
            "margin": null,
            "max_height": null,
            "max_width": null,
            "min_height": null,
            "min_width": null,
            "object_fit": null,
            "object_position": null,
            "order": null,
            "overflow": null,
            "overflow_x": null,
            "overflow_y": null,
            "padding": null,
            "right": null,
            "top": null,
            "visibility": null,
            "width": null
          }
        },
        "d28c8b9fdd2d4b92926f0b77e62bb74c": {
          "model_module": "@jupyter-widgets/controls",
          "model_name": "DescriptionStyleModel",
          "model_module_version": "1.5.0",
          "state": {
            "_model_module": "@jupyter-widgets/controls",
            "_model_module_version": "1.5.0",
            "_model_name": "DescriptionStyleModel",
            "_view_count": null,
            "_view_module": "@jupyter-widgets/base",
            "_view_module_version": "1.2.0",
            "_view_name": "StyleView",
            "description_width": ""
          }
        },
        "aceaa7a4af4f493391fd04714bd90c00": {
          "model_module": "@jupyter-widgets/base",
          "model_name": "LayoutModel",
          "model_module_version": "1.2.0",
          "state": {
            "_model_module": "@jupyter-widgets/base",
            "_model_module_version": "1.2.0",
            "_model_name": "LayoutModel",
            "_view_count": null,
            "_view_module": "@jupyter-widgets/base",
            "_view_module_version": "1.2.0",
            "_view_name": "LayoutView",
            "align_content": null,
            "align_items": null,
            "align_self": null,
            "border": null,
            "bottom": null,
            "display": null,
            "flex": null,
            "flex_flow": null,
            "grid_area": null,
            "grid_auto_columns": null,
            "grid_auto_flow": null,
            "grid_auto_rows": null,
            "grid_column": null,
            "grid_gap": null,
            "grid_row": null,
            "grid_template_areas": null,
            "grid_template_columns": null,
            "grid_template_rows": null,
            "height": null,
            "justify_content": null,
            "justify_items": null,
            "left": null,
            "margin": null,
            "max_height": null,
            "max_width": null,
            "min_height": null,
            "min_width": null,
            "object_fit": null,
            "object_position": null,
            "order": null,
            "overflow": null,
            "overflow_x": null,
            "overflow_y": null,
            "padding": null,
            "right": null,
            "top": null,
            "visibility": null,
            "width": null
          }
        },
        "d3f7506c920e4587adea7fb812f505f8": {
          "model_module": "@jupyter-widgets/controls",
          "model_name": "ProgressStyleModel",
          "model_module_version": "1.5.0",
          "state": {
            "_model_module": "@jupyter-widgets/controls",
            "_model_module_version": "1.5.0",
            "_model_name": "ProgressStyleModel",
            "_view_count": null,
            "_view_module": "@jupyter-widgets/base",
            "_view_module_version": "1.2.0",
            "_view_name": "StyleView",
            "bar_color": null,
            "description_width": ""
          }
        },
        "38e05b2a295c4977bc3aa53443f6f4d6": {
          "model_module": "@jupyter-widgets/base",
          "model_name": "LayoutModel",
          "model_module_version": "1.2.0",
          "state": {
            "_model_module": "@jupyter-widgets/base",
            "_model_module_version": "1.2.0",
            "_model_name": "LayoutModel",
            "_view_count": null,
            "_view_module": "@jupyter-widgets/base",
            "_view_module_version": "1.2.0",
            "_view_name": "LayoutView",
            "align_content": null,
            "align_items": null,
            "align_self": null,
            "border": null,
            "bottom": null,
            "display": null,
            "flex": null,
            "flex_flow": null,
            "grid_area": null,
            "grid_auto_columns": null,
            "grid_auto_flow": null,
            "grid_auto_rows": null,
            "grid_column": null,
            "grid_gap": null,
            "grid_row": null,
            "grid_template_areas": null,
            "grid_template_columns": null,
            "grid_template_rows": null,
            "height": null,
            "justify_content": null,
            "justify_items": null,
            "left": null,
            "margin": null,
            "max_height": null,
            "max_width": null,
            "min_height": null,
            "min_width": null,
            "object_fit": null,
            "object_position": null,
            "order": null,
            "overflow": null,
            "overflow_x": null,
            "overflow_y": null,
            "padding": null,
            "right": null,
            "top": null,
            "visibility": null,
            "width": null
          }
        },
        "b10d40d9e8854175a62790724d978f66": {
          "model_module": "@jupyter-widgets/controls",
          "model_name": "DescriptionStyleModel",
          "model_module_version": "1.5.0",
          "state": {
            "_model_module": "@jupyter-widgets/controls",
            "_model_module_version": "1.5.0",
            "_model_name": "DescriptionStyleModel",
            "_view_count": null,
            "_view_module": "@jupyter-widgets/base",
            "_view_module_version": "1.2.0",
            "_view_name": "StyleView",
            "description_width": ""
          }
        },
        "cd338c1529ed418080dc6227dedc897f": {
          "model_module": "@jupyter-widgets/controls",
          "model_name": "HBoxModel",
          "model_module_version": "1.5.0",
          "state": {
            "_dom_classes": [],
            "_model_module": "@jupyter-widgets/controls",
            "_model_module_version": "1.5.0",
            "_model_name": "HBoxModel",
            "_view_count": null,
            "_view_module": "@jupyter-widgets/controls",
            "_view_module_version": "1.5.0",
            "_view_name": "HBoxView",
            "box_style": "",
            "children": [
              "IPY_MODEL_3103f84c4e81410dab2cd9055074a9ff",
              "IPY_MODEL_aedc7558431640689f9219b4ffc5aefa",
              "IPY_MODEL_ceb14d42af504c97a0dfbffde7a3ffde"
            ],
            "layout": "IPY_MODEL_d512bc15ce8144f68f2d99c3795ff84e"
          }
        },
        "3103f84c4e81410dab2cd9055074a9ff": {
          "model_module": "@jupyter-widgets/controls",
          "model_name": "HTMLModel",
          "model_module_version": "1.5.0",
          "state": {
            "_dom_classes": [],
            "_model_module": "@jupyter-widgets/controls",
            "_model_module_version": "1.5.0",
            "_model_name": "HTMLModel",
            "_view_count": null,
            "_view_module": "@jupyter-widgets/controls",
            "_view_module_version": "1.5.0",
            "_view_name": "HTMLView",
            "description": "",
            "description_tooltip": null,
            "layout": "IPY_MODEL_52ebb0afabac426cb9a646fc41c1d723",
            "placeholder": "​",
            "style": "IPY_MODEL_475762ce9b71487495cde4ec660a095c",
            "value": "Finding Elimination Order: : "
          }
        },
        "aedc7558431640689f9219b4ffc5aefa": {
          "model_module": "@jupyter-widgets/controls",
          "model_name": "FloatProgressModel",
          "model_module_version": "1.5.0",
          "state": {
            "_dom_classes": [],
            "_model_module": "@jupyter-widgets/controls",
            "_model_module_version": "1.5.0",
            "_model_name": "FloatProgressModel",
            "_view_count": null,
            "_view_module": "@jupyter-widgets/controls",
            "_view_module_version": "1.5.0",
            "_view_name": "ProgressView",
            "bar_style": "success",
            "description": "",
            "description_tooltip": null,
            "layout": "IPY_MODEL_be8045dc62b249cbbba4bbbf6518b8eb",
            "max": 1,
            "min": 0,
            "orientation": "horizontal",
            "style": "IPY_MODEL_a6fb92582f0148bdaae5c473ba8a9978",
            "value": 0
          }
        },
        "ceb14d42af504c97a0dfbffde7a3ffde": {
          "model_module": "@jupyter-widgets/controls",
          "model_name": "HTMLModel",
          "model_module_version": "1.5.0",
          "state": {
            "_dom_classes": [],
            "_model_module": "@jupyter-widgets/controls",
            "_model_module_version": "1.5.0",
            "_model_name": "HTMLModel",
            "_view_count": null,
            "_view_module": "@jupyter-widgets/controls",
            "_view_module_version": "1.5.0",
            "_view_name": "HTMLView",
            "description": "",
            "description_tooltip": null,
            "layout": "IPY_MODEL_1351fddc637f4dcf92281c4d6e981cae",
            "placeholder": "​",
            "style": "IPY_MODEL_6823cab31b974742b056afabb882afce",
            "value": " 0/0 [00:00&lt;?, ?it/s]"
          }
        },
        "d512bc15ce8144f68f2d99c3795ff84e": {
          "model_module": "@jupyter-widgets/base",
          "model_name": "LayoutModel",
          "model_module_version": "1.2.0",
          "state": {
            "_model_module": "@jupyter-widgets/base",
            "_model_module_version": "1.2.0",
            "_model_name": "LayoutModel",
            "_view_count": null,
            "_view_module": "@jupyter-widgets/base",
            "_view_module_version": "1.2.0",
            "_view_name": "LayoutView",
            "align_content": null,
            "align_items": null,
            "align_self": null,
            "border": null,
            "bottom": null,
            "display": null,
            "flex": null,
            "flex_flow": null,
            "grid_area": null,
            "grid_auto_columns": null,
            "grid_auto_flow": null,
            "grid_auto_rows": null,
            "grid_column": null,
            "grid_gap": null,
            "grid_row": null,
            "grid_template_areas": null,
            "grid_template_columns": null,
            "grid_template_rows": null,
            "height": null,
            "justify_content": null,
            "justify_items": null,
            "left": null,
            "margin": null,
            "max_height": null,
            "max_width": null,
            "min_height": null,
            "min_width": null,
            "object_fit": null,
            "object_position": null,
            "order": null,
            "overflow": null,
            "overflow_x": null,
            "overflow_y": null,
            "padding": null,
            "right": null,
            "top": null,
            "visibility": null,
            "width": null
          }
        },
        "52ebb0afabac426cb9a646fc41c1d723": {
          "model_module": "@jupyter-widgets/base",
          "model_name": "LayoutModel",
          "model_module_version": "1.2.0",
          "state": {
            "_model_module": "@jupyter-widgets/base",
            "_model_module_version": "1.2.0",
            "_model_name": "LayoutModel",
            "_view_count": null,
            "_view_module": "@jupyter-widgets/base",
            "_view_module_version": "1.2.0",
            "_view_name": "LayoutView",
            "align_content": null,
            "align_items": null,
            "align_self": null,
            "border": null,
            "bottom": null,
            "display": null,
            "flex": null,
            "flex_flow": null,
            "grid_area": null,
            "grid_auto_columns": null,
            "grid_auto_flow": null,
            "grid_auto_rows": null,
            "grid_column": null,
            "grid_gap": null,
            "grid_row": null,
            "grid_template_areas": null,
            "grid_template_columns": null,
            "grid_template_rows": null,
            "height": null,
            "justify_content": null,
            "justify_items": null,
            "left": null,
            "margin": null,
            "max_height": null,
            "max_width": null,
            "min_height": null,
            "min_width": null,
            "object_fit": null,
            "object_position": null,
            "order": null,
            "overflow": null,
            "overflow_x": null,
            "overflow_y": null,
            "padding": null,
            "right": null,
            "top": null,
            "visibility": null,
            "width": null
          }
        },
        "475762ce9b71487495cde4ec660a095c": {
          "model_module": "@jupyter-widgets/controls",
          "model_name": "DescriptionStyleModel",
          "model_module_version": "1.5.0",
          "state": {
            "_model_module": "@jupyter-widgets/controls",
            "_model_module_version": "1.5.0",
            "_model_name": "DescriptionStyleModel",
            "_view_count": null,
            "_view_module": "@jupyter-widgets/base",
            "_view_module_version": "1.2.0",
            "_view_name": "StyleView",
            "description_width": ""
          }
        },
        "be8045dc62b249cbbba4bbbf6518b8eb": {
          "model_module": "@jupyter-widgets/base",
          "model_name": "LayoutModel",
          "model_module_version": "1.2.0",
          "state": {
            "_model_module": "@jupyter-widgets/base",
            "_model_module_version": "1.2.0",
            "_model_name": "LayoutModel",
            "_view_count": null,
            "_view_module": "@jupyter-widgets/base",
            "_view_module_version": "1.2.0",
            "_view_name": "LayoutView",
            "align_content": null,
            "align_items": null,
            "align_self": null,
            "border": null,
            "bottom": null,
            "display": null,
            "flex": null,
            "flex_flow": null,
            "grid_area": null,
            "grid_auto_columns": null,
            "grid_auto_flow": null,
            "grid_auto_rows": null,
            "grid_column": null,
            "grid_gap": null,
            "grid_row": null,
            "grid_template_areas": null,
            "grid_template_columns": null,
            "grid_template_rows": null,
            "height": null,
            "justify_content": null,
            "justify_items": null,
            "left": null,
            "margin": null,
            "max_height": null,
            "max_width": null,
            "min_height": null,
            "min_width": null,
            "object_fit": null,
            "object_position": null,
            "order": null,
            "overflow": null,
            "overflow_x": null,
            "overflow_y": null,
            "padding": null,
            "right": null,
            "top": null,
            "visibility": null,
            "width": "20px"
          }
        },
        "a6fb92582f0148bdaae5c473ba8a9978": {
          "model_module": "@jupyter-widgets/controls",
          "model_name": "ProgressStyleModel",
          "model_module_version": "1.5.0",
          "state": {
            "_model_module": "@jupyter-widgets/controls",
            "_model_module_version": "1.5.0",
            "_model_name": "ProgressStyleModel",
            "_view_count": null,
            "_view_module": "@jupyter-widgets/base",
            "_view_module_version": "1.2.0",
            "_view_name": "StyleView",
            "bar_color": null,
            "description_width": ""
          }
        },
        "1351fddc637f4dcf92281c4d6e981cae": {
          "model_module": "@jupyter-widgets/base",
          "model_name": "LayoutModel",
          "model_module_version": "1.2.0",
          "state": {
            "_model_module": "@jupyter-widgets/base",
            "_model_module_version": "1.2.0",
            "_model_name": "LayoutModel",
            "_view_count": null,
            "_view_module": "@jupyter-widgets/base",
            "_view_module_version": "1.2.0",
            "_view_name": "LayoutView",
            "align_content": null,
            "align_items": null,
            "align_self": null,
            "border": null,
            "bottom": null,
            "display": null,
            "flex": null,
            "flex_flow": null,
            "grid_area": null,
            "grid_auto_columns": null,
            "grid_auto_flow": null,
            "grid_auto_rows": null,
            "grid_column": null,
            "grid_gap": null,
            "grid_row": null,
            "grid_template_areas": null,
            "grid_template_columns": null,
            "grid_template_rows": null,
            "height": null,
            "justify_content": null,
            "justify_items": null,
            "left": null,
            "margin": null,
            "max_height": null,
            "max_width": null,
            "min_height": null,
            "min_width": null,
            "object_fit": null,
            "object_position": null,
            "order": null,
            "overflow": null,
            "overflow_x": null,
            "overflow_y": null,
            "padding": null,
            "right": null,
            "top": null,
            "visibility": null,
            "width": null
          }
        },
        "6823cab31b974742b056afabb882afce": {
          "model_module": "@jupyter-widgets/controls",
          "model_name": "DescriptionStyleModel",
          "model_module_version": "1.5.0",
          "state": {
            "_model_module": "@jupyter-widgets/controls",
            "_model_module_version": "1.5.0",
            "_model_name": "DescriptionStyleModel",
            "_view_count": null,
            "_view_module": "@jupyter-widgets/base",
            "_view_module_version": "1.2.0",
            "_view_name": "StyleView",
            "description_width": ""
          }
        },
        "90abc1d5f57848f89164e5287d251055": {
          "model_module": "@jupyter-widgets/controls",
          "model_name": "HBoxModel",
          "model_module_version": "1.5.0",
          "state": {
            "_dom_classes": [],
            "_model_module": "@jupyter-widgets/controls",
            "_model_module_version": "1.5.0",
            "_model_name": "HBoxModel",
            "_view_count": null,
            "_view_module": "@jupyter-widgets/controls",
            "_view_module_version": "1.5.0",
            "_view_name": "HBoxView",
            "box_style": "",
            "children": [
              "IPY_MODEL_12fe6eecc5d44f40aad4cc912eb7954f",
              "IPY_MODEL_ec3f938a226c40b48452084c1a37d64d",
              "IPY_MODEL_21bad8df4d6248888da4efe68b336f48"
            ],
            "layout": "IPY_MODEL_2acc4387e0b8417cadc37416565135ec"
          }
        },
        "12fe6eecc5d44f40aad4cc912eb7954f": {
          "model_module": "@jupyter-widgets/controls",
          "model_name": "HTMLModel",
          "model_module_version": "1.5.0",
          "state": {
            "_dom_classes": [],
            "_model_module": "@jupyter-widgets/controls",
            "_model_module_version": "1.5.0",
            "_model_name": "HTMLModel",
            "_view_count": null,
            "_view_module": "@jupyter-widgets/controls",
            "_view_module_version": "1.5.0",
            "_view_name": "HTMLView",
            "description": "",
            "description_tooltip": null,
            "layout": "IPY_MODEL_da8e37cf7b814c3a9840940ef684ce4a",
            "placeholder": "​",
            "style": "IPY_MODEL_02cd36ba44334003bf5f37b45e105bc8",
            "value": ""
          }
        },
        "ec3f938a226c40b48452084c1a37d64d": {
          "model_module": "@jupyter-widgets/controls",
          "model_name": "FloatProgressModel",
          "model_module_version": "1.5.0",
          "state": {
            "_dom_classes": [],
            "_model_module": "@jupyter-widgets/controls",
            "_model_module_version": "1.5.0",
            "_model_name": "FloatProgressModel",
            "_view_count": null,
            "_view_module": "@jupyter-widgets/controls",
            "_view_module_version": "1.5.0",
            "_view_name": "ProgressView",
            "bar_style": "success",
            "description": "",
            "description_tooltip": null,
            "layout": "IPY_MODEL_e64e15a6af114142901e1348f95f7a05",
            "max": 1,
            "min": 0,
            "orientation": "horizontal",
            "style": "IPY_MODEL_e44d6f704a4a4cccbc9992375834b2db",
            "value": 0
          }
        },
        "21bad8df4d6248888da4efe68b336f48": {
          "model_module": "@jupyter-widgets/controls",
          "model_name": "HTMLModel",
          "model_module_version": "1.5.0",
          "state": {
            "_dom_classes": [],
            "_model_module": "@jupyter-widgets/controls",
            "_model_module_version": "1.5.0",
            "_model_name": "HTMLModel",
            "_view_count": null,
            "_view_module": "@jupyter-widgets/controls",
            "_view_module_version": "1.5.0",
            "_view_name": "HTMLView",
            "description": "",
            "description_tooltip": null,
            "layout": "IPY_MODEL_27fa55ee233040789a23953c0de51ffa",
            "placeholder": "​",
            "style": "IPY_MODEL_ab5da1c450bb482d823be6ab8d774eec",
            "value": " 0/0 [00:00&lt;?, ?it/s]"
          }
        },
        "2acc4387e0b8417cadc37416565135ec": {
          "model_module": "@jupyter-widgets/base",
          "model_name": "LayoutModel",
          "model_module_version": "1.2.0",
          "state": {
            "_model_module": "@jupyter-widgets/base",
            "_model_module_version": "1.2.0",
            "_model_name": "LayoutModel",
            "_view_count": null,
            "_view_module": "@jupyter-widgets/base",
            "_view_module_version": "1.2.0",
            "_view_name": "LayoutView",
            "align_content": null,
            "align_items": null,
            "align_self": null,
            "border": null,
            "bottom": null,
            "display": null,
            "flex": null,
            "flex_flow": null,
            "grid_area": null,
            "grid_auto_columns": null,
            "grid_auto_flow": null,
            "grid_auto_rows": null,
            "grid_column": null,
            "grid_gap": null,
            "grid_row": null,
            "grid_template_areas": null,
            "grid_template_columns": null,
            "grid_template_rows": null,
            "height": null,
            "justify_content": null,
            "justify_items": null,
            "left": null,
            "margin": null,
            "max_height": null,
            "max_width": null,
            "min_height": null,
            "min_width": null,
            "object_fit": null,
            "object_position": null,
            "order": null,
            "overflow": null,
            "overflow_x": null,
            "overflow_y": null,
            "padding": null,
            "right": null,
            "top": null,
            "visibility": null,
            "width": null
          }
        },
        "da8e37cf7b814c3a9840940ef684ce4a": {
          "model_module": "@jupyter-widgets/base",
          "model_name": "LayoutModel",
          "model_module_version": "1.2.0",
          "state": {
            "_model_module": "@jupyter-widgets/base",
            "_model_module_version": "1.2.0",
            "_model_name": "LayoutModel",
            "_view_count": null,
            "_view_module": "@jupyter-widgets/base",
            "_view_module_version": "1.2.0",
            "_view_name": "LayoutView",
            "align_content": null,
            "align_items": null,
            "align_self": null,
            "border": null,
            "bottom": null,
            "display": null,
            "flex": null,
            "flex_flow": null,
            "grid_area": null,
            "grid_auto_columns": null,
            "grid_auto_flow": null,
            "grid_auto_rows": null,
            "grid_column": null,
            "grid_gap": null,
            "grid_row": null,
            "grid_template_areas": null,
            "grid_template_columns": null,
            "grid_template_rows": null,
            "height": null,
            "justify_content": null,
            "justify_items": null,
            "left": null,
            "margin": null,
            "max_height": null,
            "max_width": null,
            "min_height": null,
            "min_width": null,
            "object_fit": null,
            "object_position": null,
            "order": null,
            "overflow": null,
            "overflow_x": null,
            "overflow_y": null,
            "padding": null,
            "right": null,
            "top": null,
            "visibility": null,
            "width": null
          }
        },
        "02cd36ba44334003bf5f37b45e105bc8": {
          "model_module": "@jupyter-widgets/controls",
          "model_name": "DescriptionStyleModel",
          "model_module_version": "1.5.0",
          "state": {
            "_model_module": "@jupyter-widgets/controls",
            "_model_module_version": "1.5.0",
            "_model_name": "DescriptionStyleModel",
            "_view_count": null,
            "_view_module": "@jupyter-widgets/base",
            "_view_module_version": "1.2.0",
            "_view_name": "StyleView",
            "description_width": ""
          }
        },
        "e64e15a6af114142901e1348f95f7a05": {
          "model_module": "@jupyter-widgets/base",
          "model_name": "LayoutModel",
          "model_module_version": "1.2.0",
          "state": {
            "_model_module": "@jupyter-widgets/base",
            "_model_module_version": "1.2.0",
            "_model_name": "LayoutModel",
            "_view_count": null,
            "_view_module": "@jupyter-widgets/base",
            "_view_module_version": "1.2.0",
            "_view_name": "LayoutView",
            "align_content": null,
            "align_items": null,
            "align_self": null,
            "border": null,
            "bottom": null,
            "display": null,
            "flex": null,
            "flex_flow": null,
            "grid_area": null,
            "grid_auto_columns": null,
            "grid_auto_flow": null,
            "grid_auto_rows": null,
            "grid_column": null,
            "grid_gap": null,
            "grid_row": null,
            "grid_template_areas": null,
            "grid_template_columns": null,
            "grid_template_rows": null,
            "height": null,
            "justify_content": null,
            "justify_items": null,
            "left": null,
            "margin": null,
            "max_height": null,
            "max_width": null,
            "min_height": null,
            "min_width": null,
            "object_fit": null,
            "object_position": null,
            "order": null,
            "overflow": null,
            "overflow_x": null,
            "overflow_y": null,
            "padding": null,
            "right": null,
            "top": null,
            "visibility": null,
            "width": "20px"
          }
        },
        "e44d6f704a4a4cccbc9992375834b2db": {
          "model_module": "@jupyter-widgets/controls",
          "model_name": "ProgressStyleModel",
          "model_module_version": "1.5.0",
          "state": {
            "_model_module": "@jupyter-widgets/controls",
            "_model_module_version": "1.5.0",
            "_model_name": "ProgressStyleModel",
            "_view_count": null,
            "_view_module": "@jupyter-widgets/base",
            "_view_module_version": "1.2.0",
            "_view_name": "StyleView",
            "bar_color": null,
            "description_width": ""
          }
        },
        "27fa55ee233040789a23953c0de51ffa": {
          "model_module": "@jupyter-widgets/base",
          "model_name": "LayoutModel",
          "model_module_version": "1.2.0",
          "state": {
            "_model_module": "@jupyter-widgets/base",
            "_model_module_version": "1.2.0",
            "_model_name": "LayoutModel",
            "_view_count": null,
            "_view_module": "@jupyter-widgets/base",
            "_view_module_version": "1.2.0",
            "_view_name": "LayoutView",
            "align_content": null,
            "align_items": null,
            "align_self": null,
            "border": null,
            "bottom": null,
            "display": null,
            "flex": null,
            "flex_flow": null,
            "grid_area": null,
            "grid_auto_columns": null,
            "grid_auto_flow": null,
            "grid_auto_rows": null,
            "grid_column": null,
            "grid_gap": null,
            "grid_row": null,
            "grid_template_areas": null,
            "grid_template_columns": null,
            "grid_template_rows": null,
            "height": null,
            "justify_content": null,
            "justify_items": null,
            "left": null,
            "margin": null,
            "max_height": null,
            "max_width": null,
            "min_height": null,
            "min_width": null,
            "object_fit": null,
            "object_position": null,
            "order": null,
            "overflow": null,
            "overflow_x": null,
            "overflow_y": null,
            "padding": null,
            "right": null,
            "top": null,
            "visibility": null,
            "width": null
          }
        },
        "ab5da1c450bb482d823be6ab8d774eec": {
          "model_module": "@jupyter-widgets/controls",
          "model_name": "DescriptionStyleModel",
          "model_module_version": "1.5.0",
          "state": {
            "_model_module": "@jupyter-widgets/controls",
            "_model_module_version": "1.5.0",
            "_model_name": "DescriptionStyleModel",
            "_view_count": null,
            "_view_module": "@jupyter-widgets/base",
            "_view_module_version": "1.2.0",
            "_view_name": "StyleView",
            "description_width": ""
          }
        }
      }
    }
  },
  "nbformat": 4,
  "nbformat_minor": 0
}