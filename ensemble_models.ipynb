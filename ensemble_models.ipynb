{
 "cells": [
  {
   "cell_type": "code",
   "execution_count": 1,
   "id": "cfad450b",
   "metadata": {},
   "outputs": [],
   "source": [
    "from sklearn.model_selection import cross_val_score\n",
    "from sklearn import datasets\n",
    "from sklearn.ensemble import AdaBoostClassifier, GradientBoostingClassifier, BaggingClassifier, RandomForestClassifier\n",
    "from sklearn.naive_bayes import GaussianNB\n",
    "from sklearn.tree import DecisionTreeClassifier\n",
    "from sklearn.linear_model import LogisticRegression, Perceptron\n",
    "from sklearn.model_selection import train_test_split\n",
    "from sklearn.model_selection import cross_val_predict, StratifiedKFold\n",
    "from sklearn import metrics\n",
    "from sklearn.ensemble import VotingClassifier\n",
    "\n",
    "import numpy as np\n",
    "import matplotlib.pyplot as plt"
   ]
  },
  {
   "cell_type": "code",
   "execution_count": 2,
   "id": "c517b4b1",
   "metadata": {},
   "outputs": [],
   "source": [
    "import warnings\n",
    "warnings.filterwarnings(\"ignore\")"
   ]
  },
  {
   "cell_type": "code",
   "execution_count": 3,
   "id": "9462a012",
   "metadata": {},
   "outputs": [
    {
     "name": "stdout",
     "output_type": "stream",
     "text": [
      ".. _diabetes_dataset:\n",
      "\n",
      "Diabetes dataset\n",
      "----------------\n",
      "\n",
      "Ten baseline variables, age, sex, body mass index, average blood\n",
      "pressure, and six blood serum measurements were obtained for each of n =\n",
      "442 diabetes patients, as well as the response of interest, a\n",
      "quantitative measure of disease progression one year after baseline.\n",
      "\n",
      "**Data Set Characteristics:**\n",
      "\n",
      ":Number of Instances: 442\n",
      "\n",
      ":Number of Attributes: First 10 columns are numeric predictive values\n",
      "\n",
      ":Target: Column 11 is a quantitative measure of disease progression one year after baseline\n",
      "\n",
      ":Attribute Information:\n",
      "    - age     age in years\n",
      "    - sex\n",
      "    - bmi     body mass index\n",
      "    - bp      average blood pressure\n",
      "    - s1      tc, total serum cholesterol\n",
      "    - s2      ldl, low-density lipoproteins\n",
      "    - s3      hdl, high-density lipoproteins\n",
      "    - s4      tch, total cholesterol / HDL\n",
      "    - s5      ltg, possibly log of serum triglycerides level\n",
      "    - s6      glu, blood sugar level\n",
      "\n",
      "Note: Each of these 10 feature variables have been mean centered and scaled by the standard deviation times the square root of `n_samples` (i.e. the sum of squares of each column totals 1).\n",
      "\n",
      "Source URL:\n",
      "https://www4.stat.ncsu.edu/~boos/var.select/diabetes.html\n",
      "\n",
      "For more information see:\n",
      "Bradley Efron, Trevor Hastie, Iain Johnstone and Robert Tibshirani (2004) \"Least Angle Regression,\" Annals of Statistics (with discussion), 407-499.\n",
      "(https://web.stanford.edu/~hastie/Papers/LARS/LeastAngle_2002.pdf)\n",
      "\n"
     ]
    }
   ],
   "source": [
    "diabetes = datasets.load_diabetes()\n",
    "X = diabetes['data']\n",
    "target = diabetes['target']\n",
    "print(diabetes['DESCR'])"
   ]
  },
  {
   "cell_type": "code",
   "execution_count": 4,
   "id": "546e85f9",
   "metadata": {},
   "outputs": [
    {
     "data": {
      "text/plain": [
       "(array([38., 80., 68., 62., 50., 41., 38., 42., 17.,  6.]),\n",
       " array([ 25. ,  57.1,  89.2, 121.3, 153.4, 185.5, 217.6, 249.7, 281.8,\n",
       "        313.9, 346. ]),\n",
       " <BarContainer object of 10 artists>)"
      ]
     },
     "execution_count": 4,
     "metadata": {},
     "output_type": "execute_result"
    },
    {
     "data": {
      "image/png": "[encoded data removed]",
      "text/plain": [
       "<Figure size 640x480 with 1 Axes>"
      ]
     },
     "metadata": {},
     "output_type": "display_data"
    }
   ],
   "source": [
    "plt.hist(target)"
   ]
  },
  {
   "cell_type": "markdown",
   "id": "d755e794",
   "metadata": {},
   "source": [
    "### Discretize the output to create binary outcome"
   ]
  },
  {
   "cell_type": "code",
   "execution_count": 5,
   "id": "3578b158",
   "metadata": {},
   "outputs": [
    {
     "data": {
      "text/plain": [
       "array([1, 0, 0, 1, 0, 0, 0, 0, 0, 1, 0, 0, 1, 1, 0, 1, 1, 0, 0, 1, 0, 0,\n",
       "       0, 1, 1, 1, 0, 0, 0, 1, 0, 0, 1, 0, 0, 0, 1, 1, 1, 0, 0, 0, 0, 0,\n",
       "       1, 0, 1, 0, 0, 0, 1, 1, 0, 0, 1, 0, 0, 0, 1, 1, 0, 0, 0, 0, 0, 1,\n",
       "       0, 0, 1, 1, 0, 1, 1, 0, 0, 0, 1, 1, 1, 0, 0, 0, 0, 1, 0, 0, 0, 0,\n",
       "       0, 0, 0, 1, 0, 0, 0, 1, 0, 1, 0, 0, 0, 0, 1, 1, 0, 0, 0, 0, 1, 0,\n",
       "       0, 0, 1, 1, 1, 1, 1, 1, 1, 1, 1, 1, 1, 0, 0, 1, 0, 0, 0, 1, 1, 1,\n",
       "       0, 0, 0, 1, 0, 1, 1, 1, 0, 1, 1, 0, 1, 1, 1, 0, 0, 0, 1, 0, 1, 0,\n",
       "       1, 1, 0, 0, 0, 1, 0, 1, 1, 0, 1, 0, 0, 1, 1, 1, 0, 0, 1, 0, 1, 0,\n",
       "       1, 1, 0, 1, 0, 0, 0, 1, 1, 0, 0, 0, 0, 0, 1, 1, 0, 0, 0, 0, 0, 0,\n",
       "       0, 0, 1, 0, 1, 1, 1, 0, 1, 1, 1, 0, 1, 0, 0, 0, 0, 1, 1, 1, 1, 1,\n",
       "       0, 0, 1, 0, 0, 1, 0, 0, 1, 0, 1, 1, 1, 0, 1, 0, 0, 0, 1, 1, 1, 1,\n",
       "       0, 0, 1, 0, 0, 0, 1, 1, 1, 1, 0, 0, 1, 1, 1, 0, 0, 0, 0, 0, 1, 0,\n",
       "       0, 0, 0, 0, 1, 0, 1, 0, 1, 1, 0, 0, 1, 0, 0, 1, 1, 0, 1, 1, 1, 1,\n",
       "       0, 1, 0, 0, 1, 1, 0, 1, 0, 0, 0, 0, 0, 0, 1, 0, 1, 1, 1, 0, 0, 1,\n",
       "       0, 0, 0, 1, 0, 1, 0, 0, 1, 1, 0, 1, 0, 1, 1, 1, 1, 1, 0, 1, 0, 0,\n",
       "       1, 1, 1, 1, 0, 0, 1, 0, 1, 0, 1, 1, 1, 0, 1, 0, 0, 0, 0, 0, 1, 0,\n",
       "       0, 0, 1, 0, 0, 1, 0, 1, 1, 1, 1, 0, 1, 1, 1, 1, 0, 1, 0, 1, 0, 1,\n",
       "       0, 1, 0, 1, 1, 0, 0, 0, 0, 0, 0, 1, 0, 1, 0, 0, 1, 0, 0, 0, 1, 1,\n",
       "       0, 1, 1, 1, 1, 0, 1, 1, 1, 1, 0, 0, 1, 1, 1, 0, 1, 0, 0, 1, 1, 0,\n",
       "       0, 0, 0, 1, 1, 0, 0, 1, 0, 0, 1, 0, 1, 0, 1, 0, 0, 0, 0, 1, 0, 0,\n",
       "       1, 0])"
      ]
     },
     "execution_count": 5,
     "metadata": {},
     "output_type": "execute_result"
    }
   ],
   "source": [
    "y = np.where(target > 150, 1, 0)\n",
    "y"
   ]
  },
  {
   "cell_type": "code",
   "execution_count": 6,
   "id": "8824f6cc",
   "metadata": {},
   "outputs": [],
   "source": [
    "X_train, X_test, y_train, y_test = train_test_split(\n",
    "    X, y, test_size = 0.33, random_state = 42)"
   ]
  },
  {
   "cell_type": "markdown",
   "id": "fa3450a7",
   "metadata": {},
   "source": [
    "### Try different models"
   ]
  },
  {
   "cell_type": "code",
   "execution_count": 7,
   "id": "44990645",
   "metadata": {},
   "outputs": [
    {
     "data": {
      "text/plain": [
       "0.6959887005649718"
      ]
     },
     "execution_count": 7,
     "metadata": {},
     "output_type": "execute_result"
    }
   ],
   "source": [
    "gnb = GaussianNB()\n",
    "scores = cross_val_score(gnb, X_train, y_train, cv = 5)\n",
    "scores.mean()"
   ]
  },
  {
   "cell_type": "code",
   "execution_count": 8,
   "id": "eff57c28",
   "metadata": {},
   "outputs": [
    {
     "data": {
      "text/plain": [
       "0.6384180790960452"
      ]
     },
     "execution_count": 8,
     "metadata": {},
     "output_type": "execute_result"
    }
   ],
   "source": [
    "dtree = DecisionTreeClassifier(random_state = 0)\n",
    "scores = cross_val_score(dtree, X_train, y_train, cv = 5)\n",
    "scores.mean()"
   ]
  },
  {
   "cell_type": "code",
   "execution_count": 9,
   "id": "717fdee7",
   "metadata": {},
   "outputs": [
    {
     "data": {
      "text/plain": [
       "0.7028813559322035"
      ]
     },
     "execution_count": 9,
     "metadata": {},
     "output_type": "execute_result"
    }
   ],
   "source": [
    "logreg = LogisticRegression(random_state = 0)\n",
    "scores = cross_val_score(logreg, X_train, y_train, cv = 5)\n",
    "scores.mean()"
   ]
  },
  {
   "cell_type": "code",
   "execution_count": 10,
   "id": "42fbaf24",
   "metadata": {},
   "outputs": [
    {
     "data": {
      "text/plain": [
       "0.6388135593220339"
      ]
     },
     "execution_count": 10,
     "metadata": {},
     "output_type": "execute_result"
    }
   ],
   "source": [
    "perceptron = Perceptron(random_state = 0)\n",
    "scores = cross_val_score(perceptron, X_train, y_train, cv = 5)\n",
    "scores.mean()"
   ]
  },
  {
   "cell_type": "markdown",
   "id": "9738d2a4",
   "metadata": {},
   "source": [
    "# Adaboost"
   ]
  },
  {
   "cell_type": "markdown",
   "id": "912d57fa",
   "metadata": {},
   "source": [
    "### Deault AdaBoost"
   ]
  },
  {
   "cell_type": "code",
   "execution_count": 11,
   "id": "13e188e8",
   "metadata": {},
   "outputs": [
    {
     "data": {
      "text/plain": [
       "0.6587570621468927"
      ]
     },
     "execution_count": 11,
     "metadata": {},
     "output_type": "execute_result"
    }
   ],
   "source": [
    "adaboost = AdaBoostClassifier(n_estimators = 100, random_state = 0)\n",
    "scores = cross_val_score(adaboost, X_train, y_train, cv = 5)\n",
    "scores.mean()"
   ]
  },
  {
   "cell_type": "markdown",
   "id": "5ccc9052",
   "metadata": {},
   "source": [
    "### AdaBoost with Decision tree"
   ]
  },
  {
   "cell_type": "code",
   "execution_count": 12,
   "id": "a6ca6494",
   "metadata": {},
   "outputs": [
    {
     "data": {
      "text/plain": [
       "0.6587570621468927"
      ]
     },
     "execution_count": 12,
     "metadata": {},
     "output_type": "execute_result"
    }
   ],
   "source": [
    "adaboost = AdaBoostClassifier(estimator = DecisionTreeClassifier(max_depth = 1, random_state = 0), \n",
    "                              n_estimators = 100, \n",
    "                              random_state = 0)\n",
    "scores = cross_val_score(adaboost, X_train, y_train, cv = 5)\n",
    "scores.mean()"
   ]
  },
  {
   "cell_type": "code",
   "execution_count": 13,
   "id": "b29468c0",
   "metadata": {},
   "outputs": [
    {
     "data": {
      "text/plain": [
       "0.6588135593220339"
      ]
     },
     "execution_count": 13,
     "metadata": {},
     "output_type": "execute_result"
    }
   ],
   "source": [
    "adaboost = AdaBoostClassifier(estimator = DecisionTreeClassifier(max_depth = 3, random_state = 0), \n",
    "                              n_estimators = 100, \n",
    "                              random_state = 0)\n",
    "scores = cross_val_score(adaboost, X_train, y_train, cv = 5)\n",
    "scores.mean()"
   ]
  },
  {
   "cell_type": "code",
   "execution_count": 14,
   "id": "610d2a0e",
   "metadata": {},
   "outputs": [
    {
     "data": {
      "text/plain": [
       "0.6520338983050847"
      ]
     },
     "execution_count": 14,
     "metadata": {},
     "output_type": "execute_result"
    }
   ],
   "source": [
    "adaboost = AdaBoostClassifier(estimator = DecisionTreeClassifier(max_depth = 20, random_state = 0), \n",
    "                              n_estimators = 100, \n",
    "                              random_state = 0)\n",
    "scores = cross_val_score(adaboost, X_train, y_train, cv = 5)\n",
    "scores.mean()"
   ]
  },
  {
   "cell_type": "markdown",
   "id": "84b6cadc",
   "metadata": {},
   "source": [
    "### AdaBoost with Gaussian Naive Bayes"
   ]
  },
  {
   "cell_type": "code",
   "execution_count": 15,
   "id": "364dc267",
   "metadata": {},
   "outputs": [
    {
     "data": {
      "text/plain": [
       "0.5166666666666667"
      ]
     },
     "execution_count": 15,
     "metadata": {},
     "output_type": "execute_result"
    }
   ],
   "source": [
    "adaboost = AdaBoostClassifier(estimator = gnb, n_estimators = 100)\n",
    "scores = cross_val_score(adaboost, X_train, y_train, cv = 5)\n",
    "scores.mean()"
   ]
  },
  {
   "cell_type": "markdown",
   "id": "69c74715",
   "metadata": {},
   "source": [
    "### AdaBoost with Perceptron"
   ]
  },
  {
   "cell_type": "code",
   "execution_count": 16,
   "id": "322b95ab",
   "metadata": {},
   "outputs": [
    {
     "data": {
      "text/plain": [
       "0.7129378531073446"
      ]
     },
     "execution_count": 16,
     "metadata": {},
     "output_type": "execute_result"
    }
   ],
   "source": [
    "adaboost = AdaBoostClassifier(estimator = perceptron, n_estimators = 100, algorithm = 'SAMME')\n",
    "scores = cross_val_score(adaboost, X_train, y_train, cv = 5)\n",
    "scores.mean()"
   ]
  },
  {
   "cell_type": "markdown",
   "id": "e9d38547",
   "metadata": {},
   "source": [
    "### AdaBoost with Logistic Regression"
   ]
  },
  {
   "cell_type": "code",
   "execution_count": 17,
   "id": "6220d708",
   "metadata": {},
   "outputs": [
    {
     "data": {
      "text/plain": [
       "0.631864406779661"
      ]
     },
     "execution_count": 17,
     "metadata": {},
     "output_type": "execute_result"
    }
   ],
   "source": [
    "adaboost = AdaBoostClassifier(estimator = logreg, n_estimators = 100)\n",
    "scores = cross_val_score(adaboost, X_train, y_train, cv = 5)\n",
    "scores.mean()"
   ]
  },
  {
   "cell_type": "markdown",
   "id": "746890d5",
   "metadata": {},
   "source": [
    "# Gradient Boosting"
   ]
  },
  {
   "cell_type": "code",
   "execution_count": 18,
   "id": "92923824",
   "metadata": {},
   "outputs": [
    {
     "data": {
      "text/plain": [
       "0.6725423728813559"
      ]
     },
     "execution_count": 18,
     "metadata": {},
     "output_type": "execute_result"
    }
   ],
   "source": [
    "gboost = GradientBoostingClassifier(n_estimators = 100, random_state = 0, max_depth = 3)\n",
    "scores = cross_val_score(gboost, X_train, y_train, cv = 5)\n",
    "scores.mean()"
   ]
  },
  {
   "cell_type": "code",
   "execution_count": 19,
   "id": "f90104c2",
   "metadata": {},
   "outputs": [
    {
     "data": {
      "text/plain": [
       "0.6794350282485875"
      ]
     },
     "execution_count": 19,
     "metadata": {},
     "output_type": "execute_result"
    }
   ],
   "source": [
    "gboost = GradientBoostingClassifier(n_estimators = 100, random_state = 0, max_depth = 8)\n",
    "scores = cross_val_score(gboost, X_train, y_train, cv = 5)\n",
    "scores.mean()"
   ]
  },
  {
   "cell_type": "code",
   "execution_count": 20,
   "id": "89ff3715",
   "metadata": {},
   "outputs": [
    {
     "data": {
      "text/plain": [
       "0.6554802259887005"
      ]
     },
     "execution_count": 20,
     "metadata": {},
     "output_type": "execute_result"
    }
   ],
   "source": [
    "gboost = GradientBoostingClassifier(n_estimators = 100, random_state = 0, max_depth = 20)\n",
    "scores = cross_val_score(gboost, X_train, y_train, cv = 5)\n",
    "scores.mean()"
   ]
  },
  {
   "cell_type": "markdown",
   "id": "75f9a69a",
   "metadata": {},
   "source": [
    "# Random Forest"
   ]
  },
  {
   "cell_type": "code",
   "execution_count": 21,
   "id": "2e4bdf6e",
   "metadata": {},
   "outputs": [
    {
     "data": {
      "text/plain": [
       "0.7298305084745763"
      ]
     },
     "execution_count": 21,
     "metadata": {},
     "output_type": "execute_result"
    }
   ],
   "source": [
    "rforest = RandomForestClassifier(n_estimators = 100, random_state = 0, bootstrap = True,\n",
    "                                 max_depth = None, max_features = 0.5, max_samples = 0.5)\n",
    "scores = cross_val_score(rforest, X_train, y_train, cv = 5)\n",
    "scores.mean()"
   ]
  },
  {
   "cell_type": "markdown",
   "id": "33d6d3e2",
   "metadata": {},
   "source": [
    "# Bagging Classifier"
   ]
  },
  {
   "cell_type": "markdown",
   "id": "93cbe822",
   "metadata": {},
   "source": [
    "### Bagging Classifier with Decision tree"
   ]
  },
  {
   "cell_type": "code",
   "execution_count": 22,
   "id": "0233f85c",
   "metadata": {},
   "outputs": [],
   "source": [
    "dtree = DecisionTreeClassifier(max_depth = None,\n",
    "                               criterion = 'gini',\n",
    "                               min_samples_split = 2,\n",
    "                               min_samples_leaf = 1,\n",
    "                               min_weight_fraction_leaf = 0.0,\n",
    "                               max_features = None,\n",
    "                               max_leaf_nodes = None,\n",
    "                               min_impurity_decrease = 0.0,\n",
    "                               random_state = 0,\n",
    "                               class_weight = None,\n",
    "                               ccp_alpha = 0.0)"
   ]
  },
  {
   "cell_type": "code",
   "execution_count": 23,
   "id": "762a8391",
   "metadata": {},
   "outputs": [
    {
     "data": {
      "text/plain": [
       "0.6417514124293785"
      ]
     },
     "execution_count": 23,
     "metadata": {},
     "output_type": "execute_result"
    }
   ],
   "source": [
    "bag = BaggingClassifier(estimator = dtree, \n",
    "                        n_estimators = 100, \n",
    "                        random_state = 0,\n",
    "                        bootstrap = False, \n",
    "                        bootstrap_features = False)\n",
    "scores = cross_val_score(bag, X_train, y_train, cv = 5)\n",
    "scores.mean()"
   ]
  },
  {
   "cell_type": "code",
   "execution_count": 24,
   "id": "4c5e066d",
   "metadata": {},
   "outputs": [
    {
     "data": {
      "text/plain": [
       "0.7027118644067796"
      ]
     },
     "execution_count": 24,
     "metadata": {},
     "output_type": "execute_result"
    }
   ],
   "source": [
    "bag = BaggingClassifier(estimator = dtree, \n",
    "                        n_estimators = 100, \n",
    "                        random_state = 0, \n",
    "                        bootstrap = True,\n",
    "                        bootstrap_features = True)\n",
    "scores = cross_val_score(bag, X_train, y_train, cv = 5)\n",
    "scores.mean()"
   ]
  },
  {
   "cell_type": "code",
   "execution_count": 25,
   "id": "5beb7b22",
   "metadata": {},
   "outputs": [
    {
     "data": {
      "text/plain": [
       "0.6994350282485875"
      ]
     },
     "execution_count": 25,
     "metadata": {},
     "output_type": "execute_result"
    }
   ],
   "source": [
    "bag = BaggingClassifier(estimator = dtree, \n",
    "                        n_estimators = 100, \n",
    "                        random_state = 0, \n",
    "                        bootstrap = True,\n",
    "                        bootstrap_features = False, \n",
    "                        max_samples = 0.5,\n",
    "                        max_features = 0.5)\n",
    "scores = cross_val_score(bag, X_train, y_train, cv = 5)\n",
    "scores.mean()"
   ]
  },
  {
   "cell_type": "markdown",
   "id": "dcc93b59",
   "metadata": {},
   "source": [
    "### Bagging Classifier with Gaussian Naive Bayes"
   ]
  },
  {
   "cell_type": "code",
   "execution_count": 26,
   "id": "70d13ccc",
   "metadata": {},
   "outputs": [
    {
     "data": {
      "text/plain": [
       "0.6959887005649718"
      ]
     },
     "execution_count": 26,
     "metadata": {},
     "output_type": "execute_result"
    }
   ],
   "source": [
    "bag = BaggingClassifier(estimator = gnb, n_estimators = 100,\n",
    "                        bootstrap = False, bootstrap_features = False, random_state = 0)\n",
    "scores = cross_val_score(bag, X_train, y_train, cv = 5)\n",
    "scores.mean()"
   ]
  },
  {
   "cell_type": "code",
   "execution_count": 27,
   "id": "c32a10be",
   "metadata": {},
   "outputs": [
    {
     "data": {
      "text/plain": [
       "0.7061016949152542"
      ]
     },
     "execution_count": 27,
     "metadata": {},
     "output_type": "execute_result"
    }
   ],
   "source": [
    "bag = BaggingClassifier(estimator = gnb, n_estimators = 100,\n",
    "                       bootstrap = True, bootstrap_features = True, random_state = 0)\n",
    "scores = cross_val_score(bag, X_train, y_train, cv = 5)\n",
    "scores.mean()"
   ]
  },
  {
   "cell_type": "markdown",
   "id": "527d173e",
   "metadata": {},
   "source": [
    "### Bagging Classifier with Perceptron"
   ]
  },
  {
   "cell_type": "code",
   "execution_count": 28,
   "id": "1b78e249",
   "metadata": {},
   "outputs": [
    {
     "data": {
      "text/plain": [
       "0.712824858757062"
      ]
     },
     "execution_count": 28,
     "metadata": {},
     "output_type": "execute_result"
    }
   ],
   "source": [
    "bag = BaggingClassifier(estimator = perceptron, n_estimators = 100, random_state = 0)\n",
    "scores = cross_val_score(bag, X_train, y_train, cv = 5)\n",
    "scores.mean()"
   ]
  },
  {
   "cell_type": "code",
   "execution_count": 29,
   "id": "028c88ca",
   "metadata": {},
   "outputs": [
    {
     "data": {
      "text/plain": [
       "0.7331638418079096"
      ]
     },
     "execution_count": 29,
     "metadata": {},
     "output_type": "execute_result"
    }
   ],
   "source": [
    "bag = BaggingClassifier(estimator = perceptron, n_estimators = 100, \n",
    "                        bootstrap = True, bootstrap_features = True, random_state = 0)\n",
    "scores = cross_val_score(bag, X_train, y_train, cv = 5)\n",
    "scores.mean()"
   ]
  },
  {
   "cell_type": "code",
   "execution_count": 30,
   "id": "6c4085da",
   "metadata": {},
   "outputs": [
    {
     "data": {
      "text/plain": [
       "0.6925988700564971"
      ]
     },
     "execution_count": 30,
     "metadata": {},
     "output_type": "execute_result"
    }
   ],
   "source": [
    "bag = BaggingClassifier(estimator = perceptron, n_estimators = 100, \n",
    "                        bootstrap = True, bootstrap_features = False, \n",
    "                        max_samples = 0.8, max_features = 0.5, random_state = 0)\n",
    "scores = cross_val_score(bag, X_train, y_train, cv = 5)\n",
    "scores.mean()"
   ]
  },
  {
   "cell_type": "markdown",
   "id": "69d95755",
   "metadata": {},
   "source": [
    "### Bagging Classifier with Logistic Regression"
   ]
  },
  {
   "cell_type": "code",
   "execution_count": 31,
   "id": "c5a7643d",
   "metadata": {},
   "outputs": [
    {
     "data": {
      "text/plain": [
       "0.7028813559322035"
      ]
     },
     "execution_count": 31,
     "metadata": {},
     "output_type": "execute_result"
    }
   ],
   "source": [
    "bag = BaggingClassifier(estimator = logreg, n_estimators = 100)\n",
    "scores = cross_val_score(bag, X_train, y_train, cv = 5)\n",
    "scores.mean()"
   ]
  },
  {
   "cell_type": "markdown",
   "id": "45a4609c",
   "metadata": {},
   "source": [
    "# Voting Classifier"
   ]
  },
  {
   "cell_type": "code",
   "execution_count": 32,
   "id": "bf4d1cc4",
   "metadata": {},
   "outputs": [
    {
     "name": "stdout",
     "output_type": "stream",
     "text": [
      "Accuracy: 0.70271 (+/- 0.059) [logistic regression]\n",
      "Accuracy: 0.61836 (+/- 0.030) [decision tree]\n",
      "Accuracy: 0.67243 (+/- 0.053) [gradient boosting]\n"
     ]
    }
   ],
   "source": [
    "cv = StratifiedKFold(n_splits = 5, random_state = 0, shuffle = True)\n",
    "\n",
    "# Logistic Regression\n",
    "logreg = LogisticRegression(random_state = 1)\n",
    "scores = cross_val_score(logreg, X_train, y_train, cv = cv)\n",
    "print(\"Accuracy: %0.5f (+/- %0.3f) [%s]\" % (scores.mean(), scores.std(), 'logistic regression'))\n",
    "pred_1 = cross_val_predict(logreg, X_train, y_train, cv = cv)\n",
    "\n",
    "# Decision Tree Classifier\n",
    "dtree = DecisionTreeClassifier(random_state = 1)\n",
    "scores = cross_val_score(dtree, X_train, y_train, cv = cv)\n",
    "print(\"Accuracy: %0.5f (+/- %0.3f) [%s]\" % (scores.mean(), scores.std(), 'decision tree'))\n",
    "pred_2 = cross_val_predict(dtree, X_train, y_train, cv = cv)\n",
    "\n",
    "# Gradient Boosting Classifier\n",
    "gboost = GradientBoostingClassifier(random_state = 1)\n",
    "scores = cross_val_score(gboost, X_train, y_train, cv = cv)\n",
    "print(\"Accuracy: %0.5f (+/- %0.3f) [%s]\" % (scores.mean(), scores.std(), 'gradient boosting'))\n",
    "pred_3 = cross_val_predict(gboost, X_train, y_train, cv = cv)"
   ]
  },
  {
   "cell_type": "code",
   "execution_count": 33,
   "id": "7811f9bd",
   "metadata": {},
   "outputs": [
    {
     "data": {
      "text/plain": [
       "array([0, 1, 0, 0, 0, 0, 0, 1, 0, 0, 0, 0, 0, 0, 0, 0, 0, 0, 0, 0, 0, 0,\n",
       "       0, 0, 0, 0, 0, 0, 1, 1, 1, 1, 1, 0, 0, 1, 0, 0, 0, 0, 0, 0, 1, 0,\n",
       "       0, 0, 0, 0, 1, 0, 1, 1, 1, 0, 0, 1, 1, 0, 0, 0, 1, 0, 1, 0, 0, 0,\n",
       "       0, 0, 1, 0, 1, 0, 0, 0, 0, 1, 0, 0, 1, 0, 1, 1, 1, 1, 1, 0, 1, 1,\n",
       "       1, 0, 0, 0, 1, 0, 0, 0, 0, 0, 0, 0, 1, 0, 1, 1, 1, 0, 0, 0, 0, 0,\n",
       "       0, 0, 0, 0, 0, 0, 1, 0, 0, 0, 0, 0, 0, 1, 0, 0, 1, 0, 0, 0, 0, 0,\n",
       "       0, 0, 0, 0, 1, 1, 0, 1, 0, 0, 0, 1, 1, 0, 0, 0, 0, 0, 0, 1, 0, 0,\n",
       "       0, 1, 0, 1, 0, 0, 0, 0, 0, 1, 0, 0, 1, 0, 0, 0, 0, 0, 0, 0, 0, 1,\n",
       "       0, 0, 1, 0, 0, 1, 0, 0, 1, 0, 0, 0, 0, 1, 0, 1, 0, 0, 0, 0, 1, 0,\n",
       "       0, 1, 1, 0, 1, 0, 1, 0, 1, 0, 0, 0, 1, 1, 0, 0, 1, 1, 0, 0, 1, 0,\n",
       "       1, 0, 0, 0, 0, 0, 0, 1, 0, 0, 0, 0, 0, 1, 0, 0, 0, 0, 0, 0, 0, 0,\n",
       "       0, 0, 1, 0, 0, 0, 0, 0, 0, 0, 0, 0, 0, 0, 0, 0, 0, 0, 1, 0, 0, 0,\n",
       "       0, 0, 0, 1, 0, 0, 0, 0, 0, 0, 0, 0, 0, 0, 1, 0, 0, 0, 0, 0, 1, 0,\n",
       "       1, 0, 0, 0, 1, 0, 0, 0, 0, 0])"
      ]
     },
     "execution_count": 33,
     "metadata": {},
     "output_type": "execute_result"
    }
   ],
   "source": [
    "pred_1"
   ]
  },
  {
   "cell_type": "code",
   "execution_count": 34,
   "id": "cce476c3",
   "metadata": {},
   "outputs": [
    {
     "data": {
      "text/plain": [
       "array([0, 1, 0, 0, 1, 1, 0, 0, 0, 0, 0, 0, 1, 0, 0, 0, 0, 1, 0, 1, 1, 0,\n",
       "       0, 0, 0, 0, 0, 1, 1, 0, 0, 1, 1, 1, 1, 1, 1, 1, 1, 0, 0, 0, 0, 0,\n",
       "       1, 1, 0, 0, 1, 0, 1, 1, 1, 0, 0, 1, 1, 1, 0, 0, 1, 0, 1, 1, 0, 0,\n",
       "       0, 1, 1, 1, 1, 0, 0, 0, 0, 1, 0, 0, 1, 1, 1, 1, 1, 0, 0, 0, 1, 1,\n",
       "       1, 1, 1, 0, 1, 1, 1, 0, 0, 0, 0, 0, 1, 0, 1, 1, 1, 1, 1, 0, 1, 0,\n",
       "       0, 1, 0, 1, 1, 1, 1, 0, 0, 0, 0, 0, 0, 1, 1, 1, 0, 0, 0, 0, 1, 0,\n",
       "       0, 1, 1, 0, 1, 0, 0, 1, 0, 0, 0, 0, 1, 0, 0, 1, 1, 0, 0, 1, 1, 0,\n",
       "       0, 1, 0, 0, 0, 1, 1, 1, 0, 1, 0, 0, 1, 0, 0, 0, 1, 0, 0, 0, 0, 1,\n",
       "       0, 1, 1, 0, 0, 1, 0, 0, 1, 1, 0, 0, 0, 1, 0, 0, 0, 1, 1, 1, 0, 0,\n",
       "       1, 0, 1, 1, 1, 0, 1, 1, 1, 1, 0, 0, 0, 1, 1, 1, 1, 1, 0, 0, 1, 1,\n",
       "       1, 1, 1, 0, 0, 1, 0, 1, 1, 1, 1, 0, 0, 1, 0, 0, 0, 0, 1, 1, 1, 0,\n",
       "       0, 0, 1, 0, 1, 1, 0, 0, 0, 0, 1, 0, 0, 1, 1, 1, 1, 0, 1, 1, 0, 1,\n",
       "       0, 0, 0, 1, 0, 1, 0, 0, 1, 0, 1, 0, 0, 0, 1, 0, 0, 0, 0, 0, 1, 0,\n",
       "       1, 1, 1, 0, 1, 0, 1, 1, 0, 0])"
      ]
     },
     "execution_count": 34,
     "metadata": {},
     "output_type": "execute_result"
    }
   ],
   "source": [
    "pred_2"
   ]
  },
  {
   "cell_type": "code",
   "execution_count": 35,
   "id": "66a4de32",
   "metadata": {},
   "outputs": [
    {
     "data": {
      "text/plain": [
       "array([0, 1, 0, 1, 1, 1, 0, 1, 0, 0, 0, 0, 0, 0, 0, 0, 0, 1, 0, 0, 1, 0,\n",
       "       0, 0, 0, 0, 0, 1, 1, 1, 1, 1, 1, 0, 0, 0, 0, 0, 1, 0, 0, 1, 1, 1,\n",
       "       0, 0, 1, 0, 1, 0, 1, 1, 1, 0, 1, 1, 1, 0, 0, 0, 1, 0, 1, 1, 1, 0,\n",
       "       0, 0, 1, 0, 1, 0, 0, 0, 0, 1, 1, 0, 1, 0, 0, 1, 1, 0, 1, 0, 1, 1,\n",
       "       1, 1, 1, 0, 1, 0, 1, 0, 0, 1, 0, 0, 1, 0, 1, 1, 1, 1, 0, 0, 0, 0,\n",
       "       0, 0, 1, 0, 1, 1, 1, 0, 0, 0, 0, 0, 0, 1, 0, 0, 0, 0, 0, 0, 0, 0,\n",
       "       0, 0, 0, 0, 1, 0, 0, 1, 0, 0, 0, 0, 1, 0, 0, 1, 0, 1, 0, 1, 0, 0,\n",
       "       1, 1, 0, 1, 0, 0, 0, 1, 0, 1, 0, 0, 0, 0, 1, 0, 1, 0, 0, 0, 0, 1,\n",
       "       1, 1, 1, 0, 0, 1, 0, 0, 1, 0, 0, 0, 1, 1, 0, 1, 0, 0, 0, 1, 1, 0,\n",
       "       0, 1, 1, 0, 1, 0, 1, 1, 1, 1, 1, 0, 1, 1, 0, 1, 1, 1, 0, 0, 1, 0,\n",
       "       1, 0, 0, 0, 0, 1, 0, 1, 0, 1, 1, 0, 0, 1, 0, 0, 1, 0, 0, 0, 0, 0,\n",
       "       0, 0, 1, 0, 1, 0, 0, 1, 0, 1, 0, 0, 1, 0, 1, 0, 0, 0, 1, 0, 0, 0,\n",
       "       1, 0, 0, 1, 0, 1, 1, 0, 1, 0, 1, 0, 0, 0, 1, 0, 0, 1, 0, 0, 1, 0,\n",
       "       1, 0, 0, 0, 1, 0, 1, 0, 0, 0])"
      ]
     },
     "execution_count": 35,
     "metadata": {},
     "output_type": "execute_result"
    }
   ],
   "source": [
    "pred_3"
   ]
  },
  {
   "cell_type": "code",
   "execution_count": 36,
   "id": "719db021",
   "metadata": {},
   "outputs": [
    {
     "data": {
      "text/plain": [
       "array([0, 1, 0, 0, 1, 1, 0, 1, 0, 0, 0, 0, 0, 0, 0, 0, 0, 1, 0, 0, 1, 0,\n",
       "       0, 0, 0, 0, 0, 1, 1, 1, 1, 1, 1, 0, 0, 1, 0, 0, 1, 0, 0, 0, 1, 0,\n",
       "       0, 0, 0, 0, 1, 0, 1, 1, 1, 0, 0, 1, 1, 0, 0, 0, 1, 0, 1, 1, 0, 0,\n",
       "       0, 0, 1, 0, 1, 0, 0, 0, 0, 1, 0, 0, 1, 0, 1, 1, 1, 0, 1, 0, 1, 1,\n",
       "       1, 1, 1, 0, 1, 0, 1, 0, 0, 0, 0, 0, 1, 0, 1, 1, 1, 1, 0, 0, 0, 0,\n",
       "       0, 0, 0, 0, 1, 1, 1, 0, 0, 0, 0, 0, 0, 1, 0, 0, 0, 0, 0, 0, 0, 0,\n",
       "       0, 0, 0, 0, 1, 0, 0, 1, 0, 0, 0, 0, 1, 0, 0, 1, 0, 0, 0, 1, 0, 0,\n",
       "       0, 1, 0, 1, 0, 0, 0, 1, 0, 1, 0, 0, 1, 0, 0, 0, 1, 0, 0, 0, 0, 1,\n",
       "       0, 1, 1, 0, 0, 1, 0, 0, 1, 0, 0, 0, 0, 1, 0, 1, 0, 0, 0, 1, 1, 0,\n",
       "       0, 1, 1, 0, 1, 0, 1, 1, 1, 1, 0, 0, 1, 1, 0, 1, 1, 1, 0, 0, 1, 0,\n",
       "       1, 0, 0, 0, 0, 1, 0, 1, 0, 1, 1, 0, 0, 1, 0, 0, 0, 0, 0, 0, 0, 0,\n",
       "       0, 0, 1, 0, 1, 0, 0, 0, 0, 0, 0, 0, 0, 0, 1, 0, 0, 0, 1, 0, 0, 0,\n",
       "       0, 0, 0, 1, 0, 1, 0, 0, 1, 0, 1, 0, 0, 0, 1, 0, 0, 0, 0, 0, 1, 0,\n",
       "       1, 0, 0, 0, 1, 0, 1, 0, 0, 0])"
      ]
     },
     "execution_count": 36,
     "metadata": {},
     "output_type": "execute_result"
    }
   ],
   "source": [
    "pred_vote = ((pred_1 + pred_2 + pred_3)/3 > 0.5).astype(int)\n",
    "pred_vote"
   ]
  },
  {
   "cell_type": "code",
   "execution_count": 37,
   "id": "ac403e37",
   "metadata": {},
   "outputs": [
    {
     "data": {
      "text/plain": [
       "0.6891891891891891"
      ]
     },
     "execution_count": 37,
     "metadata": {},
     "output_type": "execute_result"
    }
   ],
   "source": [
    "metrics.accuracy_score(y_train, pred_vote)"
   ]
  },
  {
   "cell_type": "markdown",
   "id": "6d880841",
   "metadata": {},
   "source": [
    "### Voting Classifier with Hard Voting"
   ]
  },
  {
   "cell_type": "code",
   "execution_count": 38,
   "id": "793c2b09",
   "metadata": {},
   "outputs": [],
   "source": [
    "clf1 = LogisticRegression(random_state = 1)\n",
    "clf2 = DecisionTreeClassifier(random_state = 1)\n",
    "clf3 = GradientBoostingClassifier(random_state = 1)"
   ]
  },
  {
   "cell_type": "code",
   "execution_count": 39,
   "id": "7830bce4",
   "metadata": {},
   "outputs": [
    {
     "name": "stdout",
     "output_type": "stream",
     "text": [
      "Accuracy: 0.70271 (+/- 0.059) [Logistic Regression]\n",
      "Accuracy: 0.61836 (+/- 0.030) [Decision Tree]\n",
      "Accuracy: 0.67243 (+/- 0.053) [Gradient Boosting]\n",
      "Accuracy: 0.68921 (+/- 0.066) [Ensemble]\n"
     ]
    }
   ],
   "source": [
    "eclf = VotingClassifier(estimators = [('lr', clf1), ('dtree', clf2), ('gboost', clf3)],\n",
    "                        voting = 'hard')\n",
    "\n",
    "for clf, label in zip([clf1, clf2, clf3, eclf], \n",
    "                      ['Logistic Regression', 'Decision Tree', 'Gradient Boosting', 'Ensemble']):\n",
    "    scores = cross_val_score(clf, X_train, y_train, scoring = 'accuracy', cv = cv)\n",
    "    print(\"Accuracy: %0.5f (+/- %0.3f) [%s]\" % (scores.mean(), scores.std(), label))"
   ]
  },
  {
   "cell_type": "markdown",
   "id": "1ecac858",
   "metadata": {},
   "source": [
    "### Voting Classifier with Soft Voting"
   ]
  },
  {
   "cell_type": "code",
   "execution_count": 40,
   "id": "eaa719f1",
   "metadata": {},
   "outputs": [
    {
     "name": "stdout",
     "output_type": "stream",
     "text": [
      "Accuracy: 0.703 (+/- 0.043) [Logistic Regression]\n",
      "Accuracy: 0.649 (+/- 0.072) [Decision Tree]\n",
      "Accuracy: 0.676 (+/- 0.053) [Gradient Boosting]\n",
      "Accuracy: 0.662 (+/- 0.065) [Ensemble]\n"
     ]
    }
   ],
   "source": [
    "eclf = VotingClassifier(estimators=[('lr', clf1), ('dtree', clf2), ('gboost', clf3)],\n",
    "                        voting = 'soft')\n",
    "\n",
    "for clf, label in zip([clf1, clf2, clf3, eclf], \n",
    "                      ['Logistic Regression', 'Decision Tree', 'Gradient Boosting', 'Ensemble']):\n",
    "    scores = cross_val_score(clf, X_train, y_train, scoring='accuracy', cv = 5)\n",
    "    print(\"Accuracy: %0.3f (+/- %0.3f) [%s]\" % (scores.mean(), scores.std(), label))"
   ]
  },
  {
   "cell_type": "markdown",
   "id": "2034dd2d",
   "metadata": {},
   "source": [
    "### Voting Classifier with Hard Voting with Different Weights"
   ]
  },
  {
   "cell_type": "code",
   "execution_count": 41,
   "id": "34c8977b",
   "metadata": {},
   "outputs": [
    {
     "name": "stdout",
     "output_type": "stream",
     "text": [
      "Accuracy: 0.70271 (+/- 0.059) [Logistic Regression]\n",
      "Accuracy: 0.61836 (+/- 0.030) [Decision Tree]\n",
      "Accuracy: 0.67243 (+/- 0.053) [Gradient Boosting]\n",
      "Accuracy: 0.69599 (+/- 0.063) [Ensemble]\n"
     ]
    }
   ],
   "source": [
    "eclf = VotingClassifier(estimators=[('lr', clf1), ('dtree', clf2), ('gboost', clf3)],\n",
    "                        voting = 'hard', weights = [2, 1, 1])\n",
    "\n",
    "for clf, label in zip([clf1, clf2, clf3, eclf], \n",
    "                      ['Logistic Regression', 'Decision Tree', 'Gradient Boosting', 'Ensemble']):\n",
    "    scores = cross_val_score(clf, X_train, y_train, scoring = 'accuracy', cv = cv)\n",
    "    print(\"Accuracy: %0.5f (+/- %0.3f) [%s]\" % (scores.mean(), scores.std(), label))"
   ]
  },
  {
   "cell_type": "markdown",
   "id": "9b8bfa7f",
   "metadata": {},
   "source": [
    "## Voting Classifier with new set of classifiers"
   ]
  },
  {
   "cell_type": "code",
   "execution_count": 42,
   "id": "94c2eccc",
   "metadata": {},
   "outputs": [],
   "source": [
    "iris = datasets.load_iris()\n",
    "X, y = iris.data[:, 1:3], iris.target"
   ]
  },
  {
   "cell_type": "code",
   "execution_count": 43,
   "id": "bf4b9f78",
   "metadata": {},
   "outputs": [],
   "source": [
    "clf1 = LogisticRegression(random_state = 1)\n",
    "clf2 = RandomForestClassifier(n_estimators = 50, random_state = 1)\n",
    "clf3 = GaussianNB()\n",
    "clf4 = AdaBoostClassifier(random_state = 1)"
   ]
  },
  {
   "cell_type": "code",
   "execution_count": 44,
   "id": "da2d5a6d",
   "metadata": {},
   "outputs": [
    {
     "name": "stdout",
     "output_type": "stream",
     "text": [
      "Accuracy: 0.703 (+/- 0.043) [Logistic Regression]\n",
      "Accuracy: 0.720 (+/- 0.054) [Random Forest]\n",
      "Accuracy: 0.696 (+/- 0.040) [Naive Bayes]\n",
      "Accuracy: 0.652 (+/- 0.063) [Adaboost]\n",
      "Accuracy: 0.706 (+/- 0.051) [Ensemble]\n"
     ]
    }
   ],
   "source": [
    "eclf = VotingClassifier(estimators=[('lr', clf1), ('rf', clf2), ('gnb', clf3), ('adaboost', clf4)],\n",
    "                        voting = 'hard')\n",
    "\n",
    "for clf, label in zip([clf1, clf2, clf3, clf4, eclf], \n",
    "                      ['Logistic Regression', 'Random Forest', 'Naive Bayes', 'Adaboost', 'Ensemble']):\n",
    "    scores = cross_val_score(clf, X_train, y_train, scoring = 'accuracy', cv = 5)\n",
    "    print(\"Accuracy: %0.3f (+/- %0.3f) [%s]\" % (scores.mean(), scores.std(), label))"
   ]
  },
  {
   "cell_type": "code",
   "execution_count": 45,
   "id": "c91c06e7",
   "metadata": {},
   "outputs": [
    {
     "name": "stdout",
     "output_type": "stream",
     "text": [
      "Accuracy: 0.703 (+/- 0.043) [Logistic Regression]\n",
      "Accuracy: 0.720 (+/- 0.054) [Random Forest]\n",
      "Accuracy: 0.696 (+/- 0.040) [Naive Bayes]\n",
      "Accuracy: 0.652 (+/- 0.063) [Adaboost]\n",
      "Accuracy: 0.710 (+/- 0.048) [Ensemble]\n"
     ]
    }
   ],
   "source": [
    "eclf = VotingClassifier(estimators=[('lr', clf1), ('rf', clf2), ('gnb', clf3), ('adaboost', clf4)],\n",
    "                        voting = 'soft')\n",
    "\n",
    "for clf, label in zip([clf1, clf2, clf3, clf4, eclf], \n",
    "                      ['Logistic Regression', 'Random Forest', 'Naive Bayes', 'Adaboost', 'Ensemble']):\n",
    "    scores = cross_val_score(clf, X_train, y_train, scoring = 'accuracy', cv = 5)\n",
    "    print(\"Accuracy: %0.3f (+/- %0.3f) [%s]\" % (scores.mean(), scores.std(), label))"
   ]
  },
  {
   "cell_type": "code",
   "execution_count": 46,
   "id": "b11deca6",
   "metadata": {},
   "outputs": [],
   "source": [
    "clf1 = LogisticRegression(random_state = 1)\n",
    "clf2 = RandomForestClassifier(n_estimators = 50, random_state = 1)\n",
    "clf3 = GaussianNB()\n",
    "clf4 = GradientBoostingClassifier(random_state = 1)"
   ]
  },
  {
   "cell_type": "code",
   "execution_count": 47,
   "id": "d182425c",
   "metadata": {},
   "outputs": [
    {
     "name": "stdout",
     "output_type": "stream",
     "text": [
      "Accuracy: 0.703 (+/- 0.043) [Logistic Regression]\n",
      "Accuracy: 0.720 (+/- 0.054) [Random Forest]\n",
      "Accuracy: 0.696 (+/- 0.040) [Naive Bayes]\n",
      "Accuracy: 0.676 (+/- 0.053) [Gboost]\n",
      "Accuracy: 0.716 (+/- 0.051) [Ensemble]\n"
     ]
    }
   ],
   "source": [
    "eclf = VotingClassifier(estimators=[('lr', clf1), ('rf', clf2), ('gnb', clf3), ('gboost', clf4)],\n",
    "                        voting = 'soft')\n",
    "\n",
    "for clf, label in zip([clf1, clf2, clf3, clf4, eclf], \n",
    "                      ['Logistic Regression', 'Random Forest', 'Naive Bayes', 'Gboost', 'Ensemble']):\n",
    "    scores = cross_val_score(clf, X_train, y_train, scoring = 'accuracy', cv = 5)\n",
    "    print(\"Accuracy: %0.3f (+/- %0.3f) [%s]\" % (scores.mean(), scores.std(), label))"
   ]
  },
  {
   "cell_type": "code",
   "execution_count": 48,
   "id": "25587dd7",
   "metadata": {},
   "outputs": [
    {
     "name": "stdout",
     "output_type": "stream",
     "text": [
      "Accuracy: 0.703 (+/- 0.043) [Logistic Regression]\n",
      "Accuracy: 0.720 (+/- 0.054) [Random Forest]\n",
      "Accuracy: 0.696 (+/- 0.040) [Naive Bayes]\n",
      "Accuracy: 0.676 (+/- 0.053) [Gboost]\n",
      "Accuracy: 0.723 (+/- 0.052) [Ensemble]\n"
     ]
    }
   ],
   "source": [
    "eclf = VotingClassifier(estimators=[('lr', clf1), ('rf', clf2), ('gnb', clf3), ('gboost', clf4)],\n",
    "                        voting = 'soft', weights = [3, 4, 2, 1])\n",
    "\n",
    "for clf, label in zip([clf1, clf2, clf3, clf4, eclf], \n",
    "                      ['Logistic Regression', 'Random Forest', 'Naive Bayes', 'Gboost', 'Ensemble']):\n",
    "    scores = cross_val_score(clf, X_train, y_train, scoring = 'accuracy', cv = 5)\n",
    "    print(\"Accuracy: %0.3f (+/- %0.3f) [%s]\" % (scores.mean(), scores.std(), label))"
   ]
  }
 ],
 "metadata": {
  "kernelspec": {
   "display_name": "Python 3",
   "language": "python",
   "name": "python3"
  },
  "language_info": {
   "codemirror_mode": {
    "name": "ipython",
    "version": 3
   },
   "file_extension": ".py",
   "mimetype": "text/x-python",
   "name": "python",
   "nbconvert_exporter": "python",
   "pygments_lexer": "ipython3",
   "version": "3.9.11"
  }
 },
 "nbformat": 4,
 "nbformat_minor": 5
}
