{
 "cells": [
  {
   "cell_type": "code",
   "execution_count": 1,
   "metadata": {},
   "outputs": [
    {
     "data": {
      "text/plain": [
       "[1, 2, 3, 4, 5, 6, 7, 8, 9, 10, 11, 12]"
      ]
     },
     "execution_count": 1,
     "metadata": {},
     "output_type": "execute_result"
    }
   ],
   "source": [
    "from sklearn.model_selection import *\n",
    "import numpy as np\n",
    "\n",
    "X = range(1, 13)\n",
    "list(X)"
   ]
  },
  {
   "cell_type": "code",
   "execution_count": 2,
   "metadata": {},
   "outputs": [
    {
     "data": {
      "text/plain": [
       "array([0, 0, 0, 0, 0, 0, 1, 1, 1, 1, 1, 1])"
      ]
     },
     "execution_count": 2,
     "metadata": {},
     "output_type": "execute_result"
    }
   ],
   "source": [
    "y = [0] * 6 + [1] * 6 \n",
    "y = np.array(y)\n",
    "y"
   ]
  },
  {
   "cell_type": "code",
   "execution_count": 3,
   "metadata": {},
   "outputs": [
    {
     "data": {
      "text/plain": [
       "[1, 2, 3, 1, 2, 3, 1, 2, 3, 1, 2, 3]"
      ]
     },
     "execution_count": 3,
     "metadata": {},
     "output_type": "execute_result"
    }
   ],
   "source": [
    "group = [1,2,3] * 4\n",
    "group"
   ]
  },
  {
   "cell_type": "code",
   "execution_count": 4,
   "metadata": {},
   "outputs": [],
   "source": [
    "kf = KFold(n_splits = 3, shuffle = False)\n",
    "kf_shuffled = KFold(n_splits = 3, shuffle = True)\n",
    "\n",
    "# repeats K-Fold n times with different randomization in each repetition\n",
    "rkf = RepeatedKFold(n_splits = 3, n_repeats = 2)\n",
    "\n",
    "# leave P out\n",
    "loo = LeaveOneOut()\n",
    "lpo = LeavePOut(2)\n",
    "\n",
    "# random permutation cross-validator\n",
    "# random splits do not guarantee that all folds will be different\n",
    "ss = ShuffleSplit(n_splits = 5, test_size = 0.25)\n"
   ]
  },
  {
   "cell_type": "code",
   "execution_count": 7,
   "metadata": {},
   "outputs": [
    {
     "name": "stdout",
     "output_type": "stream",
     "text": [
      "\n",
      " CV Split:  KFold \n",
      "\n",
      "\n",
      "Index: [ 4  5  6  7  8  9 10 11] [0 1 2 3]\n",
      "Train target: [0 0 1 1 1 1 1 1] \n",
      "Test target: [0 0 0 0]\n",
      "\n",
      "Index: [ 0  1  2  3  8  9 10 11] [4 5 6 7]\n",
      "Train target: [0 0 0 0 1 1 1 1] \n",
      "Test target: [0 0 1 1]\n",
      "\n",
      "Index: [0 1 2 3 4 5 6 7] [ 8  9 10 11]\n",
      "Train target: [0 0 0 0 0 0 1 1] \n",
      "Test target: [1 1 1 1]\n",
      "---------------------\n",
      "\n",
      " CV Split:  KFold \n",
      "\n",
      "\n",
      "Index: [ 0  1  4  5  6  7 10 11] [2 3 8 9]\n",
      "Train target: [0 0 0 0 1 1 1 1] \n",
      "Test target: [0 0 1 1]\n",
      "\n",
      "Index: [1 2 3 4 5 6 8 9] [ 0  7 10 11]\n",
      "Train target: [0 0 0 0 0 1 1 1] \n",
      "Test target: [0 1 1 1]\n",
      "\n",
      "Index: [ 0  2  3  7  8  9 10 11] [1 4 5 6]\n",
      "Train target: [0 0 0 1 1 1 1 1] \n",
      "Test target: [0 0 0 1]\n",
      "---------------------\n",
      "\n",
      " CV Split:  RepeatedKFold \n",
      "\n",
      "\n",
      "Index: [ 0  1  2  3  4  5  6 10] [ 7  8  9 11]\n",
      "Train target: [0 0 0 0 0 0 1 1] \n",
      "Test target: [1 1 1 1]\n",
      "\n",
      "Index: [ 2  5  6  7  8  9 10 11] [0 1 3 4]\n",
      "Train target: [0 0 1 1 1 1 1 1] \n",
      "Test target: [0 0 0 0]\n",
      "\n",
      "Index: [ 0  1  3  4  7  8  9 11] [ 2  5  6 10]\n",
      "Train target: [0 0 0 0 1 1 1 1] \n",
      "Test target: [0 0 1 1]\n",
      "\n",
      "Index: [ 0  1  3  4  5  6  8 11] [ 2  7  9 10]\n",
      "Train target: [0 0 0 0 0 1 1 1] \n",
      "Test target: [0 1 1 1]\n",
      "\n",
      "Index: [ 0  2  3  4  5  7  9 10] [ 1  6  8 11]\n",
      "Train target: [0 0 0 0 0 1 1 1] \n",
      "Test target: [0 1 1 1]\n",
      "\n",
      "Index: [ 1  2  6  7  8  9 10 11] [0 3 4 5]\n",
      "Train target: [0 0 1 1 1 1 1 1] \n",
      "Test target: [0 0 0 0]\n",
      "---------------------\n",
      "\n",
      " CV Split:  LeaveOneOut \n",
      "\n",
      "\n",
      "Index: [ 1  2  3  4  5  6  7  8  9 10 11] [0]\n",
      "Train target: [0 0 0 0 0 1 1 1 1 1 1] \n",
      "Test target: [0]\n",
      "\n",
      "Index: [ 0  2  3  4  5  6  7  8  9 10 11] [1]\n",
      "Train target: [0 0 0 0 0 1 1 1 1 1 1] \n",
      "Test target: [0]\n",
      "\n",
      "Index: [ 0  1  3  4  5  6  7  8  9 10 11] [2]\n",
      "Train target: [0 0 0 0 0 1 1 1 1 1 1] \n",
      "Test target: [0]\n",
      "\n",
      "Index: [ 0  1  2  4  5  6  7  8  9 10 11] [3]\n",
      "Train target: [0 0 0 0 0 1 1 1 1 1 1] \n",
      "Test target: [0]\n",
      "\n",
      "Index: [ 0  1  2  3  5  6  7  8  9 10 11] [4]\n",
      "Train target: [0 0 0 0 0 1 1 1 1 1 1] \n",
      "Test target: [0]\n",
      "\n",
      "Index: [ 0  1  2  3  4  6  7  8  9 10 11] [5]\n",
      "Train target: [0 0 0 0 0 1 1 1 1 1 1] \n",
      "Test target: [0]\n",
      "\n",
      "Index: [ 0  1  2  3  4  5  7  8  9 10 11] [6]\n",
      "Train target: [0 0 0 0 0 0 1 1 1 1 1] \n",
      "Test target: [1]\n",
      "\n",
      "Index: [ 0  1  2  3  4  5  6  8  9 10 11] [7]\n",
      "Train target: [0 0 0 0 0 0 1 1 1 1 1] \n",
      "Test target: [1]\n",
      "\n",
      "Index: [ 0  1  2  3  4  5  6  7  9 10 11] [8]\n",
      "Train target: [0 0 0 0 0 0 1 1 1 1 1] \n",
      "Test target: [1]\n",
      "\n",
      "Index: [ 0  1  2  3  4  5  6  7  8 10 11] [9]\n",
      "Train target: [0 0 0 0 0 0 1 1 1 1 1] \n",
      "Test target: [1]\n",
      "\n",
      "Index: [ 0  1  2  3  4  5  6  7  8  9 11] [10]\n",
      "Train target: [0 0 0 0 0 0 1 1 1 1 1] \n",
      "Test target: [1]\n",
      "---------------------\n",
      "\n",
      " CV Split:  LeavePOut \n",
      "\n",
      "\n",
      "Index: [ 2  3  4  5  6  7  8  9 10 11] [0 1]\n",
      "Train target: [0 0 0 0 1 1 1 1 1 1] \n",
      "Test target: [0 0]\n",
      "\n",
      "Index: [ 1  3  4  5  6  7  8  9 10 11] [0 2]\n",
      "Train target: [0 0 0 0 1 1 1 1 1 1] \n",
      "Test target: [0 0]\n",
      "\n",
      "Index: [ 1  2  4  5  6  7  8  9 10 11] [0 3]\n",
      "Train target: [0 0 0 0 1 1 1 1 1 1] \n",
      "Test target: [0 0]\n",
      "\n",
      "Index: [ 1  2  3  5  6  7  8  9 10 11] [0 4]\n",
      "Train target: [0 0 0 0 1 1 1 1 1 1] \n",
      "Test target: [0 0]\n",
      "\n",
      "Index: [ 1  2  3  4  6  7  8  9 10 11] [0 5]\n",
      "Train target: [0 0 0 0 1 1 1 1 1 1] \n",
      "Test target: [0 0]\n",
      "\n",
      "Index: [ 1  2  3  4  5  7  8  9 10 11] [0 6]\n",
      "Train target: [0 0 0 0 0 1 1 1 1 1] \n",
      "Test target: [0 1]\n",
      "\n",
      "Index: [ 1  2  3  4  5  6  8  9 10 11] [0 7]\n",
      "Train target: [0 0 0 0 0 1 1 1 1 1] \n",
      "Test target: [0 1]\n",
      "\n",
      "Index: [ 1  2  3  4  5  6  7  9 10 11] [0 8]\n",
      "Train target: [0 0 0 0 0 1 1 1 1 1] \n",
      "Test target: [0 1]\n",
      "\n",
      "Index: [ 1  2  3  4  5  6  7  8 10 11] [0 9]\n",
      "Train target: [0 0 0 0 0 1 1 1 1 1] \n",
      "Test target: [0 1]\n",
      "\n",
      "Index: [ 1  2  3  4  5  6  7  8  9 11] [ 0 10]\n",
      "Train target: [0 0 0 0 0 1 1 1 1 1] \n",
      "Test target: [0 1]\n",
      "\n",
      "Index: [ 1  2  3  4  5  6  7  8  9 10] [ 0 11]\n",
      "Train target: [0 0 0 0 0 1 1 1 1 1] \n",
      "Test target: [0 1]\n",
      "---------------------\n",
      "\n",
      " CV Split:  ShuffleSplit \n",
      "\n",
      "\n",
      "Index: [ 7  6 10  1  0  3 11  8  2] [4 5 9]\n",
      "Train target: [1 1 1 0 0 0 1 1 0] \n",
      "Test target: [0 0 1]\n",
      "\n",
      "Index: [10  3  1 11  4  0  6  7  2] [9 5 8]\n",
      "Train target: [1 0 0 1 0 0 1 1 0] \n",
      "Test target: [1 0 1]\n",
      "\n",
      "Index: [11  7  8  2 10  1  6  0  5] [9 3 4]\n",
      "Train target: [1 1 1 0 1 0 1 0 0] \n",
      "Test target: [1 0 0]\n",
      "\n",
      "Index: [ 9 11  6  0  1  2  5  8  4] [10  7  3]\n",
      "Train target: [1 1 1 0 0 0 0 1 0] \n",
      "Test target: [1 1 0]\n",
      "\n",
      "Index: [ 9  5  0 11  1  3 10  7  6] [2 8 4]\n",
      "Train target: [1 0 0 1 0 0 1 1 1] \n",
      "Test target: [0 1 0]\n",
      "---------------------\n"
     ]
    }
   ],
   "source": [
    "cvs = [kf, kf_shuffled, rkf, loo, lpo, ss]\n",
    "\n",
    "for cv in cvs:\n",
    "    i = 0\n",
    "    print(\"\\n CV Split: \", cv.__class__.__name__, \"\\n\")\n",
    "    for train, test in cv.split(X, y):\n",
    "        print(\"\\nIndex: %s %s\" % (train, test))\n",
    "        print(\"Train target: %s \\nTest target: %s\" % (y[train], y[test]))\n",
    "        i = i + 1\n",
    "        if i > 10:\n",
    "            break\n",
    "    print(\"---------------------\")"
   ]
  },
  {
   "cell_type": "code",
   "execution_count": 6,
   "metadata": {},
   "outputs": [
    {
     "name": "stdout",
     "output_type": "stream",
     "text": [
      "\n",
      " CV Split:  StratifiedKFold \n",
      "\n",
      "\n",
      "Index: [ 2  3  4  5  8  9 10 11] [0 1 6 7]\n",
      "Train target: [0 0 0 0 1 1 1 1] \n",
      "Test target: [0 0 1 1]\n",
      "\n",
      "Index: [ 0  1  4  5  6  7 10 11] [2 3 8 9]\n",
      "Train target: [0 0 0 0 1 1 1 1] \n",
      "Test target: [0 0 1 1]\n",
      "\n",
      "Index: [0 1 2 3 6 7 8 9] [ 4  5 10 11]\n",
      "Train target: [0 0 0 0 1 1 1 1] \n",
      "Test target: [0 0 1 1]\n",
      "---------------------\n"
     ]
    }
   ],
   "source": [
    "skf = StratifiedKFold(n_splits = 3)\n",
    "cvs = [skf]\n",
    "\n",
    "for cv in cvs:\n",
    "    print(\"\\n CV Split: \", cv.__class__.__name__, \"\\n\")\n",
    "    for train, test in cv.split(X, y):\n",
    "        print(\"\\nIndex: %s %s\" % (train, test))\n",
    "        print(\"Train target: %s \\nTest target: %s\" % (y[train], y[test]))\n",
    "    print(\"---------------------\")"
   ]
  }
 ],
 "metadata": {
  "kernelspec": {
   "display_name": "Python 3",
   "language": "python",
   "name": "python3"
  },
  "language_info": {
   "codemirror_mode": {
    "name": "ipython",
    "version": 3
   },
   "file_extension": ".py",
   "mimetype": "text/x-python",
   "name": "python",
   "nbconvert_exporter": "python",
   "pygments_lexer": "ipython3",
   "version": "3.9.11"
  },
  "toc": {
   "base_numbering": 1,
   "nav_menu": {},
   "number_sections": false,
   "sideBar": false,
   "skip_h1_title": false,
   "title_cell": "Table of Contents",
   "title_sidebar": "Contents",
   "toc_cell": false,
   "toc_position": {},
   "toc_section_display": false,
   "toc_window_display": false
  }
 },
 "nbformat": 4,
 "nbformat_minor": 4
}
